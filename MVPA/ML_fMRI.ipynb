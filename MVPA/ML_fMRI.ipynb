{
 "cells": [
  {
   "cell_type": "markdown",
   "id": "7db4fe35-977f-43c3-8366-af061719f09a",
   "metadata": {},
   "source": [
    "# ML 분석 with fMRI"
   ]
  },
  {
   "cell_type": "markdown",
   "id": "8341e1ce-721c-4e96-939b-5be34fee505d",
   "metadata": {},
   "source": [
    "디코딩 분석에는 항상 두 가지 데이터 세트가 필요. R(response)랑 예측하려는 단일 실험적 feature : S(stimuli)\n",
    "\n",
    "incoding 분석 : 독립변수(`feature`)를 사용하여 종속변수(`brain data`)를 예측\n",
    "\n",
    "decoding 분석 : 독립변수(`brain pattern`)를 사용하여 종속변수(`feature`)를 예측"
   ]
  },
  {
   "cell_type": "code",
   "execution_count": 1,
   "id": "1977723b-893c-4157-bc86-2afd19426a3b",
   "metadata": {},
   "outputs": [],
   "source": [
    "# R = brain data, S = Y값\n",
    "\n",
    "from nilearn import image\n",
    "bold = image.load_img('D:/fmri/3. derivatives 폴더에 넣어야 하는 것 (전처리 후 데이터, MNI 템플릿)/fmriprep/sub-ID2207071/func/sub-ID2207071_task-r1_space-MNI152NLin2009cAsym_desc-preproc_bold.nii.gz')"
   ]
  },
  {
   "cell_type": "code",
   "execution_count": 16,
   "id": "3a1db35a-10f2-444d-b289-86ab0b288676",
   "metadata": {},
   "outputs": [],
   "source": [
    "# confounds\n",
    "import pandas as pd\n",
    "\n",
    "'''\n",
    ", '2207272', '2207273',\n",
    "          '2208041', '2208042', '2208043', '2208231', '2208232', '2208233', '2209022',\n",
    "          '2209023', '2209222', '2209223', '2303101', '2303102', '2303103', '2303131',\n",
    "          '2303132', '2303133', '2303161', '2303162', '2303163', '2303201', '2303202', '2303203'\n",
    "'''\n",
    "\n",
    "base_path = 'D:/fmri/3. derivatives 폴더에 넣어야 하는 것 (전처리 후 데이터, MNI 템플릿)/fmriprep/sub-ID{}/func/sub-ID{}_task-r1_desc-confounds_timeseries.tsv'\n",
    "sub_ids = ['2207071']\n",
    "\n",
    "con_list = []\n",
    "\n",
    "for sub_id in sub_ids:\n",
    "    file_path = base_path.format(sub_id, sub_id)\n",
    "    con = pd.read_csv(file_path, sep='\\t')\n",
    "\n",
    "    con1 = con.fillna(con.mean())\n",
    "\n",
    "    con_list.append(pd.DataFrame(con1))\n",
    "    "
   ]
  },
  {
   "cell_type": "code",
   "execution_count": 17,
   "id": "8998b424-4965-4c04-a6f8-dee808c3e48f",
   "metadata": {},
   "outputs": [
    {
     "data": {
      "text/plain": [
       "1"
      ]
     },
     "execution_count": 17,
     "metadata": {},
     "output_type": "execute_result"
    }
   ],
   "source": [
    "len(con_list)"
   ]
  },
  {
   "cell_type": "code",
   "execution_count": 2,
   "id": "2953488e-bac8-472c-be0e-8b6174b8da49",
   "metadata": {},
   "outputs": [
    {
     "data": {
      "text/plain": [
       "325325"
      ]
     },
     "execution_count": 2,
     "metadata": {},
     "output_type": "execute_result"
    }
   ],
   "source": [
    "import numpy as np\n",
    "R = bold.get_fdata()\n",
    "n_voxels = np.prod(R.shape[:-1])\n",
    "n_voxels"
   ]
  },
  {
   "cell_type": "code",
   "execution_count": 3,
   "id": "06753f7f-fc12-4ce6-aaf6-5410709c8c1d",
   "metadata": {},
   "outputs": [
    {
     "data": {
      "text/plain": [
       "array([[ 0.        ,  0.        ,  0.        , ..., 12.63614931,\n",
       "        10.55599697,  9.18992677],\n",
       "       [11.02170272, 10.33866762,  9.81086777, ..., 11.92206717,\n",
       "        13.78489016, 12.48091406],\n",
       "       [12.88452571,  9.46935022,  9.15887972, ...,  8.01013888,\n",
       "         8.47584463,  8.87945627],\n",
       "       ...,\n",
       "       [ 9.84191482, 10.02819712, 14.34373706, ..., 10.24552647,\n",
       "         9.43830317, 12.29463176],\n",
       "       [12.72929046, 10.33866762, 12.10834946, ...,  5.52637488,\n",
       "         7.26500968,  6.89244508],\n",
       "       [ 0.        ,  0.        ,  0.        , ...,  0.        ,\n",
       "         0.        ,  0.        ]])"
      ]
     },
     "execution_count": 3,
     "metadata": {},
     "output_type": "execute_result"
    }
   ],
   "source": [
    "X = R.reshape(-1, n_voxels)\n",
    "X = np.array(X)\n",
    "X"
   ]
  },
  {
   "cell_type": "code",
   "execution_count": 4,
   "id": "02afa9c1-9fb4-4493-990f-12c49374263b",
   "metadata": {},
   "outputs": [
    {
     "data": {
      "text/plain": [
       "(275, 325325)"
      ]
     },
     "execution_count": 4,
     "metadata": {},
     "output_type": "execute_result"
    }
   ],
   "source": [
    "X.shape"
   ]
  },
  {
   "cell_type": "code",
   "execution_count": 15,
   "id": "a4fed0b6-feba-43c0-8e76-6652ad86dd1d",
   "metadata": {},
   "outputs": [],
   "source": [
    "import pandas as pd\n",
    "import numpy as np\n",
    "'''\n",
    ", '2207272', '2207273',\n",
    "          '2208041', '2208042', '2208043', '2208231', '2208232', '2208233', '2209022',\n",
    "          '2209023', '2209222', '2209223', '2303101', '2303102', '2303103', '2303131',\n",
    "          '2303132', '2303133', '2303161', '2303162', '2303163', '2303201', '2303202', '2303203'\n",
    "'''\n",
    "\n",
    "base_path = 'D:/fmri/3. derivatives 폴더에 넣어야 하는 것 (전처리 후 데이터, MNI 템플릿)/fmriprep/sub-ID{}/eve_files/sub-ID{}_task-r1_events.tsv'\n",
    "sub_ids = ['2207071']\n",
    "\n",
    "from scipy.interpolate import interp1d\n",
    "\n",
    "onset_list = []\n",
    "\n",
    "for sub_id in sub_ids:\n",
    "    file_path = base_path.format(sub_id, sub_id)\n",
    "    onset_file = pd.read_csv(file_path, sep='\\t')\n",
    "\n",
    "    events = onset_file['stim_onset'].values\n",
    "    predictor_all = np.zeros(550, dtype=int)\n",
    "    \n",
    "    for i in range(4):\n",
    "         events1 = events.astype(int) + i\n",
    "         predictor_all[events1.astype(int)] = 1\n",
    "\n",
    "    original_scale = np.arange(0, 550, 1) # 0~550 초\n",
    "    resampler = interp1d(original_scale, predictor_all)\n",
    "\n",
    "    desired_scale = np.arange(0, 550, 2)\n",
    "    y = resampler(desired_scale)\n",
    "\n",
    "    onset_list.append(y)"
   ]
  },
  {
   "cell_type": "code",
   "execution_count": 20,
   "id": "4d61de14-b65a-4176-9e92-a0c22ccdbdd4",
   "metadata": {},
   "outputs": [
    {
     "data": {
      "text/plain": [
       "array([0., 0., 0., 0., 0., 1., 1., 0., 0., 1., 1., 0., 0., 0., 0., 1., 1.,\n",
       "       0., 0., 1., 1., 0., 0., 1., 1., 0., 0., 0., 1., 1., 0., 0., 1., 1.,\n",
       "       0., 0., 0., 1., 1., 0., 0., 1., 1., 0., 0., 1., 1., 0., 0., 0., 0.,\n",
       "       0., 1., 1., 0., 0., 1., 1., 0., 0., 1., 1., 0., 0., 0., 1., 1., 0.,\n",
       "       0., 1., 1., 0., 0., 0., 1., 1., 0., 0., 0., 1., 1., 0., 0., 1., 1.,\n",
       "       0., 0., 0., 1., 1., 0., 0., 1., 1., 0., 0., 1., 1., 0., 0., 0., 1.,\n",
       "       1., 0., 0., 1., 1., 0., 0., 1., 1., 0., 0., 1., 1., 0., 0., 0., 0.,\n",
       "       0., 1., 1., 0., 0., 0., 1., 1., 0., 0., 1., 1., 0., 0., 1., 1., 0.,\n",
       "       0., 0., 0., 1., 1., 0., 0., 1., 1., 0., 0., 1., 1., 0., 0., 1., 1.,\n",
       "       0., 0., 1., 1., 0., 0., 1., 1., 0., 0., 1., 1., 0., 0., 0., 0., 1.,\n",
       "       1., 0., 0., 1., 1., 0., 0., 0., 1., 1., 0., 0., 1., 1., 0., 0., 0.,\n",
       "       0., 1., 1., 0., 0., 1., 1., 0., 0., 0., 1., 1., 0., 0., 1., 1., 0.,\n",
       "       0., 0., 1., 1., 0., 0., 1., 1., 0., 0., 1., 1., 0., 0., 1., 1., 0.,\n",
       "       0., 1., 1., 0., 0., 0., 0., 0., 1., 1., 0., 0., 1., 1., 0., 0., 1.,\n",
       "       1., 0., 0., 1., 1., 0., 0., 1., 1., 0., 0., 1., 1., 0., 0., 0., 1.,\n",
       "       1., 0., 0., 1., 1., 0., 0., 1., 1., 0., 0., 0., 1., 1., 0., 0., 1.,\n",
       "       1., 0., 0.])"
      ]
     },
     "execution_count": 20,
     "metadata": {},
     "output_type": "execute_result"
    }
   ],
   "source": [
    "onset_y = np.concatenate(onset_list)\n",
    "y = onset_y.ravel()\n",
    "y"
   ]
  },
  {
   "cell_type": "markdown",
   "id": "23c5a49b-0fda-4930-87bc-a1c2c6d766f3",
   "metadata": {},
   "source": [
    "\n",
    "## 표준화.\n",
    "\n",
    "안해도 될거같은데 우선해보자"
   ]
  },
  {
   "cell_type": "code",
   "execution_count": 11,
   "id": "8fccb07f-e132-42bc-8735-b977c5cf141d",
   "metadata": {},
   "outputs": [],
   "source": [
    "from sklearn.preprocessing import StandardScaler\n",
    "\n",
    "scaler = StandardScaler()"
   ]
  },
  {
   "cell_type": "code",
   "execution_count": 12,
   "id": "51ec9df1-78bb-4a8e-be7f-11a7a9262f74",
   "metadata": {},
   "outputs": [],
   "source": [
    "X_norm1 = scaler.fit_transform(X)"
   ]
  },
  {
   "cell_type": "code",
   "execution_count": 13,
   "id": "deca3fcb-35c0-4849-9293-23939ab4a935",
   "metadata": {},
   "outputs": [
    {
     "name": "stdout",
     "output_type": "stream",
     "text": [
      "(325325,) (325325,)\n"
     ]
    }
   ],
   "source": [
    "print(scaler.mean_.shape, scaler.scale_.shape)"
   ]
  },
  {
   "cell_type": "code",
   "execution_count": 14,
   "id": "ffa24d12-bcb2-4c2a-8ce9-ad29ae797ad8",
   "metadata": {},
   "outputs": [],
   "source": [
    "# Below, we use a \"list comprehension\" to loop across our runs\n",
    "# to standardize each run separately!\n",
    "X_norm = [scaler.fit_transform(i.reshape(1,-1)) for i in X]"
   ]
  },
  {
   "cell_type": "code",
   "execution_count": 15,
   "id": "4583088c-b566-424e-8276-3667b793eadd",
   "metadata": {},
   "outputs": [],
   "source": [
    "# X = np.vstack(X_norm)\n",
    "# 이 X로 해야하는데 우선은 표준화 안하고 해보자."
   ]
  },
  {
   "cell_type": "code",
   "execution_count": 21,
   "id": "d5ffb981-201b-482c-a55f-9387daefc088",
   "metadata": {},
   "outputs": [
    {
     "name": "stdout",
     "output_type": "stream",
     "text": [
      "Shape X: (275, 325325)\n",
      "Shape y: (275,)\n"
     ]
    }
   ],
   "source": [
    "print(\"Shape X:\", X.shape)\n",
    "print(\"Shape y:\", y.shape)"
   ]
  },
  {
   "cell_type": "markdown",
   "id": "ed8eb510-0ace-4b38-b447-da8e444eebd6",
   "metadata": {},
   "source": [
    "# 모델 피팅 로지스틱 회귀"
   ]
  },
  {
   "cell_type": "code",
   "execution_count": 22,
   "id": "eaa7dc3e-6d10-42c3-bed7-44f2a4a47058",
   "metadata": {},
   "outputs": [],
   "source": [
    "from sklearn.linear_model import LogisticRegression"
   ]
  },
  {
   "cell_type": "code",
   "execution_count": 23,
   "id": "78e7931f-a479-4e3b-8852-51929f56c7c6",
   "metadata": {},
   "outputs": [],
   "source": [
    "# clf = CLassiFier\n",
    "clf = LogisticRegression(solver='lbfgs')"
   ]
  },
  {
   "cell_type": "code",
   "execution_count": 24,
   "id": "93afd084-3a2b-45ec-a54f-86014dda3aa3",
   "metadata": {},
   "outputs": [
    {
     "data": {
      "text/html": [
       "<style>#sk-container-id-1 {color: black;}#sk-container-id-1 pre{padding: 0;}#sk-container-id-1 div.sk-toggleable {background-color: white;}#sk-container-id-1 label.sk-toggleable__label {cursor: pointer;display: block;width: 100%;margin-bottom: 0;padding: 0.3em;box-sizing: border-box;text-align: center;}#sk-container-id-1 label.sk-toggleable__label-arrow:before {content: \"▸\";float: left;margin-right: 0.25em;color: #696969;}#sk-container-id-1 label.sk-toggleable__label-arrow:hover:before {color: black;}#sk-container-id-1 div.sk-estimator:hover label.sk-toggleable__label-arrow:before {color: black;}#sk-container-id-1 div.sk-toggleable__content {max-height: 0;max-width: 0;overflow: hidden;text-align: left;background-color: #f0f8ff;}#sk-container-id-1 div.sk-toggleable__content pre {margin: 0.2em;color: black;border-radius: 0.25em;background-color: #f0f8ff;}#sk-container-id-1 input.sk-toggleable__control:checked~div.sk-toggleable__content {max-height: 200px;max-width: 100%;overflow: auto;}#sk-container-id-1 input.sk-toggleable__control:checked~label.sk-toggleable__label-arrow:before {content: \"▾\";}#sk-container-id-1 div.sk-estimator input.sk-toggleable__control:checked~label.sk-toggleable__label {background-color: #d4ebff;}#sk-container-id-1 div.sk-label input.sk-toggleable__control:checked~label.sk-toggleable__label {background-color: #d4ebff;}#sk-container-id-1 input.sk-hidden--visually {border: 0;clip: rect(1px 1px 1px 1px);clip: rect(1px, 1px, 1px, 1px);height: 1px;margin: -1px;overflow: hidden;padding: 0;position: absolute;width: 1px;}#sk-container-id-1 div.sk-estimator {font-family: monospace;background-color: #f0f8ff;border: 1px dotted black;border-radius: 0.25em;box-sizing: border-box;margin-bottom: 0.5em;}#sk-container-id-1 div.sk-estimator:hover {background-color: #d4ebff;}#sk-container-id-1 div.sk-parallel-item::after {content: \"\";width: 100%;border-bottom: 1px solid gray;flex-grow: 1;}#sk-container-id-1 div.sk-label:hover label.sk-toggleable__label {background-color: #d4ebff;}#sk-container-id-1 div.sk-serial::before {content: \"\";position: absolute;border-left: 1px solid gray;box-sizing: border-box;top: 0;bottom: 0;left: 50%;z-index: 0;}#sk-container-id-1 div.sk-serial {display: flex;flex-direction: column;align-items: center;background-color: white;padding-right: 0.2em;padding-left: 0.2em;position: relative;}#sk-container-id-1 div.sk-item {position: relative;z-index: 1;}#sk-container-id-1 div.sk-parallel {display: flex;align-items: stretch;justify-content: center;background-color: white;position: relative;}#sk-container-id-1 div.sk-item::before, #sk-container-id-1 div.sk-parallel-item::before {content: \"\";position: absolute;border-left: 1px solid gray;box-sizing: border-box;top: 0;bottom: 0;left: 50%;z-index: -1;}#sk-container-id-1 div.sk-parallel-item {display: flex;flex-direction: column;z-index: 1;position: relative;background-color: white;}#sk-container-id-1 div.sk-parallel-item:first-child::after {align-self: flex-end;width: 50%;}#sk-container-id-1 div.sk-parallel-item:last-child::after {align-self: flex-start;width: 50%;}#sk-container-id-1 div.sk-parallel-item:only-child::after {width: 0;}#sk-container-id-1 div.sk-dashed-wrapped {border: 1px dashed gray;margin: 0 0.4em 0.5em 0.4em;box-sizing: border-box;padding-bottom: 0.4em;background-color: white;}#sk-container-id-1 div.sk-label label {font-family: monospace;font-weight: bold;display: inline-block;line-height: 1.2em;}#sk-container-id-1 div.sk-label-container {text-align: center;}#sk-container-id-1 div.sk-container {/* jupyter's `normalize.less` sets `[hidden] { display: none; }` but bootstrap.min.css set `[hidden] { display: none !important; }` so we also need the `!important` here to be able to override the default hidden behavior on the sphinx rendered scikit-learn.org. See: https://github.com/scikit-learn/scikit-learn/issues/21755 */display: inline-block !important;position: relative;}#sk-container-id-1 div.sk-text-repr-fallback {display: none;}</style><div id=\"sk-container-id-1\" class=\"sk-top-container\"><div class=\"sk-text-repr-fallback\"><pre>LogisticRegression()</pre><b>In a Jupyter environment, please rerun this cell to show the HTML representation or trust the notebook. <br />On GitHub, the HTML representation is unable to render, please try loading this page with nbviewer.org.</b></div><div class=\"sk-container\" hidden><div class=\"sk-item\"><div class=\"sk-estimator sk-toggleable\"><input class=\"sk-toggleable__control sk-hidden--visually\" id=\"sk-estimator-id-1\" type=\"checkbox\" checked><label for=\"sk-estimator-id-1\" class=\"sk-toggleable__label sk-toggleable__label-arrow\">LogisticRegression</label><div class=\"sk-toggleable__content\"><pre>LogisticRegression()</pre></div></div></div></div></div>"
      ],
      "text/plain": [
       "LogisticRegression()"
      ]
     },
     "execution_count": 24,
     "metadata": {},
     "output_type": "execute_result"
    }
   ],
   "source": [
    "# The text in the output cell is there because the\n",
    "# fit model returns \"itself\" (you can just ignore this)\n",
    "clf.fit(X, y)"
   ]
  },
  {
   "cell_type": "code",
   "execution_count": 25,
   "id": "7ee53b47-0417-4c5f-9d46-b63294715652",
   "metadata": {},
   "outputs": [
    {
     "name": "stdout",
     "output_type": "stream",
     "text": [
      "Shape of coef_: (1, 325325)\n"
     ]
    }
   ],
   "source": [
    "print(\"Shape of coef_:\", clf.coef_.shape)"
   ]
  },
  {
   "cell_type": "code",
   "execution_count": 26,
   "id": "bb26cdf6-a71e-4ba1-ae6e-e1094e0a9096",
   "metadata": {},
   "outputs": [],
   "source": [
    "pred = clf.predict(X)"
   ]
  },
  {
   "cell_type": "code",
   "execution_count": 27,
   "id": "1b67bfc2-4337-4165-8f64-804a3f1a54b5",
   "metadata": {},
   "outputs": [
    {
     "name": "stdout",
     "output_type": "stream",
     "text": [
      "혼동행렬 : \n",
      " [[152   3]\n",
      " [  9 111]]\n",
      "정화도 : 0.9564, 민감도 : 0.9250, 정밀도 : 0.9737\n"
     ]
    }
   ],
   "source": [
    "from sklearn.metrics import confusion_matrix, accuracy_score, precision_score, recall_score\n",
    "\n",
    "confusion = confusion_matrix(y, pred)\n",
    "accuracy = accuracy_score(y, pred)\n",
    "recall = recall_score(y, pred)\n",
    "precision = precision_score(y, pred)\n",
    "\n",
    "print('혼동행렬 : \\n',\n",
    "      confusion)\n",
    "print(f\"정화도 : {accuracy:.4f}, 민감도 : {recall:.4f}, 정밀도 : {precision:.4f}\")"
   ]
  },
  {
   "cell_type": "markdown",
   "id": "66777c43-332b-4b86-94dc-aef26a7a2e25",
   "metadata": {},
   "source": [
    "## CV 하기(10-fold)"
   ]
  },
  {
   "cell_type": "code",
   "execution_count": 23,
   "id": "d9f3fa90-9298-4e39-a33a-6cddffd2a55e",
   "metadata": {},
   "outputs": [],
   "source": [
    "# from sklearn.model_selection import train_test_split\n",
    "# X_train, X_test, y_train, y_test = train_test_split(X, y, test_size=0.2)"
   ]
  },
  {
   "cell_type": "code",
   "execution_count": 31,
   "id": "b3efb893-11b6-4959-afce-0b527c85955c",
   "metadata": {},
   "outputs": [],
   "source": [
    "from sklearn.model_selection import cross_val_score, KFold\n",
    "from sklearn.pipeline import Pipeline\n",
    "from sklearn.preprocessing import StandardScaler\n",
    "\n",
    "pipeline = Pipeline([\n",
    "    ('prerocessor', StandardScaler()),\n",
    "    ('model', clf)\n",
    "])"
   ]
  },
  {
   "cell_type": "code",
   "execution_count": 32,
   "id": "bb2c91d1-4214-4d6e-90b5-d948c455abb9",
   "metadata": {},
   "outputs": [],
   "source": [
    "kfold = KFold(n_splits=5, shuffle=True, random_state=42)\n",
    "cv_scores = cross_val_score(pipeline, X, y, cv=kfold, scoring='accuracy')"
   ]
  },
  {
   "cell_type": "code",
   "execution_count": 35,
   "id": "51ececee-719e-47ce-ad1b-4dc6f78f67a1",
   "metadata": {},
   "outputs": [
    {
     "data": {
      "text/plain": [
       "array([0.43636364, 0.52727273, 0.56363636, 0.45454545, 0.47272727])"
      ]
     },
     "execution_count": 35,
     "metadata": {},
     "output_type": "execute_result"
    }
   ],
   "source": [
    "cv_scores"
   ]
  },
  {
   "cell_type": "code",
   "execution_count": 28,
   "id": "14adc057-7327-459a-b256-52e7b2107a89",
   "metadata": {},
   "outputs": [
    {
     "name": "stdout",
     "output_type": "stream",
     "text": [
      "분할 마다 정확도 : [0.464, 0.357, 0.607, 0.607, 0.607, 0.556, 0.37, 0.519, 0.333, 0.63]\n",
      "분할 마다 민감도 : [0.471, 0.308, 0.571, 0.571, 0.444, 0.5, 0.333, 0.444, 0.333, 0.692]\n",
      "분할 마다 정밀도 : [0.571, 0.308, 0.615, 0.615, 0.4, 0.417, 0.214, 0.333, 0.286, 0.6]\n",
      "정확도 평균 : 0.505 민감도 평균 : 0.467 정밀도 평균 : 0.436\n"
     ]
    }
   ],
   "source": [
    "from sklearn.model_selection import KFold\n",
    "from sklearn.metrics import confusion_matrix, accuracy_score, precision_score, recall_score\n",
    "\n",
    "kf = KFold(n_splits=10, shuffle=True, random_state=42)\n",
    "\n",
    "accuracy = []\n",
    "recall = []\n",
    "precision = []\n",
    "\n",
    "# K-Fold 교차 검증을 수행\n",
    "for train_index, test_index in kf.split(X):\n",
    "    X_train, X_test = X[train_index], X[test_index]\n",
    "    y_train, y_test = y[train_index], y[test_index]\n",
    "    \n",
    "    # 모델을 학습\n",
    "    clf.fit(X_train, y_train)\n",
    "    \n",
    "    # 평가 코드\n",
    "    pred = clf.predict(X_test)\n",
    "    accuracy.append(round(accuracy_score(y_test, pred),3))\n",
    "    recall.append(round(recall_score(y_test, pred),3))\n",
    "    precision.append(round(precision_score(y_test, pred),3))\n",
    "\n",
    "print('분할 마다 정확도 :', accuracy)\n",
    "print('분할 마다 민감도 :', recall)\n",
    "print('분할 마다 정밀도 :', precision)\n",
    "print('정확도 평균 :', round(np.mean(accuracy),3),\n",
    "      '민감도 평균 :', round(np.mean(recall),3),\n",
    "      '정밀도 평균 :', round(np.mean(precision),3))\n",
    "\n"
   ]
  },
  {
   "cell_type": "code",
   "execution_count": 39,
   "id": "59b0dd18-216c-4ba9-9669-286153b33997",
   "metadata": {},
   "outputs": [
    {
     "name": "stdout",
     "output_type": "stream",
     "text": [
      "혼동행렬 : \n",
      " [[8 6]\n",
      " [4 9]]\n",
      "정화도 : 0.6296, 민감도 : 0.6923, 정밀도 : 0.6000\n"
     ]
    }
   ],
   "source": [
    "pred2 = clf.predict(X_test)\n",
    "confusion2 = confusion_matrix(y_test, pred2)\n",
    "accuracy2 = accuracy_score(y_test, pred2)\n",
    "recall2 = recall_score(y_test, pred2)\n",
    "precision2 = precision_score(y_test, pred2)\n",
    "\n",
    "print('혼동행렬 : \\n',\n",
    "      confusion2)\n",
    "print(f\"정화도 : {accuracy2:.4f}, 민감도 : {recall2:.4f}, 정밀도 : {precision2:.4f}\")"
   ]
  },
  {
   "cell_type": "markdown",
   "id": "6cbcc3ee-a2fa-491c-be5b-060fd5180c50",
   "metadata": {},
   "source": [
    "## feature 선택/추출\n",
    "\n",
    "1. 특징 추출 : PCA, 아틀라스의 뇌 영역 내 평균 특징\n",
    "2. 특징 선택 : ROI(not pattern), 단변량 특징 선택(UFS)"
   ]
  },
  {
   "cell_type": "markdown",
   "id": "f1af77ed-2f1c-489f-ae3f-d3de0d775d02",
   "metadata": {},
   "source": [
    "### ROI 선택.\n",
    "\n",
    "Harvard-Oxford atals 가져오기"
   ]
  },
  {
   "cell_type": "code",
   "execution_count": 27,
   "id": "5b5641bc-420f-490f-afbd-2c57516d103d",
   "metadata": {},
   "outputs": [],
   "source": [
    "from nilearn.datasets import fetch_atlas_harvard_oxford\n",
    "\n",
    "ho_atlas = fetch_atlas_harvard_oxford('sub-maxprob-thr25-2mm')"
   ]
  },
  {
   "cell_type": "code",
   "execution_count": 28,
   "id": "9bf121be-6bfb-4638-81d7-a6868be4583a",
   "metadata": {},
   "outputs": [
    {
     "data": {
      "text/plain": [
       "['Background',\n",
       " 'Left Cerebral White Matter',\n",
       " 'Left Cerebral Cortex ',\n",
       " 'Left Lateral Ventrical',\n",
       " 'Left Thalamus',\n",
       " 'Left Caudate',\n",
       " 'Left Putamen',\n",
       " 'Left Pallidum',\n",
       " 'Brain-Stem',\n",
       " 'Left Hippocampus',\n",
       " 'Left Amygdala',\n",
       " 'Left Accumbens',\n",
       " 'Right Cerebral White Matter',\n",
       " 'Right Cerebral Cortex ',\n",
       " 'Right Lateral Ventricle',\n",
       " 'Right Thalamus',\n",
       " 'Right Caudate',\n",
       " 'Right Putamen',\n",
       " 'Right Pallidum',\n",
       " 'Right Hippocampus',\n",
       " 'Right Amygdala',\n",
       " 'Right Accumbens']"
      ]
     },
     "execution_count": 28,
     "metadata": {},
     "output_type": "execute_result"
    }
   ],
   "source": [
    "ho_atlas['labels']"
   ]
  },
  {
   "cell_type": "code",
   "execution_count": 29,
   "id": "6b3027a5-4218-4702-88d9-c193ec1fd55f",
   "metadata": {},
   "outputs": [
    {
     "name": "stdout",
     "output_type": "stream",
     "text": [
      "Right Cerebral Cortex index : 13\n"
     ]
    }
   ],
   "source": [
    "# 시각과 관련된 Cerebral cortex 가져오기\n",
    "\n",
    "r_cortex = ho_atlas['labels'].index('Right Cerebral Cortex ')\n",
    "print('Right Cerebral Cortex index :', r_cortex)"
   ]
  },
  {
   "cell_type": "code",
   "execution_count": 30,
   "id": "e1b234b5-7810-49e2-ac17-f1deace9a59b",
   "metadata": {},
   "outputs": [
    {
     "name": "stdout",
     "output_type": "stream",
     "text": [
      "Shape of map: (91, 109, 91)\n"
     ]
    }
   ],
   "source": [
    "import nibabel as nib\n",
    "\n",
    "ho_map = ho_atlas['maps']\n",
    "print('Shape of map:', ho_map.shape)"
   ]
  },
  {
   "cell_type": "code",
   "execution_count": 31,
   "id": "8bc881c2-84ef-4638-823e-f839af5de866",
   "metadata": {},
   "outputs": [
    {
     "name": "stdout",
     "output_type": "stream",
     "text": [
      "Shape of our data: (65, 77, 65, 275)\n"
     ]
    }
   ],
   "source": [
    "print('Shape of our data:', bold.shape)"
   ]
  },
  {
   "cell_type": "markdown",
   "id": "d24fed60-29c0-47f2-8a71-d2472d6b34b5",
   "metadata": {},
   "source": [
    "이렇게 보면 우리 데이터보다 atlas가 크다. 아틀라스는 2mm 공간에서 정의 되었지만, 우리 데이터는 3mm로 처리되었기 때문"
   ]
  },
  {
   "cell_type": "code",
   "execution_count": 32,
   "id": "e1508193-8634-4ba1-a2e5-eb66ada6ab2a",
   "metadata": {},
   "outputs": [
    {
     "name": "stdout",
     "output_type": "stream",
     "text": [
      "Shape of resampled map: (65, 77, 65)\n"
     ]
    }
   ],
   "source": [
    "from nilearn import image\n",
    "\n",
    "ho_map_resamp = image.resample_to_img(ho_map, bold, interpolation='nearest')\n",
    "print('Shape of resampled map:', ho_map_resamp.shape)"
   ]
  },
  {
   "cell_type": "markdown",
   "id": "e18c9dbf-d9eb-47d1-a20b-a50542b24df2",
   "metadata": {},
   "source": [
    "이제 우리가 고른 오른쪽 cortex에 해당하는 라벵이 포함된 harvard-oxford의 복셀을 확인하여 ROI를 만들수 있음"
   ]
  },
  {
   "cell_type": "code",
   "execution_count": 33,
   "id": "414ab6f2-ffdf-40f2-a48b-84d9b5ebd60c",
   "metadata": {},
   "outputs": [],
   "source": [
    "# 리샘플한 roi map에서 r_cortex의 index와 같은 부분만 \n",
    "r_cortex_roi = ho_map_resamp.get_fdata() == r_cortex"
   ]
  },
  {
   "cell_type": "code",
   "execution_count": 34,
   "id": "348b2ff2-3a0c-426f-ac85-f3ffe5b0bd1b",
   "metadata": {},
   "outputs": [
    {
     "name": "stdout",
     "output_type": "stream",
     "text": [
      "Shape of amygdala ROI: (65, 77, 65)\n"
     ]
    }
   ],
   "source": [
    "# 뇌 영상 데이터 저장(ROI 저장 Nifti로)\n",
    "# cortex 부분은 1, 아닌 부분은 0으로 넣어준 것\n",
    "r_cortex_roi2 = nib.Nifti1Image(r_cortex_roi.astype(np.int32), affine=ho_map_resamp.affine, dtype=np.int32)\n",
    "print(\"Shape of amygdala ROI:\", r_cortex_roi2.shape)"
   ]
  },
  {
   "cell_type": "code",
   "execution_count": 35,
   "id": "e01b5076-ea7f-45d8-9f73-50f301f05dd4",
   "metadata": {},
   "outputs": [
    {
     "data": {
      "text/plain": [
       "<nilearn.plotting.displays._slicers.OrthoSlicer at 0x2668fe31e80>"
      ]
     },
     "execution_count": 35,
     "metadata": {},
     "output_type": "execute_result"
    },
    {
     "data": {
      "image/png": "[encoded data removed]",
      "text/plain": [
       "<Figure size 660x260 with 4 Axes>"
      ]
     },
     "metadata": {},
     "output_type": "display_data"
    }
   ],
   "source": [
    "from nilearn import plotting\n",
    "\n",
    "plotting.plot_roi(r_cortex_roi2)"
   ]
  },
  {
   "cell_type": "code",
   "execution_count": 36,
   "id": "4c1963e6-ba11-4b7d-bbdc-016ed5f9af0d",
   "metadata": {},
   "outputs": [
    {
     "name": "stdout",
     "output_type": "stream",
     "text": [
      "Shape of indexed data: (275, 18997)\n"
     ]
    }
   ],
   "source": [
    "# 마스크 적용\n",
    "\n",
    "from nilearn import masking\n",
    "\n",
    "R_cortex = masking.apply_mask(bold, r_cortex_roi2)\n",
    "print(\"Shape of indexed data:\", R_cortex.shape)"
   ]
  },
  {
   "cell_type": "code",
   "execution_count": 37,
   "id": "1d84a3f7-e990-4fc5-a195-c98e907141c6",
   "metadata": {},
   "outputs": [
    {
     "data": {
      "text/plain": [
       "array([[592.40875933, 501.81346769, 561.05123892, ...,  33.9654726 ,\n",
       "        286.96788232, 123.53621159],\n",
       "       [603.4615091 , 527.79984847, 569.5581306 , ...,  31.32647336,\n",
       "        277.21910864, 121.95281205],\n",
       "       [573.56320003, 494.42426981, 546.70750186, ...,  27.88025082,\n",
       "        281.50360153, 119.6863774 ],\n",
       "       ...,\n",
       "       [591.81886538, 502.09289114, 579.55528067, ...,  51.04135005,\n",
       "        289.48269336, 133.65754986],\n",
       "       [597.50047551, 496.75279856, 579.40004542, ...,  40.57849423,\n",
       "        297.15131469, 122.79108239],\n",
       "       [594.30262937, 502.65173804, 569.65127175, ...,  38.96404764,\n",
       "        287.34044692, 125.49217574]])"
      ]
     },
     "execution_count": 37,
     "metadata": {},
     "output_type": "execute_result"
    }
   ],
   "source": [
    "# 분석해보기.\n",
    "R_cortex"
   ]
  },
  {
   "cell_type": "markdown",
   "id": "8f330a46-81fc-4e16-bf4b-2ad802cb1e74",
   "metadata": {},
   "source": [
    "### "
   ]
  },
  {
   "cell_type": "code",
   "execution_count": 38,
   "id": "5382dc8e-6554-47b6-8199-964ec929e696",
   "metadata": {},
   "outputs": [
    {
     "name": "stdout",
     "output_type": "stream",
     "text": [
      "Shape X: (275, 18997)\n",
      "Shape y: (275,)\n"
     ]
    }
   ],
   "source": [
    "print(\"Shape X:\", R_cortex.shape)\n",
    "print(\"Shape y:\", y.shape)"
   ]
  },
  {
   "cell_type": "code",
   "execution_count": 39,
   "id": "ff389fb6-0015-4e97-b1a9-a376d8147400",
   "metadata": {},
   "outputs": [
    {
     "name": "stdout",
     "output_type": "stream",
     "text": [
      "분할 마다 정확도 : [0.821, 0.893, 0.857, 0.786, 0.75, 0.852, 0.815, 0.926, 0.852, 0.741]\n",
      "분할 마다 민감도 : [0.5, 0.6, 0.5, 0.286, 0.0, 0.5, 0.5, 0.5, 0.571, 0.333]\n",
      "분할 마다 정밀도 : [0.8, 0.75, 1.0, 0.667, 0.0, 0.5, 0.4, 1.0, 0.8, 0.4]\n",
      "정확도 평균 : 0.829 민감도 평균 : 0.429 정밀도 평균 : 0.632\n"
     ]
    }
   ],
   "source": [
    "kf = KFold(n_splits=10, shuffle=True, random_state=42)\n",
    "\n",
    "accuracy = []\n",
    "recall = []\n",
    "precision = []\n",
    "\n",
    "# K-Fold 교차 검증을 수행\n",
    "for train_index, test_index in kf.split(X):\n",
    "    X_train, X_test = R_cortex[train_index], R_cortex[test_index]\n",
    "    y_train, y_test = y[train_index], y[test_index]\n",
    "    \n",
    "    # 모델을 학습\n",
    "    clf.fit(X_train, y_train)\n",
    "    \n",
    "    # 평가 코드\n",
    "    pred = clf.predict(X_test)\n",
    "    accuracy.append(round(accuracy_score(y_test, pred),3))\n",
    "    recall.append(round(recall_score(y_test, pred),3))\n",
    "    precision.append(round(precision_score(y_test, pred),3))\n",
    "\n",
    "print('분할 마다 정확도 :', accuracy)\n",
    "print('분할 마다 민감도 :', recall)\n",
    "print('분할 마다 정밀도 :', precision)\n",
    "print('정확도 평균 :', round(np.mean(accuracy),3),\n",
    "      '민감도 평균 :', round(np.mean(recall),3),\n",
    "      '정밀도 평균 :', round(np.mean(precision),3))\n",
    "\n"
   ]
  },
  {
   "cell_type": "markdown",
   "id": "4deecd0f-006e-4af3-b368-b2153769cc22",
   "metadata": {},
   "source": [
    "결과를 보면 정확도가 좀 오르긴 했다!"
   ]
  },
  {
   "cell_type": "markdown",
   "id": "e57dbe17-c8a1-4908-b4ae-8d6d99c8575a",
   "metadata": {},
   "source": [
    "### PCA로 해보기"
   ]
  },
  {
   "cell_type": "code",
   "execution_count": 40,
   "id": "7311e943-6d6e-4f04-8095-962c68047aff",
   "metadata": {},
   "outputs": [
    {
     "name": "stdout",
     "output_type": "stream",
     "text": [
      "Shape before pca: (275, 18997)\n",
      "Shape after pca: (275, 10)\n"
     ]
    }
   ],
   "source": [
    "from sklearn.decomposition import PCA\n",
    "pca = PCA(n_components=10)\n",
    "\n",
    "print('Shape before pca:', R_cortex.shape)\n",
    "pca.fit(R_cortex)\n",
    "R_cortex_pca = pca.transform(R_cortex)\n",
    "print('Shape after pca:', R_cortex_pca.shape)"
   ]
  },
  {
   "cell_type": "code",
   "execution_count": 41,
   "id": "8af2ac17-46d0-47a7-a4f2-57a4fb7faac1",
   "metadata": {},
   "outputs": [
    {
     "name": "stdout",
     "output_type": "stream",
     "text": [
      "분할 마다 정확도 : [0.679, 0.821, 0.679, 0.75, 0.75, 0.852, 0.778, 0.815, 0.741, 0.741]\n",
      "분할 마다 민감도 : [0.0, 0.0, 0.0, 0.0, 0.0, 0.0, 0.0, 0.0, 0.0, 0.0]\n",
      "분할 마다 정밀도 : [0.0, 0.0, 0.0, 0.0, 0.0, 0.0, 0.0, 0.0, 0.0, 0.0]\n",
      "정확도 평균 : 0.761 민감도 평균 : 0.0 정밀도 평균 : 0.0\n",
      "[[20  1]\n",
      " [ 6  0]]\n"
     ]
    }
   ],
   "source": [
    "import warnings\n",
    "warnings.filterwarnings(\"ignore\")\n",
    "\n",
    "kf = KFold(n_splits=10, shuffle=True, random_state=42)\n",
    "\n",
    "accuracy = []\n",
    "recall = []\n",
    "precision = []\n",
    "\n",
    "# K-Fold 교차 검증을 수행\n",
    "for train_index, test_index in kf.split(X):\n",
    "    X_train, X_test = R_cortex_pca[train_index], R_cortex_pca[test_index]\n",
    "    y_train, y_test = y[train_index], y[test_index]\n",
    "    \n",
    "    # 모델을 학습\n",
    "    clf.fit(X_train, y_train)\n",
    "    \n",
    "    # 평가 코드\n",
    "    pred = clf.predict(X_test)\n",
    "    accuracy.append(round(accuracy_score(y_test, pred),3))\n",
    "    recall.append(round(recall_score(y_test, pred),3))\n",
    "    precision.append(round(precision_score(y_test, pred),3))\n",
    "\n",
    "print('분할 마다 정확도 :', accuracy)\n",
    "print('분할 마다 민감도 :', recall)\n",
    "print('분할 마다 정밀도 :', precision)\n",
    "print('정확도 평균 :', round(np.mean(accuracy),3),\n",
    "      '민감도 평균 :', round(np.mean(recall),3),\n",
    "      '정밀도 평균 :', round(np.mean(precision),3))\n",
    "\n",
    "print(confusion_matrix(y_test, pred))"
   ]
  },
  {
   "cell_type": "markdown",
   "id": "689aa4c7-a2cd-4939-a349-9ffdfe456623",
   "metadata": {},
   "source": [
    "다음에 정확한 뇌 부위 정해서 해봐야겠다."
   ]
  },
  {
   "cell_type": "markdown",
   "id": "f6abcea9-2034-4103-b773-58758dd44f9d",
   "metadata": {},
   "source": [
    "### 지역 평균\n",
    "\n",
    "지금까지 단일 ROI 확인했는데, 전체 뇌 패턴을 포함할 수도 있음.\n",
    "각 복셀의 활동을 사용하는게 아니라 ROI 지역 평균 활동을 사용하는 것.\n",
    "우선 기존 ROI 사용해보자."
   ]
  },
  {
   "cell_type": "code",
   "execution_count": 42,
   "id": "638bfcd3-2c13-43c8-8928-0294ea485fbd",
   "metadata": {},
   "outputs": [],
   "source": [
    "from nilearn.datasets import fetch_atlas_schaefer_2018\n",
    "# 관심 roi 100구역, 공간 해상도 2mm\n",
    "schaefer_parc = fetch_atlas_schaefer_2018(n_rois=100, resolution_mm=2, verbose=False)"
   ]
  },
  {
   "cell_type": "code",
   "execution_count": 43,
   "id": "d71011a3-6a94-489a-8f97-90ea616e4181",
   "metadata": {},
   "outputs": [
    {
     "data": {
      "text/plain": [
       "<nilearn.plotting.displays._slicers.OrthoSlicer at 0x2668f28edf0>"
      ]
     },
     "execution_count": 43,
     "metadata": {},
     "output_type": "execute_result"
    },
    {
     "data": {
      "image/png": "[encoded data removed]",
      "text/plain": [
       "<Figure size 660x260 with 4 Axes>"
      ]
     },
     "metadata": {},
     "output_type": "display_data"
    }
   ],
   "source": [
    "# 해상도 리샘플링\n",
    "\n",
    "schaefer_parc = image.resample_to_img(schaefer_parc['maps'], bold, interpolation='nearest')\n",
    "\n",
    "plotting.plot_roi(schaefer_parc)"
   ]
  },
  {
   "cell_type": "markdown",
   "id": "ad3914b8-f38e-4362-b50d-eea7939c1309",
   "metadata": {},
   "source": [
    "여기서 사용하는건 불연속적 ROI로 단일 복셀을 단일 ROI에만 속할 수 있다.\n",
    "maps 맵은 정수가 포한된 단일 볼륨으로 정수 값을 포함하는 3D 공간 내의 데이터로 표현된다.\n",
    "이 볼륨은 뇌의 다양한 영역을 나타내며, 각 영역을 정수값으로 구분된다. "
   ]
  },
  {
   "cell_type": "code",
   "execution_count": 44,
   "id": "4e15bd87-ee16-490f-85a4-601623e138db",
   "metadata": {},
   "outputs": [
    {
     "data": {
      "text/plain": [
       "array([  0.,   1.,   2.,   3.,   4.,   5.,   6.,   7.,   8.,   9.,  10.,\n",
       "        11.,  12.,  13.,  14.,  15.,  16.,  17.,  18.,  19.,  20.,  21.,\n",
       "        22.,  23.,  24.,  25.,  26.,  27.,  28.,  29.,  30.,  31.,  32.,\n",
       "        33.,  34.,  35.,  36.,  37.,  38.,  39.,  40.,  41.,  42.,  43.,\n",
       "        44.,  45.,  46.,  47.,  48.,  49.,  50.,  51.,  52.,  53.,  54.,\n",
       "        55.,  56.,  57.,  58.,  59.,  60.,  61.,  62.,  63.,  64.,  65.,\n",
       "        66.,  67.,  68.,  69.,  70.,  71.,  72.,  73.,  74.,  75.,  76.,\n",
       "        77.,  78.,  79.,  80.,  81.,  82.,  83.,  84.,  85.,  86.,  87.,\n",
       "        88.,  89.,  90.,  91.,  92.,  93.,  94.,  95.,  96.,  97.,  98.,\n",
       "        99., 100.])"
      ]
     },
     "execution_count": 44,
     "metadata": {},
     "output_type": "execute_result"
    }
   ],
   "source": [
    "roi_ints = schaefer_parc.get_fdata()\n",
    "np.unique(roi_ints)\n",
    "# 0 index에 포함된 복셀은 어떤 지역에도 속하지 않음"
   ]
  },
  {
   "cell_type": "code",
   "execution_count": 45,
   "id": "863070ac-9578-41be-972c-7adf813019a0",
   "metadata": {},
   "outputs": [],
   "source": [
    "# 평균값 만들기\n",
    "from nilearn.input_data import NiftiLabelsMasker\n",
    "\n",
    "masker = NiftiLabelsMasker(labels_img = schaefer_parc, standardize=True)\n",
    "roi_mean_values = masker.fit_transform(bold)"
   ]
  },
  {
   "cell_type": "code",
   "execution_count": 46,
   "id": "f4ef0c3b-e726-4e25-82e7-1c0564f32051",
   "metadata": {},
   "outputs": [
    {
     "data": {
      "text/plain": [
       "array([[ 1.42591606,  2.99459732,  2.4039419 , ..., -1.19079828,\n",
       "         0.69773668,  0.23088289],\n",
       "       [ 0.46315335,  2.1364887 ,  1.4663917 , ..., -1.49948372,\n",
       "         1.43665701, -0.20393606],\n",
       "       [ 1.83655778,  2.16980811,  1.52039213, ..., -1.78527648,\n",
       "         1.89886176, -0.01239202],\n",
       "       ...,\n",
       "       [ 0.88411898, -1.90920413,  0.58265491, ...,  1.25960806,\n",
       "         0.71339092,  0.14313615],\n",
       "       [ 1.12480966,  0.15140977,  1.38083259, ...,  1.43449148,\n",
       "         0.63235327,  0.68684159],\n",
       "       [ 1.48184111,  0.95577077,  1.23094051, ...,  2.12992226,\n",
       "         0.44990047,  1.46761424]])"
      ]
     },
     "execution_count": 46,
     "metadata": {},
     "output_type": "execute_result"
    }
   ],
   "source": [
    "roi_mean_values"
   ]
  },
  {
   "cell_type": "code",
   "execution_count": 47,
   "id": "40c0aa23-426d-47bb-a72f-dfb44ecd3047",
   "metadata": {},
   "outputs": [
    {
     "name": "stdout",
     "output_type": "stream",
     "text": [
      "Shape X: (275, 100)\n",
      "Shape y: (275,)\n"
     ]
    }
   ],
   "source": [
    "print(\"Shape X:\", roi_mean_values.shape)\n",
    "print(\"Shape y:\", y.shape)"
   ]
  },
  {
   "cell_type": "code",
   "execution_count": 48,
   "id": "2a5c02db-cd9c-4f32-8f05-1c71c5a813c2",
   "metadata": {},
   "outputs": [
    {
     "name": "stdout",
     "output_type": "stream",
     "text": [
      "분할 마다 정확도 : [0.821, 0.857, 0.75, 0.821, 0.786, 0.778, 0.852, 0.852, 0.704, 0.815]\n",
      "분할 마다 민감도 : [0.5, 0.6, 0.375, 0.714, 0.143, 0.25, 0.5, 0.25, 0.571, 0.833]\n",
      "분할 마다 정밀도 : [0.8, 0.6, 0.6, 0.625, 1.0, 0.25, 0.5, 0.5, 0.444, 0.556]\n",
      "정확도 평균 : 0.804 민감도 평균 : 0.474 정밀도 평균 : 0.588\n",
      "[[17  4]\n",
      " [ 1  5]]\n"
     ]
    }
   ],
   "source": [
    "import warnings\n",
    "warnings.filterwarnings(\"ignore\")\n",
    "\n",
    "kf = KFold(n_splits=10, shuffle=True, random_state=42)\n",
    "\n",
    "accuracy = []\n",
    "recall = []\n",
    "precision = []\n",
    "\n",
    "# K-Fold 교차 검증을 수행\n",
    "for train_index, test_index in kf.split(X):\n",
    "    X_train, X_test = roi_mean_values[train_index], roi_mean_values[test_index]\n",
    "    y_train, y_test = y[train_index], y[test_index]\n",
    "    \n",
    "    # 모델을 학습\n",
    "    clf.fit(X_train, y_train)\n",
    "    \n",
    "    # 평가 코드\n",
    "    pred = clf.predict(X_test)\n",
    "    accuracy.append(round(accuracy_score(y_test, pred),3))\n",
    "    recall.append(round(recall_score(y_test, pred),3))\n",
    "    precision.append(round(precision_score(y_test, pred),3))\n",
    "\n",
    "print('분할 마다 정확도 :', accuracy)\n",
    "print('분할 마다 민감도 :', recall)\n",
    "print('분할 마다 정밀도 :', precision)\n",
    "print('정확도 평균 :', round(np.mean(accuracy),3),\n",
    "      '민감도 평균 :', round(np.mean(recall),3),\n",
    "      '정밀도 평균 :', round(np.mean(precision),3))\n",
    "\n",
    "print(confusion_matrix(y_test, pred))"
   ]
  },
  {
   "cell_type": "markdown",
   "id": "4278c529-6b11-423b-ba64-625594cc9ed7",
   "metadata": {},
   "source": [
    "## 서치 라이트 분석\n",
    "\n",
    "일변량 분석과 다변량 분석을 일종의 혼합한 디코딩 기반 분석으로, 로컨 복셀 패턴을 분석. 뇌의 모든 위치에 대해 분석.\n",
    "특정 중심 복셀(특정 반경 포함) 주변의 복셀로 구성된 구형 서치라이트를 정의하여 이를 수행. 모든 복셀에 대해 중심 복셀이 될 때 까지 반복."
   ]
  },
  {
   "cell_type": "code",
   "execution_count": 49,
   "id": "992640cf-c52c-4305-b931-ec16dc44c0fc",
   "metadata": {},
   "outputs": [],
   "source": [
    "from nilearn.decoding import SearchLight"
   ]
  },
  {
   "cell_type": "markdown",
   "id": "d0e12d2b-19cb-4b76-ad4d-0f7ed488d50d",
   "metadata": {},
   "source": [
    "`mask_img` : 실제 뇌가 포함된 복셀을 나타내는 바이너리 마스크\n",
    "\n",
    "`process_mask_img` : 어떤 복셀을 분석해야하는지 나타내는 바이너리 마스크\n",
    "\n",
    "`radius` : 서치라이트 구의 반경(mm)\n",
    "\n",
    "`estimator` : 사이킷런 호환 추정기(분류 모델이나 파이프 라인)\n",
    "\n",
    "`n_jobs` : 사용할 CPU 수\n",
    "\n",
    "`scoring` : 체점 방법(accuracy, recall 등)\n",
    "\n",
    "`cv` : 교차검증\n",
    "\n",
    "`verdos` : 알지??"
   ]
  },
  {
   "cell_type": "code",
   "execution_count": 50,
   "id": "5308580e-a4ca-4e96-be10-f3c8a629b357",
   "metadata": {},
   "outputs": [
    {
     "data": {
      "text/plain": [
       "<nilearn.plotting.displays._slicers.OrthoSlicer at 0x2668f3292e0>"
      ]
     },
     "execution_count": 50,
     "metadata": {},
     "output_type": "execute_result"
    },
    {
     "data": {
      "image/png": "[encoded data removed]",
      "text/plain": [
       "<Figure size 660x260 with 4 Axes>"
      ]
     },
     "metadata": {},
     "output_type": "display_data"
    }
   ],
   "source": [
    "# img.sum(axis=3) : 4차원 데이터의 각 슬라이스(3d 데이터)를 합산하는 작업 수행.\n",
    "# axis=3은 데이터의 4번쨰 차원인 시간차원을 합산하도록 하는 것.\n",
    "# '이 안의 공식' : 이 공식의 조건에 맞는 것만\n",
    "\n",
    "# != 0으로 하면 뇌가 아닌 부분도 나와서 임의대로 해보았음.\n",
    "\n",
    "from nilearn import plotting\n",
    "brain_mask = image.math_img('(img.sum(axis=3) > 70000).astype(np.int32)', img=bold)\n",
    "plotting.plot_roi(brain_mask)"
   ]
  },
  {
   "cell_type": "code",
   "execution_count": 51,
   "id": "946619d3-e138-4a3f-be8e-183b841b0b2c",
   "metadata": {},
   "outputs": [
    {
     "data": {
      "image/png": "[encoded data removed]",
      "text/plain": [
       "<Figure size 660x260 with 4 Axes>"
      ]
     },
     "metadata": {},
     "output_type": "display_data"
    }
   ],
   "source": [
    "# `process_mask_img` 즉 분석할 mask도 위와같이 결정할 수 있는데, 우선은 맛보기니까 잘라서 보자.\n",
    "from nilearn import masking\n",
    "\n",
    "# Create empty volume\n",
    "sl_mask = np.zeros(brain_mask.shape)\n",
    "\n",
    "# Set the 22nd slice to 1\n",
    "sl_mask[20, :, :] = 1\n",
    "\n",
    "# Create a Nifti1Image object from it using the \"image.new_img_like\" function\n",
    "# from Nilearn\n",
    "sl_mask = image.new_img_like(brain_mask, sl_mask)\n",
    "\n",
    "# Of course, we only want to analyze the voxels from that slice that\n",
    "# are ALSO in the brain mask, so let's intersect them:\n",
    "sl_mask = masking.intersect_masks((brain_mask, sl_mask), threshold=1)\n",
    "\n",
    "# Let's plot it:\n",
    "plotting.plot_roi(sl_mask);"
   ]
  },
  {
   "cell_type": "code",
   "execution_count": 52,
   "id": "03b01705-2569-4a2f-9c21-61562e877093",
   "metadata": {},
   "outputs": [],
   "source": [
    "# 파이프 라인 만들기\n",
    "# StandardScaler()도 넣어야하는데 우선은 빼고 해보자\n",
    "from sklearn.model_selection import KFold\n",
    "from sklearn.pipeline import make_pipeline\n",
    "\n",
    "search_cv = KFold(n_splits=10, shuffle=True, random_state=42)\n",
    "search_est = make_pipeline(LogisticRegression(solver='lbfgs'))"
   ]
  },
  {
   "cell_type": "code",
   "execution_count": 53,
   "id": "9bbc670f-6c9e-4f94-bf10-035cd9c76168",
   "metadata": {},
   "outputs": [
    {
     "data": {
      "text/plain": [
       "12"
      ]
     },
     "execution_count": 53,
     "metadata": {},
     "output_type": "execute_result"
    }
   ],
   "source": [
    "# 내 CPU\n",
    "\n",
    "import os\n",
    "os.cpu_count()"
   ]
  },
  {
   "cell_type": "code",
   "execution_count": 54,
   "id": "7e04807a-bd60-461f-894d-792183057829",
   "metadata": {},
   "outputs": [],
   "source": [
    "# 서치 라이트\n",
    "\n",
    "sl = SearchLight(\n",
    "    mask_img=brain_mask,\n",
    "    process_mask_img=sl_mask,\n",
    "    radius=5,  # we'll use a 5 mm radius\n",
    "    estimator=search_est,\n",
    "    n_jobs=-1,  # use only 1 core (for your own analyses, you might want to increase this!)\n",
    "    scoring='accuracy',  # use accuracy as model performance metric\n",
    "    cv=search_cv,\n",
    "    verbose=True  # print a progressbar while fitting\n",
    ")"
   ]
  },
  {
   "cell_type": "code",
   "execution_count": 55,
   "id": "d267ed79-628f-4595-96cc-e53721ad53a5",
   "metadata": {},
   "outputs": [
    {
     "name": "stdout",
     "output_type": "stream",
     "text": [
      "Shape X: (65, 77, 65, 275)\n",
      "Shape y: (275,)\n"
     ]
    }
   ],
   "source": [
    "print(\"Shape X:\", bold.shape)\n",
    "print(\"Shape y:\", y.shape)"
   ]
  },
  {
   "cell_type": "code",
   "execution_count": 56,
   "id": "395b34f6-f79b-42cd-bab1-48f2c21484f4",
   "metadata": {},
   "outputs": [
    {
     "name": "stderr",
     "output_type": "stream",
     "text": [
      "[Parallel(n_jobs=-1)]: Using backend LokyBackend with 12 concurrent workers.\n",
      "[Parallel(n_jobs=-1)]: Done   2 out of  12 | elapsed:   18.4s remaining:  1.5min\n",
      "[Parallel(n_jobs=-1)]: Done  12 out of  12 | elapsed:   18.6s finished\n"
     ]
    },
    {
     "data": {
      "text/html": [
       "<style>#sk-container-id-2 {color: black;}#sk-container-id-2 pre{padding: 0;}#sk-container-id-2 div.sk-toggleable {background-color: white;}#sk-container-id-2 label.sk-toggleable__label {cursor: pointer;display: block;width: 100%;margin-bottom: 0;padding: 0.3em;box-sizing: border-box;text-align: center;}#sk-container-id-2 label.sk-toggleable__label-arrow:before {content: \"▸\";float: left;margin-right: 0.25em;color: #696969;}#sk-container-id-2 label.sk-toggleable__label-arrow:hover:before {color: black;}#sk-container-id-2 div.sk-estimator:hover label.sk-toggleable__label-arrow:before {color: black;}#sk-container-id-2 div.sk-toggleable__content {max-height: 0;max-width: 0;overflow: hidden;text-align: left;background-color: #f0f8ff;}#sk-container-id-2 div.sk-toggleable__content pre {margin: 0.2em;color: black;border-radius: 0.25em;background-color: #f0f8ff;}#sk-container-id-2 input.sk-toggleable__control:checked~div.sk-toggleable__content {max-height: 200px;max-width: 100%;overflow: auto;}#sk-container-id-2 input.sk-toggleable__control:checked~label.sk-toggleable__label-arrow:before {content: \"▾\";}#sk-container-id-2 div.sk-estimator input.sk-toggleable__control:checked~label.sk-toggleable__label {background-color: #d4ebff;}#sk-container-id-2 div.sk-label input.sk-toggleable__control:checked~label.sk-toggleable__label {background-color: #d4ebff;}#sk-container-id-2 input.sk-hidden--visually {border: 0;clip: rect(1px 1px 1px 1px);clip: rect(1px, 1px, 1px, 1px);height: 1px;margin: -1px;overflow: hidden;padding: 0;position: absolute;width: 1px;}#sk-container-id-2 div.sk-estimator {font-family: monospace;background-color: #f0f8ff;border: 1px dotted black;border-radius: 0.25em;box-sizing: border-box;margin-bottom: 0.5em;}#sk-container-id-2 div.sk-estimator:hover {background-color: #d4ebff;}#sk-container-id-2 div.sk-parallel-item::after {content: \"\";width: 100%;border-bottom: 1px solid gray;flex-grow: 1;}#sk-container-id-2 div.sk-label:hover label.sk-toggleable__label {background-color: #d4ebff;}#sk-container-id-2 div.sk-serial::before {content: \"\";position: absolute;border-left: 1px solid gray;box-sizing: border-box;top: 0;bottom: 0;left: 50%;z-index: 0;}#sk-container-id-2 div.sk-serial {display: flex;flex-direction: column;align-items: center;background-color: white;padding-right: 0.2em;padding-left: 0.2em;position: relative;}#sk-container-id-2 div.sk-item {position: relative;z-index: 1;}#sk-container-id-2 div.sk-parallel {display: flex;align-items: stretch;justify-content: center;background-color: white;position: relative;}#sk-container-id-2 div.sk-item::before, #sk-container-id-2 div.sk-parallel-item::before {content: \"\";position: absolute;border-left: 1px solid gray;box-sizing: border-box;top: 0;bottom: 0;left: 50%;z-index: -1;}#sk-container-id-2 div.sk-parallel-item {display: flex;flex-direction: column;z-index: 1;position: relative;background-color: white;}#sk-container-id-2 div.sk-parallel-item:first-child::after {align-self: flex-end;width: 50%;}#sk-container-id-2 div.sk-parallel-item:last-child::after {align-self: flex-start;width: 50%;}#sk-container-id-2 div.sk-parallel-item:only-child::after {width: 0;}#sk-container-id-2 div.sk-dashed-wrapped {border: 1px dashed gray;margin: 0 0.4em 0.5em 0.4em;box-sizing: border-box;padding-bottom: 0.4em;background-color: white;}#sk-container-id-2 div.sk-label label {font-family: monospace;font-weight: bold;display: inline-block;line-height: 1.2em;}#sk-container-id-2 div.sk-label-container {text-align: center;}#sk-container-id-2 div.sk-container {/* jupyter's `normalize.less` sets `[hidden] { display: none; }` but bootstrap.min.css set `[hidden] { display: none !important; }` so we also need the `!important` here to be able to override the default hidden behavior on the sphinx rendered scikit-learn.org. See: https://github.com/scikit-learn/scikit-learn/issues/21755 */display: inline-block !important;position: relative;}#sk-container-id-2 div.sk-text-repr-fallback {display: none;}</style><div id=\"sk-container-id-2\" class=\"sk-top-container\"><div class=\"sk-text-repr-fallback\"><pre>SearchLight(cv=KFold(n_splits=10, random_state=42, shuffle=True),\n",
       "            estimator=Pipeline(steps=[(&#x27;logisticregression&#x27;,\n",
       "                                       LogisticRegression())]),\n",
       "            mask_img=&lt;nibabel.nifti1.Nifti1Image object at 0x0000026586687490&gt;,\n",
       "            n_jobs=-1,\n",
       "            process_mask_img=&lt;nibabel.nifti1.Nifti1Image object at 0x000002668F2EC0D0&gt;,\n",
       "            radius=5, scoring=&#x27;accuracy&#x27;, verbose=True)</pre><b>In a Jupyter environment, please rerun this cell to show the HTML representation or trust the notebook. <br />On GitHub, the HTML representation is unable to render, please try loading this page with nbviewer.org.</b></div><div class=\"sk-container\" hidden><div class=\"sk-item sk-dashed-wrapped\"><div class=\"sk-label-container\"><div class=\"sk-label sk-toggleable\"><input class=\"sk-toggleable__control sk-hidden--visually\" id=\"sk-estimator-id-2\" type=\"checkbox\" ><label for=\"sk-estimator-id-2\" class=\"sk-toggleable__label sk-toggleable__label-arrow\">SearchLight</label><div class=\"sk-toggleable__content\"><pre>SearchLight(cv=KFold(n_splits=10, random_state=42, shuffle=True),\n",
       "            estimator=Pipeline(steps=[(&#x27;logisticregression&#x27;,\n",
       "                                       LogisticRegression())]),\n",
       "            mask_img=&lt;nibabel.nifti1.Nifti1Image object at 0x0000026586687490&gt;,\n",
       "            n_jobs=-1,\n",
       "            process_mask_img=&lt;nibabel.nifti1.Nifti1Image object at 0x000002668F2EC0D0&gt;,\n",
       "            radius=5, scoring=&#x27;accuracy&#x27;, verbose=True)</pre></div></div></div><div class=\"sk-parallel\"><div class=\"sk-parallel-item\"><div class=\"sk-item\"><div class=\"sk-label-container\"><div class=\"sk-label sk-toggleable\"><input class=\"sk-toggleable__control sk-hidden--visually\" id=\"sk-estimator-id-3\" type=\"checkbox\" ><label for=\"sk-estimator-id-3\" class=\"sk-toggleable__label sk-toggleable__label-arrow\">estimator: Pipeline</label><div class=\"sk-toggleable__content\"><pre>Pipeline(steps=[(&#x27;logisticregression&#x27;, LogisticRegression())])</pre></div></div></div><div class=\"sk-serial\"><div class=\"sk-item\"><div class=\"sk-serial\"><div class=\"sk-item\"><div class=\"sk-estimator sk-toggleable\"><input class=\"sk-toggleable__control sk-hidden--visually\" id=\"sk-estimator-id-4\" type=\"checkbox\" ><label for=\"sk-estimator-id-4\" class=\"sk-toggleable__label sk-toggleable__label-arrow\">LogisticRegression</label><div class=\"sk-toggleable__content\"><pre>LogisticRegression()</pre></div></div></div></div></div></div></div></div></div></div></div></div>"
      ],
      "text/plain": [
       "SearchLight(cv=KFold(n_splits=10, random_state=42, shuffle=True),\n",
       "            estimator=Pipeline(steps=[('logisticregression',\n",
       "                                       LogisticRegression())]),\n",
       "            mask_img=<nibabel.nifti1.Nifti1Image object at 0x0000026586687490>,\n",
       "            n_jobs=-1,\n",
       "            process_mask_img=<nibabel.nifti1.Nifti1Image object at 0x000002668F2EC0D0>,\n",
       "            radius=5, scoring='accuracy', verbose=True)"
      ]
     },
     "execution_count": 56,
     "metadata": {},
     "output_type": "execute_result"
    }
   ],
   "source": [
    "sl.fit(bold, y)"
   ]
  },
  {
   "cell_type": "code",
   "execution_count": 57,
   "id": "8326627f-7232-4fed-bf9f-a538a7b7f1ef",
   "metadata": {},
   "outputs": [
    {
     "name": "stdout",
     "output_type": "stream",
     "text": [
      "Shape scores: (65, 77, 65)\n"
     ]
    }
   ],
   "source": [
    "print(\"Shape scores:\", sl.scores_.shape)"
   ]
  },
  {
   "cell_type": "code",
   "execution_count": 58,
   "id": "2c5f38f4-11c3-4aa7-8044-bed6569534e1",
   "metadata": {},
   "outputs": [
    {
     "data": {
      "text/plain": [
       "<nilearn.plotting.displays._slicers.OrthoSlicer at 0x2668f4b42e0>"
      ]
     },
     "execution_count": 58,
     "metadata": {},
     "output_type": "execute_result"
    },
    {
     "data": {
      "image/png": "[encoded data removed]",
      "text/plain": [
       "<Figure size 730x260 with 5 Axes>"
      ]
     },
     "metadata": {},
     "output_type": "display_data"
    }
   ],
   "source": [
    "# 정확도 0.7 넘는 거만 한번 보자.\n",
    "score_img = image.new_img_like(brain_mask, sl.scores_)\n",
    "plotting.plot_stat_map(score_img, threshold=0.77)"
   ]
  },
  {
   "cell_type": "code",
   "execution_count": 59,
   "id": "4c9a5740-0ad1-49aa-953c-c0280da96c4a",
   "metadata": {},
   "outputs": [
    {
     "data": {
      "text/plain": [
       "array([[20, 12, 25],\n",
       "       [20, 13, 21],\n",
       "       [20, 13, 24],\n",
       "       ...,\n",
       "       [20, 66, 26],\n",
       "       [20, 66, 29],\n",
       "       [20, 67, 23]], dtype=int64)"
      ]
     },
     "execution_count": 59,
     "metadata": {},
     "output_type": "execute_result"
    }
   ],
   "source": [
    "# 좌표 추출\n",
    "above_threshold_coords = np.argwhere(sl.scores_ >= 0.77)\n",
    "above_threshold_coords"
   ]
  },
  {
   "cell_type": "code",
   "execution_count": 60,
   "id": "751efd94-16f8-4431-8a41-04a88b001b80",
   "metadata": {},
   "outputs": [],
   "source": [
    "# 값도 마지막 열에 추가\n",
    "result = pd.DataFrame(above_threshold_coords, columns=['x','y','z'])\n",
    "result['Score'] = sl.scores_[sl.scores_ >= 0.77]"
   ]
  },
  {
   "cell_type": "code",
   "execution_count": 61,
   "id": "c045cf83-12e9-4bae-ac76-e8e0a3ce0d0e",
   "metadata": {},
   "outputs": [],
   "source": [
    "result.to_csv('D:/fmri/searchlight_0.77.csv', index=False)"
   ]
  },
  {
   "cell_type": "code",
   "execution_count": 62,
   "id": "bf05df6e-552b-4be1-a8f9-55991186daf7",
   "metadata": {},
   "outputs": [
    {
     "ename": "IndexError",
     "evalue": "list index out of range",
     "output_type": "error",
     "traceback": [
      "\u001b[1;31m---------------------------------------------------------------------------\u001b[0m",
      "\u001b[1;31mIndexError\u001b[0m                                Traceback (most recent call last)",
      "Cell \u001b[1;32mIn[62], line 25\u001b[0m\n\u001b[0;32m     22\u001b[0m region_value \u001b[38;5;241m=\u001b[39m atlas_img_resampled\u001b[38;5;241m.\u001b[39mget_fdata()[x, y, z]\n\u001b[0;32m     24\u001b[0m \u001b[38;5;66;03m# Get the region name from the atlas labels\u001b[39;00m\n\u001b[1;32m---> 25\u001b[0m region_name \u001b[38;5;241m=\u001b[39m \u001b[43matlas\u001b[49m\u001b[38;5;241;43m.\u001b[39;49m\u001b[43mlabels\u001b[49m\u001b[43m[\u001b[49m\u001b[38;5;28;43mint\u001b[39;49m\u001b[43m(\u001b[49m\u001b[43mregion_value\u001b[49m\u001b[43m)\u001b[49m\u001b[43m]\u001b[49m\n\u001b[0;32m     27\u001b[0m \u001b[38;5;66;03m# Append the region name to the list\u001b[39;00m\n\u001b[0;32m     28\u001b[0m mapped_regions\u001b[38;5;241m.\u001b[39mappend(region_name)\n",
      "\u001b[1;31mIndexError\u001b[0m: list index out of range"
     ]
    }
   ],
   "source": [
    "from nilearn import datasets, image\n",
    "\n",
    "# Harvard-Oxford Atlas\n",
    "atlas = datasets.fetch_atlas_harvard_oxford('cort-maxprob-thr25-2mm')\n",
    "\n",
    "# Create an empty list to store the region names for the coordinates\n",
    "mapped_regions = []\n",
    "\n",
    "# Load the Harvard-Oxford Atlas image\n",
    "atlas_img = atlas.maps\n",
    "\n",
    "# Define the reference image, which should have the same resolution as your bold data\n",
    "\n",
    "# Resample the atlas image to the resolution of the reference image\n",
    "atlas_img_resampled = image.resample_to_img(atlas_img, bold)\n",
    "\n",
    "# Iterate through the coordinates\n",
    "for coord in above_threshold_coords:\n",
    "    x, y, z = coord  # Coordinates directly from above_threshold_coords\n",
    "    \n",
    "    # Extract the region value from the resampled atlas image\n",
    "    region_value = atlas_img_resampled.get_fdata()[x, y, z]\n",
    "    \n",
    "    # Get the region name from the atlas labels\n",
    "    region_name = atlas.labels[int(region_value)]\n",
    "    \n",
    "    # Append the region name to the list\n",
    "    mapped_regions.append(region_name)\n",
    "\n",
    "# The mapped_regions list now contains the names of brain regions corresponding to the coordinates.\n",
    "print(mapped_regions)\n",
    "\n"
   ]
  },
  {
   "cell_type": "code",
   "execution_count": 63,
   "id": "2d00ae92-d248-4fc5-9395-fabcdac16dfe",
   "metadata": {},
   "outputs": [
    {
     "data": {
      "text/plain": [
       "array([ 0.,  1.,  2.,  3.,  4.,  5.,  6.,  7.,  8.,  9., 10., 11., 12.,\n",
       "       13., 14., 15., 16., 17., 18., 19., 20., 21., 22., 23., 24., 25.,\n",
       "       26., 27., 28., 29., 30., 31., 32., 33., 34., 35., 36., 37., 38.,\n",
       "       39., 40., 41., 42., 43., 44., 45., 46., 47., 48., 49., 50., 51.,\n",
       "       52., 53., 54., 55., 56., 57., 58., 59., 60., 61.])"
      ]
     },
     "execution_count": 63,
     "metadata": {},
     "output_type": "execute_result"
    }
   ],
   "source": [
    "np.unique(atlas_img_resampled.get_fdata())"
   ]
  },
  {
   "cell_type": "code",
   "execution_count": 64,
   "id": "d2622c31-b93f-4f46-87d4-a7bdc4c3f267",
   "metadata": {},
   "outputs": [
    {
     "data": {
      "text/plain": [
       "array([{'filename': 'C:\\\\Users\\\\jin/nilearn_data\\\\fsl\\\\data\\\\atlases\\\\HarvardOxford\\\\HarvardOxford-cort-maxprob-thr25-2mm.nii.gz', 'maps': <nibabel.nifti1.Nifti1Image object at 0x000002668F4B27C0>, 'labels': ['Background', 'Frontal Pole', 'Insular Cortex', 'Superior Frontal Gyrus', 'Middle Frontal Gyrus', 'Inferior Frontal Gyrus, pars triangularis', 'Inferior Frontal Gyrus, pars opercularis', 'Precentral Gyrus', 'Temporal Pole', 'Superior Temporal Gyrus, anterior division', 'Superior Temporal Gyrus, posterior division', 'Middle Temporal Gyrus, anterior division', 'Middle Temporal Gyrus, posterior division', 'Middle Temporal Gyrus, temporooccipital part', 'Inferior Temporal Gyrus, anterior division', 'Inferior Temporal Gyrus, posterior division', 'Inferior Temporal Gyrus, temporooccipital part', 'Postcentral Gyrus', 'Superior Parietal Lobule', 'Supramarginal Gyrus, anterior division', 'Supramarginal Gyrus, posterior division', 'Angular Gyrus', 'Lateral Occipital Cortex, superior division', 'Lateral Occipital Cortex, inferior division', 'Intracalcarine Cortex', 'Frontal Medial Cortex', 'Juxtapositional Lobule Cortex (formerly Supplementary Motor Cortex)', 'Subcallosal Cortex', 'Paracingulate Gyrus', 'Cingulate Gyrus, anterior division', 'Cingulate Gyrus, posterior division', 'Precuneous Cortex', 'Cuneal Cortex', 'Frontal Orbital Cortex', 'Parahippocampal Gyrus, anterior division', 'Parahippocampal Gyrus, posterior division', 'Lingual Gyrus', 'Temporal Fusiform Cortex, anterior division', 'Temporal Fusiform Cortex, posterior division', 'Temporal Occipital Fusiform Cortex', 'Occipital Fusiform Gyrus', 'Frontal Operculum Cortex', 'Central Opercular Cortex', 'Parietal Operculum Cortex', 'Planum Polare', \"Heschl's Gyrus (includes H1 and H2)\", 'Planum Temporale', 'Supracalcarine Cortex', 'Occipital Pole']}],\n",
       "      dtype=object)"
      ]
     },
     "execution_count": 64,
     "metadata": {},
     "output_type": "execute_result"
    }
   ],
   "source": [
    "np.unique(atlas)"
   ]
  },
  {
   "cell_type": "code",
   "execution_count": 65,
   "id": "4dc3b023-026f-4b02-bc5f-791dbc4a144f",
   "metadata": {},
   "outputs": [
    {
     "data": {
      "text/plain": [
       "array([52.])"
      ]
     },
     "execution_count": 65,
     "metadata": {},
     "output_type": "execute_result"
    }
   ],
   "source": [
    "np.unique(region_value)"
   ]
  }
 ],
 "metadata": {
  "kernelspec": {
   "display_name": "Python 3 (ipykernel)",
   "language": "python",
   "name": "python3"
  },
  "language_info": {
   "codemirror_mode": {
    "name": "ipython",
    "version": 3
   },
   "file_extension": ".py",
   "mimetype": "text/x-python",
   "name": "python",
   "nbconvert_exporter": "python",
   "pygments_lexer": "ipython3",
   "version": "3.9.13"
  }
 },
 "nbformat": 4,
 "nbformat_minor": 5
}
