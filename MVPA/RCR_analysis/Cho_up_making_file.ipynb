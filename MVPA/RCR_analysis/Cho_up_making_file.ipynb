{
 "cells": [
  {
   "cell_type": "markdown",
   "id": "2ed99f92-d2df-458c-80af-22907631554c",
   "metadata": {},
   "source": [
    "# 연구 설계\n",
    "\n",
    "1. 1번 평정 점수 < 2번 평정 점수 일 때의 bold 변화\n",
    "2. 1번 평정 점수 > 2번 평정 점수 일 때의 bold 변화\n",
    "\n",
    "사진들의 종류\n",
    "\n",
    "1. 선택 후 점수가 올라간 사진\n",
    "2. 선택 후 점수가 변화없는 사진\n",
    "3. 선택 후 점수가 내려간 사진\n",
    "4. 미선택 후 점수가 올라간 사진\n",
    "5. 미선택 후 점수가 변화없는 사진\n",
    "6. 미선택 후 점수가 내려간 사진\n",
    "\n",
    "for feature:\n",
    "\n",
    "2번째 평정에서 cho_up에 해당하는  사진 번호 리스트화.\n",
    "\n",
    "1번째 평정, 2번째 평정에서 해당 사진의 onset 가져오기.\n",
    "\n",
    "\n",
    "1번째 평정시 bold 데이터에서 onset + 6초에 해당하는 bold값\n",
    "\n",
    "2번째 평정시 bold 데이터에서 onset + 6초에 해당하는 bold값 가져오기.\n",
    "\n",
    "이 값들을 feature로\n",
    "\n",
    "\n",
    "for y:\n",
    "\n",
    "1번째 평정 데이터들의 y = 0\n",
    "\n",
    "2번째 평정 데이터들의 y = 1\n",
    "\n",
    "\n",
    "이걸 rjc_down에서도 똑같이 한다.\n",
    "\n",
    "+ 연결성에 대해서도 해보기."
   ]
  },
  {
   "cell_type": "code",
   "execution_count": 2,
   "id": "4c4014b7-2329-42d3-af76-45d671991a98",
   "metadata": {},
   "outputs": [],
   "source": [
    "import warnings\n",
    "warnings.filterwarnings('ignore')"
   ]
  },
  {
   "cell_type": "code",
   "execution_count": 13,
   "id": "0ebc5451-4984-420c-81ea-32ad99cdcab3",
   "metadata": {},
   "outputs": [],
   "source": [
    "del feature_list, con_list, func_list, y_list, onset_bold_list, predicted_list, concated_list, final_onset_list"
   ]
  },
  {
   "cell_type": "code",
   "execution_count": 3,
   "id": "973d3706-4863-4336-97b5-884ed1f22ed2",
   "metadata": {},
   "outputs": [],
   "source": [
    "# confounds 불러오기\n",
    "import pandas as pd\n",
    "from nilearn import image\n",
    "\n",
    "'''\n",
    "'2207071', '2207141', '2207142', '2207143', '2207271', '2207272', '2207273',\n",
    "          '2208041', '2208042', '2208043', '2208231', '2208232', '2208233', '2209022',\n",
    "          '2209023', '2209222', '2209223', '2303101', '2303102', '2303103', '2303131',\n",
    "          '2303132', '2303133', '2303161', '2303162', '2303163', '2303201', '2303202', '2303203'\n",
    "'''\n",
    "\n",
    "con_path = 'D:/fmri/3. derivatives 폴더에 넣어야 하는 것 (전처리 후 데이터, MNI 템플릿)/fmriprep/sub-ID{}/func/sub-ID{}_task-r{}_desc-confounds_timeseries.tsv'\n",
    "base_path = 'D:/fmri/3. derivatives 폴더에 넣어야 하는 것 (전처리 후 데이터, MNI 템플릿)/fmriprep/sub-ID{}/func/sub-ID{}_task-r{}_space-MNI152NLin2009cAsym_desc-preproc_bold.nii.gz'\n",
    "\n",
    "\n",
    "sub_ids = ['2303163', '2303201', '2303202', '2303203']\n",
    "r_nums = ['5','6','1','2']\n",
    "\n",
    "feature_list = []\n",
    "\n",
    "for sub_id in sub_ids:\n",
    "    con_list = []\n",
    "    func_list = []\n",
    "    \n",
    "    for r_num in r_nums:\n",
    "        # confounds\n",
    "        file_path = con_path.format(sub_id, sub_id, r_num)\n",
    "        con = pd.read_csv(file_path, sep='\\t')\n",
    "\n",
    "        con1 = con.fillna(0)\n",
    "\n",
    "        con_list.append(pd.DataFrame(con1))\n",
    "\n",
    "        # bold\n",
    "        func_path = base_path.format(sub_id, sub_id, r_num)\n",
    "        data = image.load_img(func_path)\n",
    "    \n",
    "        func_list.append(data)\n",
    "\n",
    "        # 전처리\n",
    "    for i in range(len(func_list)):\n",
    "        func_dc = image.clean_img(func_list[i], detrend=True, standardize=True, t_r=2,\n",
    "                              confounds=con_list[i])\n",
    "        feature_list.append(func_dc)\n",
    "        \n",
    "\n",
    "\n",
    "\n",
    "    "
   ]
  },
  {
   "cell_type": "code",
   "execution_count": 4,
   "id": "d32f1d62-f069-4287-9a66-a95b5c746ceb",
   "metadata": {},
   "outputs": [
    {
     "data": {
      "text/plain": [
       "[<nibabel.nifti1.Nifti1Image at 0x25652eb99d0>,\n",
       " <nibabel.nifti1.Nifti1Image at 0x25652eb99a0>,\n",
       " <nibabel.nifti1.Nifti1Image at 0x25652efe1c0>,\n",
       " <nibabel.nifti1.Nifti1Image at 0x25652efee20>,\n",
       " <nibabel.nifti1.Nifti1Image at 0x25652efe760>,\n",
       " <nibabel.nifti1.Nifti1Image at 0x25652efed60>,\n",
       " <nibabel.nifti1.Nifti1Image at 0x25652eb9970>,\n",
       " <nibabel.nifti1.Nifti1Image at 0x25653033a00>,\n",
       " <nibabel.nifti1.Nifti1Image at 0x25652efe0d0>,\n",
       " <nibabel.nifti1.Nifti1Image at 0x25652eb9640>,\n",
       " <nibabel.nifti1.Nifti1Image at 0x2561fa18d90>,\n",
       " <nibabel.nifti1.Nifti1Image at 0x25638353400>,\n",
       " <nibabel.nifti1.Nifti1Image at 0x25652eb9b50>,\n",
       " <nibabel.nifti1.Nifti1Image at 0x25653033c40>,\n",
       " <nibabel.nifti1.Nifti1Image at 0x25652eb9490>,\n",
       " <nibabel.nifti1.Nifti1Image at 0x25652eb9dc0>]"
      ]
     },
     "execution_count": 4,
     "metadata": {},
     "output_type": "execute_result"
    }
   ],
   "source": [
    "feature_list"
   ]
  },
  {
   "cell_type": "markdown",
   "id": "aad26f59-2572-4aba-8d77-6c7660d7b0ca",
   "metadata": {},
   "source": [
    "1. 5,6 이벤트 파일 가져오기. 각각 cho_up에 해당하는 jpg번호 얻기, 해당 행만 남기기.\n",
    "2. 5,6에서 해당하는 jpg번호를 1번 이벤트 파일과 대조. 같은 onset행만 남기고 없는 행은 버리기\n",
    "3. 똑같이 2번 이벤트 파일과 대조. (1번 이벤트, 2번 이벤트 파일 따로 있어야 함.)"
   ]
  },
  {
   "cell_type": "code",
   "execution_count": 5,
   "id": "fc2b26e7-fb21-4462-a3e4-6e14def2b7c5",
   "metadata": {},
   "outputs": [],
   "source": [
    "onset_path = 'D:/fmri/3. derivatives 폴더에 넣어야 하는 것 (전처리 후 데이터, MNI 템플릿)/fmriprep/sub-ID{}/eve_files/sub-ID{}_task-r{}_events.tsv'\n",
    "\n",
    "from scipy.interpolate import interp1d\n",
    "import numpy as np\n",
    "\n",
    "r_nums = ['5','6','1','2']\n",
    "\n",
    "\n",
    "y_list = []\n",
    "\n",
    "for sub_id in sub_ids:\n",
    "    onset_list = []\n",
    "    cho_up_list = []\n",
    "    original_scale = np.arange(0,550, 1)\n",
    "    desired_scale = np.arange(0,550, 2)\n",
    "    \n",
    "    for r_num in r_nums:\n",
    "        file_path = onset_path.format(sub_id, sub_id, r_num)\n",
    "        onset_file = pd.read_csv(file_path, sep='\\t')\n",
    "\n",
    "        if r_num == '5' or r_num == '6':\n",
    "            cho_up = onset_file[onset_file['chosen_change_detail'] == 'cho_up']\n",
    "            onset_list.append(cho_up)\n",
    "\n",
    "            events = cho_up['stim_onset'].values\n",
    "            predictor_all = np.zeros(550, dtype=int)\n",
    "\n",
    "            for i in [4,5]:\n",
    "                events1 = events.astype(int) + i\n",
    "                predictor_all[events1.astype(int)] = 1\n",
    "\n",
    "            resampler = interp1d(original_scale, predictor_all)\n",
    "            y = resampler(desired_scale)\n",
    "            y_list.append(y)\n",
    "            \n",
    "        else:\n",
    "            cho_up_jpg = pd.concat([onset_list[0]['stim'], onset_list[1]['stim']], axis=0)\n",
    "            cho_1 = onset_file[onset_file['stim'].isin(cho_up_jpg.values)]\n",
    "            cho_up_list.append(cho_1)\n",
    "\n",
    "            events = cho_1['stim_onset'].values\n",
    "            predictor_all = np.zeros(550, dtype=int)\n",
    "            \n",
    "            for i in [4,5]:\n",
    "                events1 = events.astype(int) + i\n",
    "                predictor_all[events1.astype(int)] = 1\n",
    "\n",
    "            resampler = interp1d(original_scale, predictor_all)\n",
    "            y = resampler(desired_scale)\n",
    "            y_list.append(y)\n"
   ]
  },
  {
   "cell_type": "code",
   "execution_count": 6,
   "id": "8627aa88-f15f-4f1f-a6ca-bee6585bc396",
   "metadata": {},
   "outputs": [
    {
     "data": {
      "text/plain": [
       "16"
      ]
     },
     "execution_count": 6,
     "metadata": {},
     "output_type": "execute_result"
    }
   ],
   "source": [
    "len(y_list)"
   ]
  },
  {
   "cell_type": "code",
   "execution_count": 7,
   "id": "8a831155-14ed-42e7-81e1-196328e59588",
   "metadata": {},
   "outputs": [
    {
     "name": "stdout",
     "output_type": "stream",
     "text": [
      "file shape : (65, 77, 65, 14)\n",
      "file shape : (65, 77, 65, 15)\n",
      "file shape : (65, 77, 65, 11)\n",
      "file shape : (65, 77, 65, 18)\n",
      "file shape : (65, 77, 65, 18)\n",
      "file shape : (65, 77, 65, 7)\n",
      "file shape : (65, 77, 65, 15)\n",
      "file shape : (65, 77, 65, 10)\n",
      "file shape : (65, 77, 65, 18)\n",
      "file shape : (65, 77, 65, 18)\n",
      "file shape : (65, 77, 65, 18)\n",
      "file shape : (65, 77, 65, 18)\n",
      "file shape : (65, 77, 65, 10)\n",
      "file shape : (65, 77, 65, 9)\n",
      "file shape : (65, 77, 65, 9)\n",
      "file shape : (65, 77, 65, 10)\n"
     ]
    }
   ],
   "source": [
    "# 참가자의 onset때 bold추출\n",
    "# y값도 같이 만들어주기.\n",
    "import nibabel as nib\n",
    "\n",
    "onset_bold_list = []\n",
    "predicted_list = []\n",
    "\n",
    "for i in range(len(feature_list)):\n",
    "    fdata = feature_list[i].get_fdata()\n",
    "    onset_indices = np.where(y_list[i] == 1)[0]\n",
    "    \n",
    "    bold_data = fdata[:,:,:,onset_indices]\n",
    "    img = nib.Nifti1Image(bold_data, feature_list[i].affine)\n",
    "    onset_bold_list.append(img)\n",
    "\n",
    "    print('file shape :', onset_bold_list[i].shape)\n",
    "\n",
    "    if (i+1) % 4 == 1 or (i+1) % 4 == 2:\n",
    "        predicted = [1]*img.shape[3]\n",
    "        predicted_list.append(predicted)\n",
    "\n",
    "    else:\n",
    "        predicted2 = [0]*img.shape[3]\n",
    "        predicted_list.append(predicted2)"
   ]
  },
  {
   "cell_type": "code",
   "execution_count": 8,
   "id": "ade27f9c-42f4-4659-a2cf-12ab68d3ac6e",
   "metadata": {},
   "outputs": [
    {
     "data": {
      "text/plain": [
       "[[1, 1, 1, 1, 1, 1, 1, 1, 1, 1, 1, 1, 1, 1],\n",
       " [1, 1, 1, 1, 1, 1, 1, 1, 1, 1, 1, 1, 1, 1, 1],\n",
       " [0, 0, 0, 0, 0, 0, 0, 0, 0, 0, 0],\n",
       " [0, 0, 0, 0, 0, 0, 0, 0, 0, 0, 0, 0, 0, 0, 0, 0, 0, 0],\n",
       " [1, 1, 1, 1, 1, 1, 1, 1, 1, 1, 1, 1, 1, 1, 1, 1, 1, 1],\n",
       " [1, 1, 1, 1, 1, 1, 1],\n",
       " [0, 0, 0, 0, 0, 0, 0, 0, 0, 0, 0, 0, 0, 0, 0],\n",
       " [0, 0, 0, 0, 0, 0, 0, 0, 0, 0],\n",
       " [1, 1, 1, 1, 1, 1, 1, 1, 1, 1, 1, 1, 1, 1, 1, 1, 1, 1],\n",
       " [1, 1, 1, 1, 1, 1, 1, 1, 1, 1, 1, 1, 1, 1, 1, 1, 1, 1],\n",
       " [0, 0, 0, 0, 0, 0, 0, 0, 0, 0, 0, 0, 0, 0, 0, 0, 0, 0],\n",
       " [0, 0, 0, 0, 0, 0, 0, 0, 0, 0, 0, 0, 0, 0, 0, 0, 0, 0],\n",
       " [1, 1, 1, 1, 1, 1, 1, 1, 1, 1],\n",
       " [1, 1, 1, 1, 1, 1, 1, 1, 1],\n",
       " [0, 0, 0, 0, 0, 0, 0, 0, 0],\n",
       " [0, 0, 0, 0, 0, 0, 0, 0, 0, 0]]"
      ]
     },
     "execution_count": 8,
     "metadata": {},
     "output_type": "execute_result"
    }
   ],
   "source": [
    "predicted_list"
   ]
  },
  {
   "cell_type": "code",
   "execution_count": 9,
   "id": "aef1fd3c-75bf-40a2-a486-8b2e6b62121c",
   "metadata": {},
   "outputs": [
    {
     "name": "stdout",
     "output_type": "stream",
     "text": [
      "(65, 77, 65, 58)\n",
      "(65, 77, 65, 50)\n",
      "(65, 77, 65, 72)\n",
      "(65, 77, 65, 38)\n"
     ]
    }
   ],
   "source": [
    "# r5,r6,r1,r2 합치기\n",
    "from nilearn import image\n",
    "\n",
    "concated_list = []\n",
    "chunk_size=4\n",
    "\n",
    "for j in range(0, len(onset_bold_list), chunk_size):\n",
    "    bold_concated = image.concat_imgs(onset_bold_list[j:j+4])\n",
    "    print(bold_concated.shape)\n",
    "    concated_list.append(bold_concated)"
   ]
  },
  {
   "cell_type": "code",
   "execution_count": 10,
   "id": "95d7fc8a-06b6-4d5c-b59d-0c191706c1dd",
   "metadata": {},
   "outputs": [
    {
     "name": "stdout",
     "output_type": "stream",
     "text": [
      "the file name : ID2303163_cho_up\n",
      "the file shape : (65, 77, 65, 58)\n",
      "the file name : ID2303201_cho_up\n",
      "the file shape : (65, 77, 65, 50)\n",
      "the file name : ID2303202_cho_up\n",
      "the file shape : (65, 77, 65, 72)\n",
      "the file name : ID2303203_cho_up\n",
      "the file shape : (65, 77, 65, 38)\n"
     ]
    }
   ],
   "source": [
    "# 메모리 위해 따로 저장\n",
    "for i in range(len(concated_list)):\n",
    "    output_path = f'D:/fmri/cho_up/ID{sub_ids[i]}_cho_up.nii.gz'\n",
    "    print(f'the file name : ID{sub_ids[i]}_cho_up')\n",
    "    print(f'the file shape : {concated_list[i].shape}')\n",
    "    nib.save(concated_list[i], output_path)"
   ]
  },
  {
   "cell_type": "code",
   "execution_count": 11,
   "id": "7b8e3c8d-3295-4358-a6fb-00159b83cf82",
   "metadata": {},
   "outputs": [
    {
     "name": "stdout",
     "output_type": "stream",
     "text": [
      "(58,)\n",
      "(50,)\n",
      "(72,)\n",
      "(38,)\n"
     ]
    }
   ],
   "source": [
    "# y 만들기..\n",
    "chunk_size = 4\n",
    "\n",
    "final_onset_list = []\n",
    "\n",
    "for i in range(0, len(predicted_list), chunk_size):\n",
    "    onset_y = np.concatenate(predicted_list[i:i+4])\n",
    "    y = onset_y.ravel()\n",
    "    print(y.shape)\n",
    "    final_onset_list.append(y)"
   ]
  },
  {
   "cell_type": "code",
   "execution_count": 12,
   "id": "3ec97cdf-31dd-41cd-a49a-afb9857a5552",
   "metadata": {},
   "outputs": [
    {
     "name": "stdout",
     "output_type": "stream",
     "text": [
      "the file name : ID2303163_cho_up_y\n",
      "the file shape : (58,)\n",
      "the file name : ID2303201_cho_up_y\n",
      "the file shape : (50,)\n",
      "the file name : ID2303202_cho_up_y\n",
      "the file shape : (72,)\n",
      "the file name : ID2303203_cho_up_y\n",
      "the file shape : (38,)\n"
     ]
    }
   ],
   "source": [
    "# 따로 저장\n",
    "for i in range(len(final_onset_list)):\n",
    "    output_y = pd.DataFrame({'R2=1' : final_onset_list[i]})\n",
    "    output_y_path = f'D:/fmri/cho_up/y/ID{sub_ids[i]}_cho_up_y.csv'\n",
    "    \n",
    "    print(f'the file name : ID{sub_ids[i]}_cho_up_y')\n",
    "    print(f'the file shape : {final_onset_list[i].shape}')\n",
    "    \n",
    "    output_y.to_csv(output_y_path, index=False)"
   ]
  },
  {
   "cell_type": "code",
   "execution_count": 9,
   "id": "838d20ad-0aca-4f70-82eb-62fde8138142",
   "metadata": {},
   "outputs": [
    {
     "data": {
      "text/plain": [
       "(96, 114, 96)"
      ]
     },
     "execution_count": 9,
     "metadata": {},
     "output_type": "execute_result"
    }
   ],
   "source": [
    "# 마스크\n",
    "t1 = image.load_img('D:/fmri/3. derivatives 폴더에 넣어야 하는 것 (전처리 후 데이터, MNI 템플릿)/tpl-MNI152NLin2009cAsym/tpl-MNI152NLin2009cAsym_res-02_desc-brain_T1w.nii.gz')\n",
    "t1.shape"
   ]
  },
  {
   "cell_type": "code",
   "execution_count": 10,
   "id": "a30c33cd-3741-4017-8d73-8b7a9ce78859",
   "metadata": {},
   "outputs": [
    {
     "data": {
      "text/plain": [
       "(65, 77, 65)"
      ]
     },
     "execution_count": 10,
     "metadata": {},
     "output_type": "execute_result"
    }
   ],
   "source": [
    "# resample\n",
    "img_resampled = image.resample_to_img(t1, bold_concated)\n",
    "img_resampled.shape"
   ]
  },
  {
   "cell_type": "code",
   "execution_count": 15,
   "id": "4475e5df-06c8-459a-b961-ef95e63a9043",
   "metadata": {},
   "outputs": [],
   "source": [
    "# from scipy.ndimage import binary_dilation\n",
    "\n",
    "# 데이터를 200이상인 값은 1로, 그외의 값 0으로 변환. # 값은 계속 돌려가며 한번 보자.\n",
    "data_binary = np.array(img_resampled.get_fdata()>=400, dtype=np.int8)\n",
    "\n",
    "# Dilate binary mask once\n",
    "# 이진화된 데이터 팽창작엄.(마스크 확장해서 뇌영상 데이터에서 원하는 복셀 더 포함)\n",
    "# data_dialted = binary_dilation(data_binary, iterations=1).astype(np.int8)\n",
    "\n",
    "# Save binary mask in NIfTI image\n",
    "# img_mask = nb.Nifti1Image(data_dialted, img_resampled.affine, img_resampled.header)\n",
    "brain_mask = nib.Nifti1Image(data_binary, img_resampled.affine, img_resampled.header)\n",
    "brain_mask.set_data_dtype('i1')"
   ]
  },
  {
   "cell_type": "code",
   "execution_count": 16,
   "id": "a805aa6a-e046-4fd3-8115-16214f66bb7b",
   "metadata": {},
   "outputs": [
    {
     "data": {
      "text/plain": [
       "<nilearn.plotting.displays._slicers.OrthoSlicer at 0x1350d7c2be0>"
      ]
     },
     "execution_count": 16,
     "metadata": {},
     "output_type": "execute_result"
    },
    {
     "data": {
      "image/png": "[encoded data removed]",
      "text/plain": [
       "<Figure size 660x260 with 4 Axes>"
      ]
     },
     "metadata": {},
     "output_type": "display_data"
    }
   ],
   "source": [
    "from nilearn.plotting import plot_roi\n",
    "plot_roi(brain_mask, draw_cross=False, annotate=False, black_bg=True,\n",
    "        bg_img=t1, cut_coords=[30,-10,30], title='dilated brain', cmap='magma_r', dim=1)"
   ]
  },
  {
   "cell_type": "code",
   "execution_count": 17,
   "id": "72e5ae6e-57c2-4337-aee6-818c4ab6a9b0",
   "metadata": {},
   "outputs": [
    {
     "name": "stdout",
     "output_type": "stream",
     "text": [
      "Shape of indexed data: (54, 72382)\n"
     ]
    }
   ],
   "source": [
    "from nilearn import masking\n",
    "\n",
    "X = masking.apply_mask(bold_concated, brain_mask)\n",
    "print('Shape of indexed data:', X.shape)"
   ]
  },
  {
   "cell_type": "code",
   "execution_count": 18,
   "id": "1d6ff7aa-da47-409d-9bae-ca7d32e72ccb",
   "metadata": {},
   "outputs": [
    {
     "data": {
      "text/plain": [
       "(54,)"
      ]
     },
     "execution_count": 18,
     "metadata": {},
     "output_type": "execute_result"
    }
   ],
   "source": [
    "# y 만들기..\n",
    "onset_y = np.concatenate(predicted_list)\n",
    "y = onset_y.ravel()\n",
    "y.shape"
   ]
  },
  {
   "cell_type": "code",
   "execution_count": 25,
   "id": "6e72625b-5108-4828-931d-31fb7faeb409",
   "metadata": {},
   "outputs": [],
   "source": [
    "output_y = pd.DataFrame({'R2=1' : y})\n",
    "output_y_path = f'D:/fmri/cho_up/y/ID{sub_ids[0]}_cho_up_y.csv'\n",
    "\n",
    "output_y.to_csv(output_y_path, index=False)"
   ]
  },
  {
   "cell_type": "code",
   "execution_count": 85,
   "id": "5991d045-a0b7-4855-a267-c41be2eed443",
   "metadata": {},
   "outputs": [
    {
     "name": "stdout",
     "output_type": "stream",
     "text": [
      "X shape: (54, 72382)\n",
      "y shape: (54,)\n"
     ]
    }
   ],
   "source": [
    "print('X shape:', X.shape)\n",
    "print('y shape:', y.shape)"
   ]
  },
  {
   "cell_type": "markdown",
   "id": "879e51b6-0ef3-48db-b20f-b3e9bff61883",
   "metadata": {},
   "source": [
    "# 간단하게 로지스틱 해보겠어요"
   ]
  },
  {
   "cell_type": "code",
   "execution_count": 88,
   "id": "cc3fc68c-866a-4bc2-a351-7518d3bff86a",
   "metadata": {},
   "outputs": [],
   "source": [
    "from sklearn.linear_model import LogisticRegression\n",
    "\n",
    "clf = LogisticRegression(solver='lbfgs')"
   ]
  },
  {
   "cell_type": "code",
   "execution_count": 90,
   "id": "2c26ccfe-ad46-4bf6-a3d7-d88e113e188d",
   "metadata": {},
   "outputs": [],
   "source": [
    "from sklearn.model_selection import train_test_split\n",
    "X_train, X_test, y_train, y_test = train_test_split(X, y, test_size=0.5, shuffle=True, random_state=42)"
   ]
  },
  {
   "cell_type": "code",
   "execution_count": 95,
   "id": "cd6e9a01-a39d-48a5-a9e2-ca680daca7d0",
   "metadata": {},
   "outputs": [
    {
     "data": {
      "text/html": [
       "<style>#sk-container-id-1 {color: black;}#sk-container-id-1 pre{padding: 0;}#sk-container-id-1 div.sk-toggleable {background-color: white;}#sk-container-id-1 label.sk-toggleable__label {cursor: pointer;display: block;width: 100%;margin-bottom: 0;padding: 0.3em;box-sizing: border-box;text-align: center;}#sk-container-id-1 label.sk-toggleable__label-arrow:before {content: \"▸\";float: left;margin-right: 0.25em;color: #696969;}#sk-container-id-1 label.sk-toggleable__label-arrow:hover:before {color: black;}#sk-container-id-1 div.sk-estimator:hover label.sk-toggleable__label-arrow:before {color: black;}#sk-container-id-1 div.sk-toggleable__content {max-height: 0;max-width: 0;overflow: hidden;text-align: left;background-color: #f0f8ff;}#sk-container-id-1 div.sk-toggleable__content pre {margin: 0.2em;color: black;border-radius: 0.25em;background-color: #f0f8ff;}#sk-container-id-1 input.sk-toggleable__control:checked~div.sk-toggleable__content {max-height: 200px;max-width: 100%;overflow: auto;}#sk-container-id-1 input.sk-toggleable__control:checked~label.sk-toggleable__label-arrow:before {content: \"▾\";}#sk-container-id-1 div.sk-estimator input.sk-toggleable__control:checked~label.sk-toggleable__label {background-color: #d4ebff;}#sk-container-id-1 div.sk-label input.sk-toggleable__control:checked~label.sk-toggleable__label {background-color: #d4ebff;}#sk-container-id-1 input.sk-hidden--visually {border: 0;clip: rect(1px 1px 1px 1px);clip: rect(1px, 1px, 1px, 1px);height: 1px;margin: -1px;overflow: hidden;padding: 0;position: absolute;width: 1px;}#sk-container-id-1 div.sk-estimator {font-family: monospace;background-color: #f0f8ff;border: 1px dotted black;border-radius: 0.25em;box-sizing: border-box;margin-bottom: 0.5em;}#sk-container-id-1 div.sk-estimator:hover {background-color: #d4ebff;}#sk-container-id-1 div.sk-parallel-item::after {content: \"\";width: 100%;border-bottom: 1px solid gray;flex-grow: 1;}#sk-container-id-1 div.sk-label:hover label.sk-toggleable__label {background-color: #d4ebff;}#sk-container-id-1 div.sk-serial::before {content: \"\";position: absolute;border-left: 1px solid gray;box-sizing: border-box;top: 0;bottom: 0;left: 50%;z-index: 0;}#sk-container-id-1 div.sk-serial {display: flex;flex-direction: column;align-items: center;background-color: white;padding-right: 0.2em;padding-left: 0.2em;position: relative;}#sk-container-id-1 div.sk-item {position: relative;z-index: 1;}#sk-container-id-1 div.sk-parallel {display: flex;align-items: stretch;justify-content: center;background-color: white;position: relative;}#sk-container-id-1 div.sk-item::before, #sk-container-id-1 div.sk-parallel-item::before {content: \"\";position: absolute;border-left: 1px solid gray;box-sizing: border-box;top: 0;bottom: 0;left: 50%;z-index: -1;}#sk-container-id-1 div.sk-parallel-item {display: flex;flex-direction: column;z-index: 1;position: relative;background-color: white;}#sk-container-id-1 div.sk-parallel-item:first-child::after {align-self: flex-end;width: 50%;}#sk-container-id-1 div.sk-parallel-item:last-child::after {align-self: flex-start;width: 50%;}#sk-container-id-1 div.sk-parallel-item:only-child::after {width: 0;}#sk-container-id-1 div.sk-dashed-wrapped {border: 1px dashed gray;margin: 0 0.4em 0.5em 0.4em;box-sizing: border-box;padding-bottom: 0.4em;background-color: white;}#sk-container-id-1 div.sk-label label {font-family: monospace;font-weight: bold;display: inline-block;line-height: 1.2em;}#sk-container-id-1 div.sk-label-container {text-align: center;}#sk-container-id-1 div.sk-container {/* jupyter's `normalize.less` sets `[hidden] { display: none; }` but bootstrap.min.css set `[hidden] { display: none !important; }` so we also need the `!important` here to be able to override the default hidden behavior on the sphinx rendered scikit-learn.org. See: https://github.com/scikit-learn/scikit-learn/issues/21755 */display: inline-block !important;position: relative;}#sk-container-id-1 div.sk-text-repr-fallback {display: none;}</style><div id=\"sk-container-id-1\" class=\"sk-top-container\"><div class=\"sk-text-repr-fallback\"><pre>LogisticRegression()</pre><b>In a Jupyter environment, please rerun this cell to show the HTML representation or trust the notebook. <br />On GitHub, the HTML representation is unable to render, please try loading this page with nbviewer.org.</b></div><div class=\"sk-container\" hidden><div class=\"sk-item\"><div class=\"sk-estimator sk-toggleable\"><input class=\"sk-toggleable__control sk-hidden--visually\" id=\"sk-estimator-id-1\" type=\"checkbox\" checked><label for=\"sk-estimator-id-1\" class=\"sk-toggleable__label sk-toggleable__label-arrow\">LogisticRegression</label><div class=\"sk-toggleable__content\"><pre>LogisticRegression()</pre></div></div></div></div></div>"
      ],
      "text/plain": [
       "LogisticRegression()"
      ]
     },
     "execution_count": 95,
     "metadata": {},
     "output_type": "execute_result"
    }
   ],
   "source": [
    "clf.fit(X_train, y_train)"
   ]
  },
  {
   "cell_type": "code",
   "execution_count": 96,
   "id": "5f77e040-5960-4319-8232-fbf072ae585c",
   "metadata": {},
   "outputs": [
    {
     "name": "stdout",
     "output_type": "stream",
     "text": [
      "혼동행렬 : \n",
      " [[9 3]\n",
      " [8 7]]\n",
      "정화도 : 0.5926, 민감도 : 0.4667, 정밀도 : 0.7000\n"
     ]
    }
   ],
   "source": [
    "pred = clf.predict(X_test)\n",
    "\n",
    "from sklearn.metrics import confusion_matrix, accuracy_score, precision_score, recall_score\n",
    "\n",
    "confusion = confusion_matrix(y_test, pred)\n",
    "accuracy = accuracy_score(y_test, pred)\n",
    "recall = recall_score(y_test, pred)\n",
    "precision = precision_score(y_test, pred)\n",
    "\n",
    "print('혼동행렬 : \\n',\n",
    "      confusion)\n",
    "print(f\"정화도 : {accuracy:.4f}, 민감도 : {recall:.4f}, 정밀도 : {precision:.4f}\")"
   ]
  }
 ],
 "metadata": {
  "kernelspec": {
   "display_name": "Python 3 (ipykernel)",
   "language": "python",
   "name": "python3"
  },
  "language_info": {
   "codemirror_mode": {
    "name": "ipython",
    "version": 3
   },
   "file_extension": ".py",
   "mimetype": "text/x-python",
   "name": "python",
   "nbconvert_exporter": "python",
   "pygments_lexer": "ipython3",
   "version": "3.9.13"
  }
 },
 "nbformat": 4,
 "nbformat_minor": 5
}
