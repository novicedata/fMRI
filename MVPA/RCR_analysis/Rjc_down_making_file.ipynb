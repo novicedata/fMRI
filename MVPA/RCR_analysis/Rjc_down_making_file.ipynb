{
 "cells": [
  {
   "cell_type": "code",
   "execution_count": 1,
   "id": "ed1fb0bc-3f56-4819-bf5c-ac3d5758b8a8",
   "metadata": {},
   "outputs": [
    {
     "ename": "NameError",
     "evalue": "name 'feature_list' is not defined",
     "output_type": "error",
     "traceback": [
      "\u001b[1;31m---------------------------------------------------------------------------\u001b[0m",
      "\u001b[1;31mNameError\u001b[0m                                 Traceback (most recent call last)",
      "Cell \u001b[1;32mIn[1], line 1\u001b[0m\n\u001b[1;32m----> 1\u001b[0m \u001b[38;5;28;01mdel\u001b[39;00m \u001b[43mfeature_list\u001b[49m, con_list, func_list, y_list, onset_bold_list, predicted_list, concated_list, final_onset_list\n",
      "\u001b[1;31mNameError\u001b[0m: name 'feature_list' is not defined"
     ]
    }
   ],
   "source": [
    "del feature_list, con_list, func_list, y_list, onset_bold_list, predicted_list, concated_list, final_onset_list"
   ]
  },
  {
   "cell_type": "code",
   "execution_count": null,
   "id": "ab90d75e-8629-49a3-9a75-e2724aa1b17f",
   "metadata": {},
   "outputs": [],
   "source": [
    "# confounds 불러오기\n",
    "import pandas as pd\n",
    "from nilearn import image\n",
    "\n",
    "'''\n",
    "'2207071', '2207141', '2207142', '2207143', '2207271', '2207272', '2207273',\n",
    "          '2208041', '2208042', '2208043', '2208231', '2208232', '2208233', '2209022',\n",
    "          '2209023', '2209222', '2209223', '2303101', '2303102', '2303103', '2303131',\n",
    "          '2303132', '2303133', '2303161', '2303162', '2303163', '2303201', '2303202', '2303203'\n",
    "'''\n",
    "\n",
    "con_path = 'D:/fmri/3. derivatives 폴더에 넣어야 하는 것 (전처리 후 데이터, MNI 템플릿)/fmriprep/sub-ID{}/func/sub-ID{}_task-r{}_desc-confounds_timeseries.tsv'\n",
    "base_path = 'D:/fmri/3. derivatives 폴더에 넣어야 하는 것 (전처리 후 데이터, MNI 템플릿)/fmriprep/sub-ID{}/func/sub-ID{}_task-r{}_space-MNI152NLin2009cAsym_desc-preproc_bold.nii.gz'\n",
    "\n",
    "\n",
    "sub_ids = ['2303163', '2303201', '2303202', '2303203']\n",
    "r_nums = ['5','6','1','2']\n",
    "\n",
    "feature_list = []\n",
    "\n",
    "for sub_id in sub_ids:\n",
    "    con_list = []\n",
    "    func_list = []\n",
    "    \n",
    "    for r_num in r_nums:\n",
    "        # confounds\n",
    "        file_path = con_path.format(sub_id, sub_id, r_num)\n",
    "        con = pd.read_csv(file_path, sep='\\t')\n",
    "\n",
    "        con1 = con.fillna(0)\n",
    "\n",
    "        con_list.append(pd.DataFrame(con1))\n",
    "\n",
    "        # bold\n",
    "        func_path = base_path.format(sub_id, sub_id, r_num)\n",
    "        data = image.load_img(func_path)\n",
    "    \n",
    "        func_list.append(data)\n",
    "\n",
    "        # 전처리\n",
    "    for i in range(len(func_list)):\n",
    "        func_dc = image.clean_img(func_list[i], detrend=True, standardize=True, t_r=2,\n",
    "                              confounds=con_list[i])\n",
    "        feature_list.append(func_dc)\n",
    "        "
   ]
  },
  {
   "cell_type": "code",
   "execution_count": null,
   "id": "f4f5c344-94c8-41e5-a1f9-5d29974b8d30",
   "metadata": {},
   "outputs": [],
   "source": [
    "feature_list"
   ]
  },
  {
   "cell_type": "code",
   "execution_count": null,
   "id": "20e0776e-c924-4393-a45b-7731ce77fd22",
   "metadata": {},
   "outputs": [],
   "source": [
    "onset_path = 'D:/fmri/3. derivatives 폴더에 넣어야 하는 것 (전처리 후 데이터, MNI 템플릿)/fmriprep/sub-ID{}/eve_files/sub-ID{}_task-r{}_events.tsv'\n",
    "\n",
    "from scipy.interpolate import interp1d\n",
    "import numpy as np\n",
    "\n",
    "r_nums = ['5','6','1','2']\n",
    "\n",
    "\n",
    "y_list = []\n",
    "\n",
    "for sub_id in sub_ids:\n",
    "    onset_list = []\n",
    "    rjc_down_list = []\n",
    "    original_scale = np.arange(0,550, 1)\n",
    "    desired_scale = np.arange(0,550, 2)\n",
    "    \n",
    "    for r_num in r_nums:\n",
    "        file_path = onset_path.format(sub_id, sub_id, r_num)\n",
    "        onset_file = pd.read_csv(file_path, sep='\\t')\n",
    "\n",
    "        if r_num == '5' or r_num == '6':\n",
    "            rjc_down = onset_file[onset_file['chosen_change_detail'] == 'rjc_down']\n",
    "            onset_list.append(rjc_down)\n",
    "\n",
    "            events = rjc_down['stim_onset'].values\n",
    "            predictor_all = np.zeros(550, dtype=int)\n",
    "\n",
    "            for i in [4,5]:\n",
    "                events1 = events.astype(int) + i\n",
    "                predictor_all[events1.astype(int)] = 1\n",
    "\n",
    "            resampler = interp1d(original_scale, predictor_all)\n",
    "            y = resampler(desired_scale)\n",
    "            y_list.append(y)\n",
    "            \n",
    "        else:\n",
    "            rjc_down_jpg = pd.concat([onset_list[0]['stim'], onset_list[1]['stim']], axis=0)\n",
    "            rjc_1 = onset_file[onset_file['stim'].isin(rjc_down_jpg.values)]\n",
    "            rjc_down_list.append(rjc_1)\n",
    "\n",
    "            events = rjc_1['stim_onset'].values\n",
    "            predictor_all = np.zeros(550, dtype=int)\n",
    "            \n",
    "            for i in [4,5]:\n",
    "                events1 = events.astype(int) + i\n",
    "                predictor_all[events1.astype(int)] = 1\n",
    "\n",
    "            resampler = interp1d(original_scale, predictor_all)\n",
    "            y = resampler(desired_scale)\n",
    "            y_list.append(y)\n"
   ]
  },
  {
   "cell_type": "code",
   "execution_count": null,
   "id": "2fe6e359-c031-4b86-82a9-c9d4cfdc15a3",
   "metadata": {},
   "outputs": [],
   "source": [
    "onset_list[0]"
   ]
  },
  {
   "cell_type": "code",
   "execution_count": null,
   "id": "9c31c016-c0ec-4b69-8979-a105a1108af6",
   "metadata": {},
   "outputs": [],
   "source": [
    "rjc_down_list[0]"
   ]
  },
  {
   "cell_type": "code",
   "execution_count": null,
   "id": "5c85b654-b97c-437d-9160-d0dcee73b598",
   "metadata": {},
   "outputs": [],
   "source": [
    "y_list[0]"
   ]
  },
  {
   "cell_type": "code",
   "execution_count": null,
   "id": "b85b116a-75b0-4518-9efa-ebfa01df8857",
   "metadata": {},
   "outputs": [],
   "source": [
    "len(y_list)"
   ]
  },
  {
   "cell_type": "code",
   "execution_count": null,
   "id": "43efa417-4175-44ed-bb00-5408161a187f",
   "metadata": {},
   "outputs": [],
   "source": [
    "# 참가자의 onset때 bold추출\n",
    "# y값도 같이 만들어주기.\n",
    "import nibabel as nib\n",
    "\n",
    "onset_bold_list = []\n",
    "predicted_list = []\n",
    "\n",
    "for i in range(len(feature_list)):\n",
    "    fdata = feature_list[i].get_fdata()\n",
    "    onset_indices = np.where(y_list[i] == 1)[0]\n",
    "    \n",
    "    bold_data = fdata[:,:,:,onset_indices]\n",
    "    img = nib.Nifti1Image(bold_data, feature_list[i].affine)\n",
    "    onset_bold_list.append(img)\n",
    "\n",
    "    print('file shape :', onset_bold_list[i].shape)\n",
    "\n",
    "    if (i+1) % 4 == 1 or (i+1) % 4 == 2:\n",
    "        predicted = [1]*img.shape[3]\n",
    "        predicted_list.append(predicted)\n",
    "\n",
    "    else:\n",
    "        predicted2 = [0]*img.shape[3]\n",
    "        predicted_list.append(predicted2)"
   ]
  },
  {
   "cell_type": "code",
   "execution_count": null,
   "id": "91c88b53-7f62-4ecc-bd5b-986d7739b6c4",
   "metadata": {},
   "outputs": [],
   "source": [
    "predicted_list"
   ]
  },
  {
   "cell_type": "code",
   "execution_count": null,
   "id": "f1a5ec0d-721c-420d-a302-05ac81878308",
   "metadata": {},
   "outputs": [],
   "source": [
    "# r5,r6,r1,r2 합치기\n",
    "from nilearn import image\n",
    "\n",
    "concated_list = []\n",
    "chunk_size=4\n",
    "\n",
    "for j in range(0, len(onset_bold_list), chunk_size):\n",
    "    bold_concated = image.concat_imgs(onset_bold_list[j:j+4])\n",
    "    print(bold_concated.shape)\n",
    "    concated_list.append(bold_concated)"
   ]
  },
  {
   "cell_type": "code",
   "execution_count": null,
   "id": "b28c3578-2d61-4797-95f9-04127be9d95e",
   "metadata": {},
   "outputs": [],
   "source": [
    "# 메모리 위해 따로 저장\n",
    "for i in range(len(concated_list)):\n",
    "    output_path = f'D:/fmri/rjc_down/ID{sub_ids[i]}_rjc_down.nii.gz'\n",
    "    print(f'the file name : ID{sub_ids[i]}_rjc_down')\n",
    "    print(f'the file shape : {concated_list[i].shape}')\n",
    "    nib.save(concated_list[i], output_path)"
   ]
  },
  {
   "cell_type": "code",
   "execution_count": null,
   "id": "b98c83e8-11a1-4507-b79d-5f3b1f60f301",
   "metadata": {},
   "outputs": [],
   "source": [
    "# y 만들기..\n",
    "chunk_size = 4\n",
    "\n",
    "final_onset_list = []\n",
    "\n",
    "for i in range(0, len(predicted_list), chunk_size):\n",
    "    onset_y = np.concatenate(predicted_list[i:i+4])\n",
    "    y = onset_y.ravel()\n",
    "    print(y.shape)\n",
    "    final_onset_list.append(y)"
   ]
  },
  {
   "cell_type": "code",
   "execution_count": null,
   "id": "9dbd5cde-f407-4b3a-a758-e5c9a586dda2",
   "metadata": {},
   "outputs": [],
   "source": [
    "# 따로 저장\n",
    "for i in range(len(final_onset_list)):\n",
    "    output_y = pd.DataFrame({'R2=1' : final_onset_list[i]})\n",
    "    output_y_path = f'D:/fmri/rjc_down/y/ID{sub_ids[i]}_rjc_down_y.csv'\n",
    "    \n",
    "    print(f'the file name : ID{sub_ids[i]}_rjc_down_y')\n",
    "    print(f'the file shape : {final_onset_list[i].shape}')\n",
    "    \n",
    "    output_y.to_csv(output_y_path, index=False)"
   ]
  },
  {
   "cell_type": "code",
   "execution_count": null,
   "id": "39c5a073-b91e-4c5f-9093-8ebbb792b335",
   "metadata": {},
   "outputs": [],
   "source": []
  }
 ],
 "metadata": {
  "kernelspec": {
   "display_name": "Python 3 (ipykernel)",
   "language": "python",
   "name": "python3"
  },
  "language_info": {
   "codemirror_mode": {
    "name": "ipython",
    "version": 3
   },
   "file_extension": ".py",
   "mimetype": "text/x-python",
   "name": "python",
   "nbconvert_exporter": "python",
   "pygments_lexer": "ipython3",
   "version": "3.11.4"
  }
 },
 "nbformat": 4,
 "nbformat_minor": 5
}
