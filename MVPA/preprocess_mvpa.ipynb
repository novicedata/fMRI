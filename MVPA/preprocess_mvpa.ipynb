{
 "cells": [
  {
   "cell_type": "markdown",
   "id": "feedc4bc-137e-4163-8d7c-2c48e2b3775c",
   "metadata": {},
   "source": [
    "# 데이터 준비"
   ]
  },
  {
   "cell_type": "code",
   "execution_count": 33,
   "id": "51ec394b-7375-4106-b73f-afd69213852e",
   "metadata": {},
   "outputs": [],
   "source": [
    "import warnings\n",
    "warnings.filterwarnings('ignore')"
   ]
  },
  {
   "cell_type": "markdown",
   "id": "b0c67afa-7cec-44fa-af37-f6707dfa7ad1",
   "metadata": {},
   "source": [
    "## Confounds 불러오기"
   ]
  },
  {
   "cell_type": "code",
   "execution_count": 1,
   "id": "ee16f677-1e89-42ba-966d-cd53ed2906bd",
   "metadata": {},
   "outputs": [],
   "source": [
    "# confounds 불러오기\n",
    "import pandas as pd\n",
    "from nilearn import image\n",
    "\n",
    "'''\n",
    "'2207071', '2207141', '2207142', '2207143', '2207271', '2207272', '2207273',\n",
    "          '2208041', '2208042', '2208043', '2208231', '2208232', '2208233', '2209022',\n",
    "          '2209023', '2209222', '2209223', '2303101', '2303102', '2303103', '2303131',\n",
    "          '2303132', '2303133', '2303161', '2303162', '2303163', '2303201', '2303202', '2303203'\n",
    "'''\n",
    "\n",
    "con_path = 'D:/fmri/3. derivatives 폴더에 넣어야 하는 것 (전처리 후 데이터, MNI 템플릿)/fmriprep/sub-ID{}/func/sub-ID{}_task-r1_desc-confounds_timeseries.tsv'\n",
    "sub_ids = ['2207143', '2207271', '2207272', '2207273',\n",
    "          '2208041', '2208042', '2208043', '2208231', '2208232', '2208233',]\n",
    "\n",
    "con_list = []\n",
    "\n",
    "for sub_id in sub_ids:\n",
    "    file_path = con_path.format(sub_id, sub_id)\n",
    "    con = pd.read_csv(file_path, sep='\\t')\n",
    "\n",
    "    con1 = con.fillna(0)\n",
    "\n",
    "    con_list.append(pd.DataFrame(con1))\n",
    "    "
   ]
  },
  {
   "cell_type": "code",
   "execution_count": 2,
   "id": "7381d0f1-657b-4f38-966b-0889530b94aa",
   "metadata": {},
   "outputs": [
    {
     "data": {
      "text/plain": [
       "10"
      ]
     },
     "execution_count": 2,
     "metadata": {},
     "output_type": "execute_result"
    }
   ],
   "source": [
    "len(con_list)"
   ]
  },
  {
   "cell_type": "markdown",
   "id": "26ea5c4f-a6ef-4cf6-b47d-f0d6eea55ccd",
   "metadata": {},
   "source": [
    "## 참가자 bold 데이터 불러오기"
   ]
  },
  {
   "cell_type": "code",
   "execution_count": 3,
   "id": "271025b1-5fc4-44ba-80b5-bcda270a1e88",
   "metadata": {},
   "outputs": [],
   "source": [
    "import os\n",
    "\n",
    "# 경로, 참가자들 리스트\n",
    "# 노트북 메모리 딸려서 조금만 가져오기\n",
    "'''\n",
    "'2207071', '2207141', '2207142', '2207143', '2207271', '2207272', '2207273',\n",
    "          '2208041', '2208042', '2208043', '2208231', '2208232', '2208233', '2209022',\n",
    "          '2209023', '2209222', '2209223', '2303101', '2303102', '2303103', '2303131',\n",
    "          '2303132', '2303133', '2303161', '2303162', '2303163', '2303201', '2303202', '2303203'\n",
    "'''\n",
    "\n",
    "base_path = 'D:/fmri/3. derivatives 폴더에 넣어야 하는 것 (전처리 후 데이터, MNI 템플릿)/fmriprep/sub-ID{}/func/sub-ID{}_task-r1_space-MNI152NLin2009cAsym_desc-preproc_bold.nii.gz'"
   ]
  },
  {
   "cell_type": "code",
   "execution_count": 4,
   "id": "017e2280-2cf9-4193-ae89-a5ee34d0eafb",
   "metadata": {},
   "outputs": [],
   "source": [
    "func_list = []\n",
    "\n",
    "for sub_id in sub_ids:\n",
    "    file_path = base_path.format(sub_id, sub_id)\n",
    "    data = image.load_img(file_path)\n",
    "    \n",
    "    func_list.append(data)"
   ]
  },
  {
   "cell_type": "code",
   "execution_count": 5,
   "id": "aa8a0d99-5c39-46ac-8b15-ccc562b45c69",
   "metadata": {},
   "outputs": [
    {
     "data": {
      "text/plain": [
       "[<nibabel.nifti1.Nifti1Image at 0x2ba65d3b290>,\n",
       " <nibabel.nifti1.Nifti1Image at 0x2ba772eacd0>,\n",
       " <nibabel.nifti1.Nifti1Image at 0x2ba772ea690>,\n",
       " <nibabel.nifti1.Nifti1Image at 0x2ba772ea150>,\n",
       " <nibabel.nifti1.Nifti1Image at 0x2ba772e9cd0>,\n",
       " <nibabel.nifti1.Nifti1Image at 0x2ba772e9810>,\n",
       " <nibabel.nifti1.Nifti1Image at 0x2ba772e9390>,\n",
       " <nibabel.nifti1.Nifti1Image at 0x2ba772e8f50>,\n",
       " <nibabel.nifti1.Nifti1Image at 0x2ba772e8c90>,\n",
       " <nibabel.nifti1.Nifti1Image at 0x2ba772ec250>]"
      ]
     },
     "execution_count": 5,
     "metadata": {},
     "output_type": "execute_result"
    }
   ],
   "source": [
    "func_list"
   ]
  },
  {
   "cell_type": "markdown",
   "id": "f2dd4f49-b387-4b15-80da-1706725c25d6",
   "metadata": {},
   "source": [
    "## 참가자 데이터 전처리"
   ]
  },
  {
   "cell_type": "code",
   "execution_count": 80,
   "id": "f10cfbc7-1d56-4c62-8b8c-95b0c70427eb",
   "metadata": {},
   "outputs": [],
   "source": [
    "func_dc_list = []\n",
    "\n",
    "try:\n",
    "    for i in range(len(func_list)):\n",
    "        func_dc = image.clean_img(func_list[i], detrend=True, standardize=False, t_r=2,\n",
    "                              confounds=con_list[i])\n",
    "        func_dc_list.append(func_dc)\n",
    "\n",
    "except:\n",
    "    print(\"error file :\", con_list[i])\n",
    "    "
   ]
  },
  {
   "cell_type": "code",
   "execution_count": 81,
   "id": "2118e857-2d8b-4f60-9176-53cc85fbd359",
   "metadata": {},
   "outputs": [
    {
     "data": {
      "text/plain": [
       "[<nibabel.nifti1.Nifti1Image at 0x2ba032c00d0>,\n",
       " <nibabel.nifti1.Nifti1Image at 0x2ba00428ad0>,\n",
       " <nibabel.nifti1.Nifti1Image at 0x2ba00b87750>,\n",
       " <nibabel.nifti1.Nifti1Image at 0x2ba00b84510>,\n",
       " <nibabel.nifti1.Nifti1Image at 0x2ba00b87850>,\n",
       " <nibabel.nifti1.Nifti1Image at 0x2ba00b70190>,\n",
       " <nibabel.nifti1.Nifti1Image at 0x2ba00b73f50>,\n",
       " <nibabel.nifti1.Nifti1Image at 0x2ba00b70450>,\n",
       " <nibabel.nifti1.Nifti1Image at 0x2ba00b71010>,\n",
       " <nibabel.nifti1.Nifti1Image at 0x2ba00b63990>]"
      ]
     },
     "execution_count": 81,
     "metadata": {},
     "output_type": "execute_result"
    }
   ],
   "source": [
    "func_dc_list"
   ]
  },
  {
   "cell_type": "markdown",
   "id": "d64528ed-7998-46a3-bea9-39c541bbd2c9",
   "metadata": {},
   "source": [
    "## Feature 준비"
   ]
  },
  {
   "cell_type": "code",
   "execution_count": 82,
   "id": "47761568-27f7-4354-9ce2-e5775cff6cf3",
   "metadata": {},
   "outputs": [
    {
     "data": {
      "text/plain": [
       "(65, 77, 65, 2750)"
      ]
     },
     "execution_count": 82,
     "metadata": {},
     "output_type": "execute_result"
    }
   ],
   "source": [
    "# 합치기\n",
    "all_func = image.concat_imgs(func_dc_list)\n",
    "all_func.shape"
   ]
  },
  {
   "cell_type": "code",
   "execution_count": 83,
   "id": "c6399e3a-5632-458b-8e2a-d8dad212357f",
   "metadata": {},
   "outputs": [
    {
     "data": {
      "text/plain": [
       "(65, 77, 65)"
      ]
     },
     "execution_count": 83,
     "metadata": {},
     "output_type": "execute_result"
    }
   ],
   "source": [
    "img_mean = image.mean_img(all_func)\n",
    "img_mean.shape"
   ]
  },
  {
   "cell_type": "markdown",
   "id": "2aa85bad-e59c-4525-83ef-1323ebc7b838",
   "metadata": {},
   "source": [
    "## 마스크 생성해서 복셀값 가져오기"
   ]
  },
  {
   "cell_type": "code",
   "execution_count": 38,
   "id": "8321d797-0548-4e73-a9de-102f69928bd6",
   "metadata": {},
   "outputs": [
    {
     "data": {
      "text/plain": [
       "(96, 114, 96)"
      ]
     },
     "execution_count": 38,
     "metadata": {},
     "output_type": "execute_result"
    }
   ],
   "source": [
    "t1 = image.load_img('D:/fmri/3. derivatives 폴더에 넣어야 하는 것 (전처리 후 데이터, MNI 템플릿)/tpl-MNI152NLin2009cAsym/tpl-MNI152NLin2009cAsym_res-02_desc-brain_T1w.nii.gz')\n",
    "# t1 이미지 해상도\n",
    "t1.shape"
   ]
  },
  {
   "cell_type": "code",
   "execution_count": 84,
   "id": "231bf12a-a832-4783-b914-72afbaf6bc24",
   "metadata": {},
   "outputs": [
    {
     "data": {
      "text/plain": [
       "(65, 77, 65)"
      ]
     },
     "execution_count": 84,
     "metadata": {},
     "output_type": "execute_result"
    }
   ],
   "source": [
    "# resample\n",
    "img_resampled = image.resample_to_img(t1, all_func)\n",
    "img_resampled.shape"
   ]
  },
  {
   "cell_type": "code",
   "execution_count": 85,
   "id": "4a78f523-a571-4e33-8654-6206cc3c6d79",
   "metadata": {},
   "outputs": [],
   "source": [
    "from scipy.ndimage import binary_dilation\n",
    "import nibabel as nb\n",
    "import numpy as np\n",
    "\n",
    "# 데이터를 200이상인 값은 1로, 그외의 값 0으로 변환. # 값은 계속 돌려가며 한번 보자.\n",
    "data_binary = np.array(img_resampled.get_fdata()>=220, dtype=np.int8)\n",
    "\n",
    "# Dilate binary mask once\n",
    "# 이진화된 데이터 팽창작엄.(마스크 확장해서 뇌영상 데이터에서 원하는 복셀 더 포함)\n",
    "# data_dialted = binary_dilation(data_binary, iterations=1).astype(np.int8)\n",
    "\n",
    "# Save binary mask in NIfTI image\n",
    "# img_mask = nb.Nifti1Image(data_dialted, img_resampled.affine, img_resampled.header)\n",
    "brain_mask = nb.Nifti1Image(data_binary, img_resampled.affine, img_resampled.header)\n",
    "brain_mask.set_data_dtype('i1')"
   ]
  },
  {
   "cell_type": "code",
   "execution_count": 86,
   "id": "dfd178dd-a4ee-4083-aaf3-d2bcf4b05a77",
   "metadata": {},
   "outputs": [
    {
     "data": {
      "text/plain": [
       "<nilearn.plotting.displays._slicers.OrthoSlicer at 0x2ba003ba550>"
      ]
     },
     "execution_count": 86,
     "metadata": {},
     "output_type": "execute_result"
    },
    {
     "data": {
      "image/png": "[encoded data removed]",
      "text/plain": [
       "<Figure size 660x350 with 4 Axes>"
      ]
     },
     "metadata": {},
     "output_type": "display_data"
    }
   ],
   "source": [
    "from nilearn.plotting import plot_roi\n",
    "plot_roi(brain_mask, draw_cross=False, annotate=False, black_bg=True,\n",
    "        bg_img=t1, cut_coords=[40,-10,30], title='dilated brain', cmap='magma_r', dim=1)"
   ]
  },
  {
   "cell_type": "code",
   "execution_count": 87,
   "id": "b9ce99c2-4b4b-41d8-9af9-1b38eb94652a",
   "metadata": {},
   "outputs": [
    {
     "name": "stdout",
     "output_type": "stream",
     "text": [
      "Shape of indexed data: (2750, 72978)\n"
     ]
    }
   ],
   "source": [
    "from nilearn import masking\n",
    "\n",
    "X = masking.apply_mask(all_func, brain_mask)\n",
    "print(\"Shape of indexed data:\", X.shape)"
   ]
  },
  {
   "cell_type": "markdown",
   "id": "64090625-f8c3-40b2-96f4-107c4d002f45",
   "metadata": {},
   "source": [
    "## onset 불러와 합치기"
   ]
  },
  {
   "cell_type": "code",
   "execution_count": 88,
   "id": "9d86c7f1-9ba1-49a8-baf4-2c2eec918a1e",
   "metadata": {},
   "outputs": [],
   "source": [
    "import numpy as np\n",
    "\n",
    "onset_path = 'D:/fmri/3. derivatives 폴더에 넣어야 하는 것 (전처리 후 데이터, MNI 템플릿)/fmriprep/sub-ID{}/eve_files/sub-ID{}_task-r1_events.tsv'\n",
    "\n",
    "from scipy.interpolate import interp1d\n",
    "\n",
    "onset_list = []\n",
    "\n",
    "for sub_id in sub_ids:\n",
    "    file_path = onset_path.format(sub_id, sub_id)\n",
    "    onset_file = pd.read_csv(file_path, sep='\\t')\n",
    "\n",
    "    events = onset_file['stim_onset'].values\n",
    "    predictor_all = np.zeros(550, dtype=int)\n",
    "\n",
    "    \n",
    "    for i in [4,5,6]:\n",
    "        events1 = events.astype(int) + i\n",
    "        predictor_all[events1.astype(int)] = 1\n",
    "    \n",
    "#    for i in range(4):\n",
    "#         events1 = events.astype(int) + i\n",
    "#         predictor_all[events1.astype(int)] = 1\n",
    "\n",
    "    original_scale = np.arange(0, 550, 1) # 0~550 초\n",
    "    resampler = interp1d(original_scale, predictor_all)\n",
    "\n",
    "    desired_scale = np.arange(0, 550, 2)\n",
    "    y = resampler(desired_scale)\n",
    "\n",
    "    onset_list.append(y)"
   ]
  },
  {
   "cell_type": "code",
   "execution_count": 89,
   "id": "ccd81ea9-adb3-433e-b411-35711d9f9ee7",
   "metadata": {},
   "outputs": [
    {
     "data": {
      "text/plain": [
       "[array([0., 0., 0., 0., 0., 0., 0., 1., 1., 0., 0., 1., 1., 0., 0., 0., 0.,\n",
       "        1., 1., 0., 0., 1., 1., 0., 0., 1., 1., 0., 0., 0., 1., 1., 0., 0.,\n",
       "        1., 1., 0., 0., 0., 1., 1., 0., 0., 1., 1., 0., 0., 1., 1., 0., 0.,\n",
       "        0., 0., 0., 1., 1., 0., 0., 1., 1., 0., 0., 1., 1., 0., 0., 0., 1.,\n",
       "        1., 0., 0., 1., 1., 0., 0., 0., 1., 1., 0., 0., 0., 1., 1., 0., 0.,\n",
       "        1., 1., 0., 0., 0., 1., 1., 0., 0., 1., 1., 0., 0., 1., 1., 0., 0.,\n",
       "        0., 1., 1., 0., 0., 1., 1., 0., 0., 1., 1., 0., 0., 1., 1., 0., 0.,\n",
       "        0., 0., 0., 1., 1., 0., 0., 0., 1., 1., 0., 0., 1., 1., 0., 0., 1.,\n",
       "        1., 0., 0., 0., 0., 1., 1., 0., 0., 1., 1., 0., 0., 1., 1., 0., 0.,\n",
       "        1., 1., 0., 0., 1., 1., 0., 0., 1., 1., 0., 0., 1., 1., 0., 0., 0.,\n",
       "        0., 1., 1., 0., 0., 1., 1., 0., 0., 0., 1., 1., 0., 0., 1., 1., 0.,\n",
       "        0., 0., 0., 1., 1., 0., 0., 1., 1., 0., 0., 0., 1., 1., 0., 0., 1.,\n",
       "        1., 0., 0., 0., 1., 1., 0., 0., 1., 1., 0., 0., 1., 1., 0., 0., 1.,\n",
       "        1., 0., 0., 1., 1., 0., 0., 0., 0., 0., 1., 1., 0., 0., 1., 1., 0.,\n",
       "        0., 1., 1., 0., 0., 1., 1., 0., 0., 1., 1., 0., 0., 1., 1., 0., 0.,\n",
       "        0., 1., 1., 0., 0., 1., 1., 0., 0., 1., 1., 0., 0., 0., 1., 1., 0.,\n",
       "        0., 1., 1.]),\n",
       " array([0., 0., 0., 0., 0., 0., 0., 1., 1., 0., 0., 1., 1., 0., 0., 0., 0.,\n",
       "        1., 1., 0., 0., 1., 1., 0., 0., 1., 1., 0., 0., 0., 1., 1., 0., 0.,\n",
       "        1., 1., 0., 0., 0., 1., 1., 0., 0., 1., 1., 0., 0., 1., 1., 0., 0.,\n",
       "        0., 0., 0., 1., 1., 0., 0., 1., 1., 0., 0., 1., 1., 0., 0., 0., 1.,\n",
       "        1., 0., 0., 1., 1., 0., 0., 0., 1., 1., 0., 0., 0., 1., 1., 0., 0.,\n",
       "        1., 1., 0., 0., 0., 1., 1., 0., 0., 1., 1., 0., 0., 1., 1., 0., 0.,\n",
       "        0., 1., 1., 0., 0., 1., 1., 0., 0., 1., 1., 0., 0., 1., 1., 0., 0.,\n",
       "        0., 0., 0., 1., 1., 0., 0., 0., 1., 1., 0., 0., 1., 1., 0., 0., 1.,\n",
       "        1., 0., 0., 0., 0., 1., 1., 0., 0., 1., 1., 0., 0., 1., 1., 0., 0.,\n",
       "        1., 1., 0., 0., 1., 1., 0., 0., 1., 1., 0., 0., 1., 1., 0., 0., 0.,\n",
       "        0., 1., 1., 0., 0., 1., 1., 0., 0., 0., 1., 1., 0., 0., 1., 1., 0.,\n",
       "        0., 0., 0., 1., 1., 0., 0., 1., 1., 0., 0., 0., 1., 1., 0., 0., 1.,\n",
       "        1., 0., 0., 0., 1., 1., 0., 0., 1., 1., 0., 0., 1., 1., 0., 0., 1.,\n",
       "        1., 0., 0., 1., 1., 0., 0., 0., 0., 0., 1., 1., 0., 0., 1., 1., 0.,\n",
       "        0., 1., 1., 0., 0., 1., 1., 0., 0., 1., 1., 0., 0., 1., 1., 0., 0.,\n",
       "        0., 1., 1., 0., 0., 1., 1., 0., 0., 1., 1., 0., 0., 0., 1., 1., 0.,\n",
       "        0., 1., 1.]),\n",
       " array([0., 0., 0., 0., 0., 0., 0., 1., 1., 0., 0., 1., 1., 0., 0., 0., 0.,\n",
       "        1., 1., 0., 0., 1., 1., 0., 0., 1., 1., 0., 0., 0., 1., 1., 0., 0.,\n",
       "        1., 1., 0., 0., 0., 1., 1., 0., 0., 1., 1., 0., 0., 1., 1., 0., 0.,\n",
       "        0., 0., 0., 1., 1., 0., 0., 1., 1., 0., 0., 1., 1., 0., 0., 0., 1.,\n",
       "        1., 0., 0., 1., 1., 0., 0., 0., 1., 1., 0., 0., 0., 1., 1., 0., 0.,\n",
       "        1., 1., 0., 0., 0., 1., 1., 0., 0., 1., 1., 0., 0., 1., 1., 0., 0.,\n",
       "        0., 1., 1., 0., 0., 1., 1., 0., 0., 1., 1., 0., 0., 1., 1., 0., 0.,\n",
       "        0., 0., 0., 1., 1., 0., 0., 0., 1., 1., 0., 0., 1., 1., 0., 0., 1.,\n",
       "        1., 0., 0., 0., 0., 1., 1., 0., 0., 1., 1., 0., 0., 1., 1., 0., 0.,\n",
       "        1., 1., 0., 0., 1., 1., 0., 0., 1., 1., 0., 0., 1., 1., 0., 0., 0.,\n",
       "        0., 1., 1., 0., 0., 1., 1., 0., 0., 0., 1., 1., 0., 0., 1., 1., 0.,\n",
       "        0., 0., 0., 1., 1., 0., 0., 1., 1., 0., 0., 0., 1., 1., 0., 0., 1.,\n",
       "        1., 0., 0., 0., 1., 1., 0., 0., 1., 1., 0., 0., 1., 1., 0., 0., 1.,\n",
       "        1., 0., 0., 1., 1., 0., 0., 0., 0., 0., 1., 1., 0., 0., 1., 1., 0.,\n",
       "        0., 1., 1., 0., 0., 1., 1., 0., 0., 1., 1., 0., 0., 1., 1., 0., 0.,\n",
       "        0., 1., 1., 0., 0., 1., 1., 0., 0., 1., 1., 0., 0., 0., 1., 1., 0.,\n",
       "        0., 1., 1.]),\n",
       " array([0., 0., 0., 0., 0., 0., 0., 1., 1., 0., 0., 1., 1., 0., 0., 0., 0.,\n",
       "        1., 1., 0., 0., 1., 1., 0., 0., 1., 1., 0., 0., 0., 1., 1., 0., 0.,\n",
       "        1., 1., 0., 0., 0., 1., 1., 0., 0., 1., 1., 0., 0., 1., 1., 0., 0.,\n",
       "        0., 0., 0., 1., 1., 0., 0., 1., 1., 0., 0., 1., 1., 0., 0., 0., 1.,\n",
       "        1., 0., 0., 1., 1., 0., 0., 0., 1., 1., 0., 0., 0., 1., 1., 0., 0.,\n",
       "        1., 1., 0., 0., 0., 1., 1., 0., 0., 1., 1., 0., 0., 1., 1., 0., 0.,\n",
       "        0., 1., 1., 0., 0., 1., 1., 0., 0., 1., 1., 0., 0., 1., 1., 0., 0.,\n",
       "        0., 0., 0., 1., 1., 0., 0., 0., 1., 1., 0., 0., 1., 1., 0., 0., 1.,\n",
       "        1., 0., 0., 0., 0., 1., 1., 0., 0., 1., 1., 0., 0., 1., 1., 0., 0.,\n",
       "        1., 1., 0., 0., 1., 1., 0., 0., 1., 1., 0., 0., 1., 1., 0., 0., 0.,\n",
       "        0., 1., 1., 0., 0., 1., 1., 0., 0., 0., 1., 1., 0., 0., 1., 1., 0.,\n",
       "        0., 0., 0., 1., 1., 0., 0., 1., 1., 0., 0., 0., 1., 1., 0., 0., 1.,\n",
       "        1., 0., 0., 0., 1., 1., 0., 0., 1., 1., 0., 0., 1., 1., 0., 0., 1.,\n",
       "        1., 0., 0., 1., 1., 0., 0., 0., 0., 0., 1., 1., 0., 0., 1., 1., 0.,\n",
       "        0., 1., 1., 0., 0., 1., 1., 0., 0., 1., 1., 0., 0., 1., 1., 0., 0.,\n",
       "        0., 1., 1., 0., 0., 1., 1., 0., 0., 1., 1., 0., 0., 0., 1., 1., 0.,\n",
       "        0., 1., 1.]),\n",
       " array([0., 0., 0., 0., 0., 0., 0., 1., 1., 0., 0., 1., 1., 0., 0., 0., 0.,\n",
       "        1., 1., 0., 0., 1., 1., 0., 0., 1., 1., 0., 0., 0., 1., 1., 0., 0.,\n",
       "        1., 1., 0., 0., 0., 1., 1., 0., 0., 1., 1., 0., 0., 1., 1., 0., 0.,\n",
       "        0., 0., 0., 1., 1., 0., 0., 1., 1., 0., 0., 1., 1., 0., 0., 0., 1.,\n",
       "        1., 0., 0., 1., 1., 0., 0., 0., 1., 1., 0., 0., 0., 1., 1., 0., 0.,\n",
       "        1., 1., 0., 0., 0., 1., 1., 0., 0., 1., 1., 0., 0., 1., 1., 0., 0.,\n",
       "        0., 1., 1., 0., 0., 1., 1., 0., 0., 1., 1., 0., 0., 1., 1., 0., 0.,\n",
       "        0., 0., 0., 1., 1., 0., 0., 0., 1., 1., 0., 0., 1., 1., 0., 0., 1.,\n",
       "        1., 0., 0., 0., 0., 1., 1., 0., 0., 1., 1., 0., 0., 1., 1., 0., 0.,\n",
       "        1., 1., 0., 0., 1., 1., 0., 0., 1., 1., 0., 0., 1., 1., 0., 0., 0.,\n",
       "        0., 1., 1., 0., 0., 1., 1., 0., 0., 0., 1., 1., 0., 0., 1., 1., 0.,\n",
       "        0., 0., 0., 1., 1., 0., 0., 1., 1., 0., 0., 0., 1., 1., 0., 0., 1.,\n",
       "        1., 0., 0., 0., 1., 1., 0., 0., 1., 1., 0., 0., 1., 1., 0., 0., 1.,\n",
       "        1., 0., 0., 1., 1., 0., 0., 0., 0., 0., 1., 1., 0., 0., 1., 1., 0.,\n",
       "        0., 1., 1., 0., 0., 1., 1., 0., 0., 1., 1., 0., 0., 1., 1., 0., 0.,\n",
       "        0., 1., 1., 0., 0., 1., 1., 0., 0., 1., 1., 0., 0., 0., 1., 1., 0.,\n",
       "        0., 1., 1.]),\n",
       " array([0., 0., 0., 0., 0., 0., 0., 1., 1., 0., 0., 1., 1., 0., 0., 0., 0.,\n",
       "        1., 1., 0., 0., 1., 1., 0., 0., 1., 1., 0., 0., 0., 1., 1., 0., 0.,\n",
       "        1., 1., 0., 0., 0., 1., 1., 0., 0., 1., 1., 0., 0., 1., 1., 0., 0.,\n",
       "        0., 0., 0., 1., 1., 0., 0., 1., 1., 0., 0., 1., 1., 0., 0., 0., 1.,\n",
       "        1., 0., 0., 1., 1., 0., 0., 0., 1., 1., 0., 0., 0., 1., 1., 0., 0.,\n",
       "        1., 1., 0., 0., 0., 1., 1., 0., 0., 1., 1., 0., 0., 1., 1., 0., 0.,\n",
       "        0., 1., 1., 0., 0., 1., 1., 0., 0., 1., 1., 0., 0., 1., 1., 0., 0.,\n",
       "        0., 0., 0., 1., 1., 0., 0., 0., 1., 1., 0., 0., 1., 1., 0., 0., 1.,\n",
       "        1., 0., 0., 0., 0., 1., 1., 0., 0., 1., 1., 0., 0., 1., 1., 0., 0.,\n",
       "        1., 1., 0., 0., 1., 1., 0., 0., 1., 1., 0., 0., 1., 1., 0., 0., 0.,\n",
       "        0., 1., 1., 0., 0., 1., 1., 0., 0., 0., 1., 1., 0., 0., 1., 1., 0.,\n",
       "        0., 0., 0., 1., 1., 0., 0., 1., 1., 0., 0., 0., 1., 1., 0., 0., 1.,\n",
       "        1., 0., 0., 0., 1., 1., 0., 0., 1., 1., 0., 0., 1., 1., 0., 0., 1.,\n",
       "        1., 0., 0., 1., 1., 0., 0., 0., 0., 0., 1., 1., 0., 0., 1., 1., 0.,\n",
       "        0., 1., 1., 0., 0., 1., 1., 0., 0., 1., 1., 0., 0., 1., 1., 0., 0.,\n",
       "        0., 1., 1., 0., 0., 1., 1., 0., 0., 1., 1., 0., 0., 0., 1., 1., 0.,\n",
       "        0., 1., 1.]),\n",
       " array([0., 0., 0., 0., 0., 0., 0., 1., 1., 0., 0., 1., 1., 0., 0., 0., 0.,\n",
       "        1., 1., 0., 0., 1., 1., 0., 0., 1., 1., 0., 0., 0., 1., 1., 0., 0.,\n",
       "        1., 1., 0., 0., 0., 1., 1., 0., 0., 1., 1., 0., 0., 1., 1., 0., 0.,\n",
       "        0., 0., 0., 1., 1., 0., 0., 1., 1., 0., 0., 1., 1., 0., 0., 0., 1.,\n",
       "        1., 0., 0., 1., 1., 0., 0., 0., 1., 1., 0., 0., 0., 1., 1., 0., 0.,\n",
       "        1., 1., 0., 0., 0., 1., 1., 0., 0., 1., 1., 0., 0., 1., 1., 0., 0.,\n",
       "        0., 1., 1., 0., 0., 1., 1., 0., 0., 1., 1., 0., 0., 1., 1., 0., 0.,\n",
       "        0., 0., 0., 1., 1., 0., 0., 0., 1., 1., 0., 0., 1., 1., 0., 0., 1.,\n",
       "        1., 0., 0., 0., 0., 1., 1., 0., 0., 1., 1., 0., 0., 1., 1., 0., 0.,\n",
       "        1., 1., 0., 0., 1., 1., 0., 0., 1., 1., 0., 0., 1., 1., 0., 0., 0.,\n",
       "        0., 1., 1., 0., 0., 1., 1., 0., 0., 0., 1., 1., 0., 0., 1., 1., 0.,\n",
       "        0., 0., 0., 1., 1., 0., 0., 1., 1., 0., 0., 0., 1., 1., 0., 0., 1.,\n",
       "        1., 0., 0., 0., 1., 1., 0., 0., 1., 1., 0., 0., 1., 1., 0., 0., 1.,\n",
       "        1., 0., 0., 1., 1., 0., 0., 0., 0., 0., 1., 1., 0., 0., 1., 1., 0.,\n",
       "        0., 1., 1., 0., 0., 1., 1., 0., 0., 1., 1., 0., 0., 1., 1., 0., 0.,\n",
       "        0., 1., 1., 0., 0., 1., 1., 0., 0., 1., 1., 0., 0., 0., 1., 1., 0.,\n",
       "        0., 1., 1.]),\n",
       " array([0., 0., 0., 0., 0., 0., 0., 1., 1., 0., 0., 1., 1., 0., 0., 0., 0.,\n",
       "        1., 1., 0., 0., 1., 1., 0., 0., 1., 1., 0., 0., 0., 1., 1., 0., 0.,\n",
       "        1., 1., 0., 0., 0., 1., 1., 0., 0., 1., 1., 0., 0., 1., 1., 0., 0.,\n",
       "        0., 0., 0., 1., 1., 0., 0., 1., 1., 0., 0., 1., 1., 0., 0., 0., 1.,\n",
       "        1., 0., 0., 1., 1., 0., 0., 0., 1., 1., 0., 0., 0., 1., 1., 0., 0.,\n",
       "        1., 1., 0., 0., 0., 1., 1., 0., 0., 1., 1., 0., 0., 1., 1., 0., 0.,\n",
       "        0., 1., 1., 0., 0., 1., 1., 0., 0., 1., 1., 0., 0., 1., 1., 0., 0.,\n",
       "        0., 0., 0., 1., 1., 0., 0., 0., 1., 1., 0., 0., 1., 1., 0., 0., 1.,\n",
       "        1., 0., 0., 0., 0., 1., 1., 0., 0., 1., 1., 0., 0., 1., 1., 0., 0.,\n",
       "        1., 1., 0., 0., 1., 1., 0., 0., 1., 1., 0., 0., 1., 1., 0., 0., 0.,\n",
       "        0., 1., 1., 0., 0., 1., 1., 0., 0., 0., 1., 1., 0., 0., 1., 1., 0.,\n",
       "        0., 0., 0., 1., 1., 0., 0., 1., 1., 0., 0., 0., 1., 1., 0., 0., 1.,\n",
       "        1., 0., 0., 0., 1., 1., 0., 0., 1., 1., 0., 0., 1., 1., 0., 0., 1.,\n",
       "        1., 0., 0., 1., 1., 0., 0., 0., 0., 0., 1., 1., 0., 0., 1., 1., 0.,\n",
       "        0., 1., 1., 0., 0., 1., 1., 0., 0., 1., 1., 0., 0., 1., 1., 0., 0.,\n",
       "        0., 1., 1., 0., 0., 1., 1., 0., 0., 1., 1., 0., 0., 0., 1., 1., 0.,\n",
       "        0., 1., 1.]),\n",
       " array([0., 0., 0., 0., 0., 0., 0., 1., 1., 0., 0., 1., 1., 0., 0., 0., 0.,\n",
       "        1., 1., 0., 0., 1., 1., 0., 0., 1., 1., 0., 0., 0., 1., 1., 0., 0.,\n",
       "        1., 1., 0., 0., 0., 1., 1., 0., 0., 1., 1., 0., 0., 1., 1., 0., 0.,\n",
       "        0., 0., 0., 1., 1., 0., 0., 1., 1., 0., 0., 1., 1., 0., 0., 0., 1.,\n",
       "        1., 0., 0., 1., 1., 0., 0., 0., 1., 1., 0., 0., 0., 1., 1., 0., 0.,\n",
       "        1., 1., 0., 0., 0., 1., 1., 0., 0., 1., 1., 0., 0., 1., 1., 0., 0.,\n",
       "        0., 1., 1., 0., 0., 1., 1., 0., 0., 1., 1., 0., 0., 1., 1., 0., 0.,\n",
       "        0., 0., 0., 1., 1., 0., 0., 0., 1., 1., 0., 0., 1., 1., 0., 0., 1.,\n",
       "        1., 0., 0., 0., 0., 1., 1., 0., 0., 1., 1., 0., 0., 1., 1., 0., 0.,\n",
       "        1., 1., 0., 0., 1., 1., 0., 0., 1., 1., 0., 0., 1., 1., 0., 0., 0.,\n",
       "        0., 1., 1., 0., 0., 1., 1., 0., 0., 0., 1., 1., 0., 0., 1., 1., 0.,\n",
       "        0., 0., 0., 1., 1., 0., 0., 1., 1., 0., 0., 0., 1., 1., 0., 0., 1.,\n",
       "        1., 0., 0., 0., 1., 1., 0., 0., 1., 1., 0., 0., 1., 1., 0., 0., 1.,\n",
       "        1., 0., 0., 1., 1., 0., 0., 0., 0., 0., 1., 1., 0., 0., 1., 1., 0.,\n",
       "        0., 1., 1., 0., 0., 1., 1., 0., 0., 1., 1., 0., 0., 1., 1., 0., 0.,\n",
       "        0., 1., 1., 0., 0., 1., 1., 0., 0., 1., 1., 0., 0., 0., 1., 1., 0.,\n",
       "        0., 1., 1.]),\n",
       " array([0., 0., 0., 0., 0., 0., 0., 1., 1., 0., 0., 1., 1., 0., 0., 0., 0.,\n",
       "        1., 1., 0., 0., 1., 1., 0., 0., 1., 1., 0., 0., 0., 1., 1., 0., 0.,\n",
       "        1., 1., 0., 0., 0., 1., 1., 0., 0., 1., 1., 0., 0., 1., 1., 0., 0.,\n",
       "        0., 0., 0., 1., 1., 0., 0., 1., 1., 0., 0., 1., 1., 0., 0., 0., 1.,\n",
       "        1., 0., 0., 1., 1., 0., 0., 0., 1., 1., 0., 0., 0., 1., 1., 0., 0.,\n",
       "        1., 1., 0., 0., 0., 1., 1., 0., 0., 1., 1., 0., 0., 1., 1., 0., 0.,\n",
       "        0., 1., 1., 0., 0., 1., 1., 0., 0., 1., 1., 0., 0., 1., 1., 0., 0.,\n",
       "        0., 0., 0., 1., 1., 0., 0., 0., 1., 1., 0., 0., 1., 1., 0., 0., 1.,\n",
       "        1., 0., 0., 0., 0., 1., 1., 0., 0., 1., 1., 0., 0., 1., 1., 0., 0.,\n",
       "        1., 1., 0., 0., 1., 1., 0., 0., 1., 1., 0., 0., 1., 1., 0., 0., 0.,\n",
       "        0., 1., 1., 0., 0., 1., 1., 0., 0., 0., 1., 1., 0., 0., 1., 1., 0.,\n",
       "        0., 0., 0., 1., 1., 0., 0., 1., 1., 0., 0., 0., 1., 1., 0., 0., 1.,\n",
       "        1., 0., 0., 0., 1., 1., 0., 0., 1., 1., 0., 0., 1., 1., 0., 0., 1.,\n",
       "        1., 0., 0., 1., 1., 0., 0., 0., 0., 0., 1., 1., 0., 0., 1., 1., 0.,\n",
       "        0., 1., 1., 0., 0., 1., 1., 0., 0., 1., 1., 0., 0., 1., 1., 0., 0.,\n",
       "        0., 1., 1., 0., 0., 1., 1., 0., 0., 1., 1., 0., 0., 0., 1., 1., 0.,\n",
       "        0., 1., 1.])]"
      ]
     },
     "execution_count": 89,
     "metadata": {},
     "output_type": "execute_result"
    }
   ],
   "source": [
    "onset_list"
   ]
  },
  {
   "cell_type": "code",
   "execution_count": 73,
   "id": "3809e655-1933-4813-8f30-46d9d008ca72",
   "metadata": {},
   "outputs": [
    {
     "data": {
      "text/plain": [
       "10"
      ]
     },
     "execution_count": 73,
     "metadata": {},
     "output_type": "execute_result"
    }
   ],
   "source": [
    "len(onset_list)"
   ]
  },
  {
   "cell_type": "code",
   "execution_count": 90,
   "id": "5ee7c478-050b-469d-a7ab-dae42cfdca8e",
   "metadata": {},
   "outputs": [
    {
     "data": {
      "text/plain": [
       "(2750,)"
      ]
     },
     "execution_count": 90,
     "metadata": {},
     "output_type": "execute_result"
    }
   ],
   "source": [
    "onset_y = np.concatenate(onset_list)\n",
    "y = onset_y.ravel()\n",
    "y.shape"
   ]
  },
  {
   "cell_type": "markdown",
   "id": "320041a5-eca9-49e2-9ac5-9ed59dc6a7ea",
   "metadata": {},
   "source": [
    "## 참가자별 chunks 만들기"
   ]
  },
  {
   "cell_type": "code",
   "execution_count": 19,
   "id": "426b5383-9d81-45c9-b349-8fda37a58075",
   "metadata": {},
   "outputs": [
    {
     "data": {
      "text/plain": [
       "2750"
      ]
     },
     "execution_count": 19,
     "metadata": {},
     "output_type": "execute_result"
    }
   ],
   "source": [
    "chunks = np.ravel([[i] * 275 for i in range(len(func_dc_list))])\n",
    "len(chunks)"
   ]
  },
  {
   "cell_type": "code",
   "execution_count": 20,
   "id": "3a9fc60c-4d58-411f-9c25-bb6790119c9f",
   "metadata": {},
   "outputs": [
    {
     "data": {
      "text/plain": [
       "array([0, 1, 2, 3, 4, 5, 6, 7, 8, 9])"
      ]
     },
     "execution_count": 20,
     "metadata": {},
     "output_type": "execute_result"
    }
   ],
   "source": [
    "np.unique(chunks)"
   ]
  },
  {
   "cell_type": "markdown",
   "id": "da8e16e3-4356-4e5b-8c49-6e31b4317eab",
   "metadata": {},
   "source": [
    "# SVC 해보기"
   ]
  },
  {
   "cell_type": "code",
   "execution_count": 21,
   "id": "0b43314f-947c-493d-97d4-08af8feb2b9c",
   "metadata": {},
   "outputs": [],
   "source": [
    "# vis ROI linear SVC\n",
    "from sklearn.svm import LinearSVC\n",
    "from sklearn.preprocessing import StandardScaler\n",
    "from sklearn.pipeline import Pipeline\n",
    "from bayes_opt import BayesianOptimization\n",
    "from hyperopt import hp\n",
    "from sklearn.metrics import roc_auc_score, make_scorer, accuracy_score\n",
    "from sklearn.model_selection import cross_val_score"
   ]
  },
  {
   "cell_type": "code",
   "execution_count": 91,
   "id": "7b956b5e-26ea-4839-b685-148a980d5cc5",
   "metadata": {},
   "outputs": [],
   "source": [
    "# train : test = 5:5\n",
    "from sklearn.model_selection import train_test_split\n",
    "\n",
    "X_train, X_test, y_train, y_test, c_train, c_test = train_test_split(\n",
    "    X, y, chunks, test_size =0.4, random_state=42, shuffle=False)"
   ]
  },
  {
   "cell_type": "code",
   "execution_count": 92,
   "id": "286cae7e-fe54-4605-94bd-dbb4bb6fb657",
   "metadata": {},
   "outputs": [
    {
     "name": "stdout",
     "output_type": "stream",
     "text": [
      "Shapes of X: (1650, 72978) (1100, 72978)\n",
      "Shapes of y: (1650,) (1100,)\n"
     ]
    }
   ],
   "source": [
    "print('Shapes of X:', X_train.shape, X_test.shape)\n",
    "print('Shapes of y:', y_train.shape, y_test.shape)"
   ]
  },
  {
   "cell_type": "code",
   "execution_count": 93,
   "id": "2bc41b88-6475-4e1f-b222-aeadffb2d5e4",
   "metadata": {},
   "outputs": [],
   "source": [
    "# 파라미터\n",
    "\n",
    "C_para = {'C': (0.001, 30)}\n",
    "\n",
    "# 목적함수 지정\n",
    "\n",
    "def svc_cv(C):\n",
    "    model = LinearSVC(penalty = 'l2',\n",
    "                     loss = 'squared_hinge',\n",
    "                     max_iter = 1000,\n",
    "                     C = C)\n",
    "    result = cross_val_score(model, X_train, y_train, groups=c_train, cv =5)\n",
    "    acc_score = result.mean()\n",
    "    return acc_score"
   ]
  },
  {
   "cell_type": "code",
   "execution_count": 94,
   "id": "6c2e1465-7068-43ba-8cd0-f614a3e14553",
   "metadata": {},
   "outputs": [
    {
     "name": "stdout",
     "output_type": "stream",
     "text": [
      "|   iter    |  target   |     C     |\n",
      "-------------------------------------\n",
      "| \u001b[0m1        \u001b[0m | \u001b[0m0.4927   \u001b[0m | \u001b[0m11.24    \u001b[0m |\n",
      "| \u001b[0m2        \u001b[0m | \u001b[0m0.4855   \u001b[0m | \u001b[0m28.52    \u001b[0m |\n",
      "| \u001b[0m3        \u001b[0m | \u001b[0m0.4836   \u001b[0m | \u001b[0m21.96    \u001b[0m |\n",
      "| \u001b[95m4        \u001b[0m | \u001b[95m0.5079   \u001b[0m | \u001b[95m17.96    \u001b[0m |\n",
      "| \u001b[0m5        \u001b[0m | \u001b[0m0.4945   \u001b[0m | \u001b[0m17.91    \u001b[0m |\n",
      "| \u001b[0m6        \u001b[0m | \u001b[0m0.4933   \u001b[0m | \u001b[0m17.96    \u001b[0m |\n",
      "| \u001b[0m7        \u001b[0m | \u001b[0m0.4873   \u001b[0m | \u001b[0m17.96    \u001b[0m |\n",
      "| \u001b[95m8        \u001b[0m | \u001b[95m0.5218   \u001b[0m | \u001b[95m8.992    \u001b[0m |\n",
      "| \u001b[0m9        \u001b[0m | \u001b[0m0.5036   \u001b[0m | \u001b[0m5.458    \u001b[0m |\n",
      "| \u001b[0m10       \u001b[0m | \u001b[0m0.5036   \u001b[0m | \u001b[0m21.72    \u001b[0m |\n",
      "| \u001b[0m11       \u001b[0m | \u001b[0m0.5      \u001b[0m | \u001b[0m1.72     \u001b[0m |\n",
      "| \u001b[0m12       \u001b[0m | \u001b[0m0.5036   \u001b[0m | \u001b[0m20.86    \u001b[0m |\n",
      "| \u001b[0m13       \u001b[0m | \u001b[0m0.5133   \u001b[0m | \u001b[0m21.72    \u001b[0m |\n",
      "| \u001b[0m14       \u001b[0m | \u001b[0m0.5012   \u001b[0m | \u001b[0m19.58    \u001b[0m |\n",
      "| \u001b[0m15       \u001b[0m | \u001b[0m0.5055   \u001b[0m | \u001b[0m10.76    \u001b[0m |\n",
      "| \u001b[0m16       \u001b[0m | \u001b[0m0.5067   \u001b[0m | \u001b[0m22.71    \u001b[0m |\n",
      "| \u001b[0m17       \u001b[0m | \u001b[0m0.4915   \u001b[0m | \u001b[0m6.91     \u001b[0m |\n",
      "| \u001b[0m18       \u001b[0m | \u001b[0m0.5206   \u001b[0m | \u001b[0m21.72    \u001b[0m |\n",
      "| \u001b[0m19       \u001b[0m | \u001b[0m0.4958   \u001b[0m | \u001b[0m21.72    \u001b[0m |\n",
      "| \u001b[0m20       \u001b[0m | \u001b[0m0.4964   \u001b[0m | \u001b[0m21.02    \u001b[0m |\n",
      "| \u001b[0m21       \u001b[0m | \u001b[0m0.5061   \u001b[0m | \u001b[0m15.52    \u001b[0m |\n",
      "| \u001b[0m22       \u001b[0m | \u001b[0m0.4885   \u001b[0m | \u001b[0m10.76    \u001b[0m |\n",
      "| \u001b[0m23       \u001b[0m | \u001b[0m0.4964   \u001b[0m | \u001b[0m19.58    \u001b[0m |\n",
      "| \u001b[0m24       \u001b[0m | \u001b[0m0.4952   \u001b[0m | \u001b[0m7.546    \u001b[0m |\n",
      "| \u001b[0m25       \u001b[0m | \u001b[0m0.4988   \u001b[0m | \u001b[0m8.486    \u001b[0m |\n",
      "| \u001b[0m26       \u001b[0m | \u001b[0m0.4939   \u001b[0m | \u001b[0m27.66    \u001b[0m |\n",
      "| \u001b[0m27       \u001b[0m | \u001b[0m0.5048   \u001b[0m | \u001b[0m22.71    \u001b[0m |\n",
      "| \u001b[0m28       \u001b[0m | \u001b[0m0.4915   \u001b[0m | \u001b[0m16.49    \u001b[0m |\n",
      "| \u001b[0m29       \u001b[0m | \u001b[0m0.503    \u001b[0m | \u001b[0m15.52    \u001b[0m |\n",
      "=====================================\n"
     ]
    }
   ],
   "source": [
    "bayes_svc = BayesianOptimization(svc_cv, pbounds = C_para, verbose=2, random_state =42)\n",
    "# bayes_svc.set_gp_params(alpha = 1e-3)\n",
    "bayes_svc.maximize(init_points = 4, n_iter = 25)"
   ]
  },
  {
   "cell_type": "code",
   "execution_count": 79,
   "id": "5d4e5f75-29ff-4a8d-bfed-7ed26423eb33",
   "metadata": {},
   "outputs": [
    {
     "data": {
      "text/plain": [
       "{'target': 0.49393939393939396, 'params': {'C': 27.662999296798002}}"
      ]
     },
     "execution_count": 79,
     "metadata": {},
     "output_type": "execute_result"
    }
   ],
   "source": [
    "# 표준화 o, 4~6초 peak을 보았을 때 : {'target': 0.49393939393939396, 'params': {'C': 27.662999296798002}}\n",
    "\n",
    "bayes_svc.max"
   ]
  },
  {
   "cell_type": "code",
   "execution_count": null,
   "id": "f2f67b22-12bb-43e5-a80a-d35f64046097",
   "metadata": {},
   "outputs": [],
   "source": [
    "# 표준화 x, 6초 이후 peak만 보았을 때 : {'target': 0.6242424242424243, 'params': {'C': 7.180883841482059}}"
   ]
  },
  {
   "cell_type": "code",
   "execution_count": 52,
   "id": "3a1d8121-5cfd-4872-9136-c543cbd49151",
   "metadata": {},
   "outputs": [],
   "source": [
    "svc = LinearSVC(penalty = 'l2',\n",
    "                     loss = 'squared_hinge',\n",
    "                     max_iter = 500,\n",
    "                     C = 7.180)"
   ]
  },
  {
   "cell_type": "code",
   "execution_count": 54,
   "id": "ae206868-dd3b-4491-8b4b-99f2a9e47dfe",
   "metadata": {},
   "outputs": [
    {
     "data": {
      "text/html": [
       "<style>#sk-container-id-1 {color: black;}#sk-container-id-1 pre{padding: 0;}#sk-container-id-1 div.sk-toggleable {background-color: white;}#sk-container-id-1 label.sk-toggleable__label {cursor: pointer;display: block;width: 100%;margin-bottom: 0;padding: 0.3em;box-sizing: border-box;text-align: center;}#sk-container-id-1 label.sk-toggleable__label-arrow:before {content: \"▸\";float: left;margin-right: 0.25em;color: #696969;}#sk-container-id-1 label.sk-toggleable__label-arrow:hover:before {color: black;}#sk-container-id-1 div.sk-estimator:hover label.sk-toggleable__label-arrow:before {color: black;}#sk-container-id-1 div.sk-toggleable__content {max-height: 0;max-width: 0;overflow: hidden;text-align: left;background-color: #f0f8ff;}#sk-container-id-1 div.sk-toggleable__content pre {margin: 0.2em;color: black;border-radius: 0.25em;background-color: #f0f8ff;}#sk-container-id-1 input.sk-toggleable__control:checked~div.sk-toggleable__content {max-height: 200px;max-width: 100%;overflow: auto;}#sk-container-id-1 input.sk-toggleable__control:checked~label.sk-toggleable__label-arrow:before {content: \"▾\";}#sk-container-id-1 div.sk-estimator input.sk-toggleable__control:checked~label.sk-toggleable__label {background-color: #d4ebff;}#sk-container-id-1 div.sk-label input.sk-toggleable__control:checked~label.sk-toggleable__label {background-color: #d4ebff;}#sk-container-id-1 input.sk-hidden--visually {border: 0;clip: rect(1px 1px 1px 1px);clip: rect(1px, 1px, 1px, 1px);height: 1px;margin: -1px;overflow: hidden;padding: 0;position: absolute;width: 1px;}#sk-container-id-1 div.sk-estimator {font-family: monospace;background-color: #f0f8ff;border: 1px dotted black;border-radius: 0.25em;box-sizing: border-box;margin-bottom: 0.5em;}#sk-container-id-1 div.sk-estimator:hover {background-color: #d4ebff;}#sk-container-id-1 div.sk-parallel-item::after {content: \"\";width: 100%;border-bottom: 1px solid gray;flex-grow: 1;}#sk-container-id-1 div.sk-label:hover label.sk-toggleable__label {background-color: #d4ebff;}#sk-container-id-1 div.sk-serial::before {content: \"\";position: absolute;border-left: 1px solid gray;box-sizing: border-box;top: 0;bottom: 0;left: 50%;z-index: 0;}#sk-container-id-1 div.sk-serial {display: flex;flex-direction: column;align-items: center;background-color: white;padding-right: 0.2em;padding-left: 0.2em;position: relative;}#sk-container-id-1 div.sk-item {position: relative;z-index: 1;}#sk-container-id-1 div.sk-parallel {display: flex;align-items: stretch;justify-content: center;background-color: white;position: relative;}#sk-container-id-1 div.sk-item::before, #sk-container-id-1 div.sk-parallel-item::before {content: \"\";position: absolute;border-left: 1px solid gray;box-sizing: border-box;top: 0;bottom: 0;left: 50%;z-index: -1;}#sk-container-id-1 div.sk-parallel-item {display: flex;flex-direction: column;z-index: 1;position: relative;background-color: white;}#sk-container-id-1 div.sk-parallel-item:first-child::after {align-self: flex-end;width: 50%;}#sk-container-id-1 div.sk-parallel-item:last-child::after {align-self: flex-start;width: 50%;}#sk-container-id-1 div.sk-parallel-item:only-child::after {width: 0;}#sk-container-id-1 div.sk-dashed-wrapped {border: 1px dashed gray;margin: 0 0.4em 0.5em 0.4em;box-sizing: border-box;padding-bottom: 0.4em;background-color: white;}#sk-container-id-1 div.sk-label label {font-family: monospace;font-weight: bold;display: inline-block;line-height: 1.2em;}#sk-container-id-1 div.sk-label-container {text-align: center;}#sk-container-id-1 div.sk-container {/* jupyter's `normalize.less` sets `[hidden] { display: none; }` but bootstrap.min.css set `[hidden] { display: none !important; }` so we also need the `!important` here to be able to override the default hidden behavior on the sphinx rendered scikit-learn.org. See: https://github.com/scikit-learn/scikit-learn/issues/21755 */display: inline-block !important;position: relative;}#sk-container-id-1 div.sk-text-repr-fallback {display: none;}</style><div id=\"sk-container-id-1\" class=\"sk-top-container\"><div class=\"sk-text-repr-fallback\"><pre>LinearSVC(C=7.18, max_iter=500)</pre><b>In a Jupyter environment, please rerun this cell to show the HTML representation or trust the notebook. <br />On GitHub, the HTML representation is unable to render, please try loading this page with nbviewer.org.</b></div><div class=\"sk-container\" hidden><div class=\"sk-item\"><div class=\"sk-estimator sk-toggleable\"><input class=\"sk-toggleable__control sk-hidden--visually\" id=\"sk-estimator-id-1\" type=\"checkbox\" checked><label for=\"sk-estimator-id-1\" class=\"sk-toggleable__label sk-toggleable__label-arrow\">LinearSVC</label><div class=\"sk-toggleable__content\"><pre>LinearSVC(C=7.18, max_iter=500)</pre></div></div></div></div></div>"
      ],
      "text/plain": [
       "LinearSVC(C=7.18, max_iter=500)"
      ]
     },
     "execution_count": 54,
     "metadata": {},
     "output_type": "execute_result"
    }
   ],
   "source": [
    "svc.fit(X_train, y_train)"
   ]
  },
  {
   "cell_type": "code",
   "execution_count": 29,
   "id": "f9f521ed-e314-48ac-8892-4416eef72d16",
   "metadata": {},
   "outputs": [],
   "source": [
    "'''\n",
    "pipe = Pipeline([\n",
    "    ('scaler', StandardScaler()),\n",
    "    ('svc', LinearSVC(penalty = 'l2',\n",
    "                     loss = 'squared_hinge',\n",
    "                     max_iter = 500,\n",
    "                     C = 0.570)))                   \n",
    "])\n",
    "\n",
    "from sklearn.model_selection import KFold\n",
    "\n",
    "kf = KFold(n_splits=5)\n",
    "\n",
    "grid_cv_v1 = GridSearchCV(pipe, grid, cv=kf,\n",
    "                          return_train_score=True, refit=True, n_jobs=3, verbose=1)\n",
    "\n",
    "grid_cv_v1.fit(X=X_train, y=y_train, groups=c_train)                          \n",
    "'''"
   ]
  },
  {
   "cell_type": "code",
   "execution_count": 58,
   "id": "1a91069e-4092-4dc9-a823-1ec097dde1e8",
   "metadata": {},
   "outputs": [
    {
     "name": "stdout",
     "output_type": "stream",
     "text": [
      "혼동행렬 : \n",
      " [[483 377]\n",
      " [137 103]]\n",
      "정확도 : 0.5327, 민감도 : 0.4292, 정밀도 : 0.2146\n"
     ]
    }
   ],
   "source": [
    "pred = svc.predict(X_test)\n",
    "\n",
    "from sklearn.metrics import confusion_matrix, accuracy_score, precision_score, recall_score\n",
    "\n",
    "confusion = confusion_matrix(y_test, pred)\n",
    "accuracy = accuracy_score(y_test, pred)\n",
    "recall = recall_score(y_test, pred)\n",
    "precision = precision_score(y_test, pred)\n",
    "\n",
    "print('혼동행렬 : \\n',\n",
    "      confusion)\n",
    "print(f\"정확도 : {accuracy:.4f}, 민감도 : {recall:.4f}, 정밀도 : {precision:.4f}\")"
   ]
  },
  {
   "cell_type": "code",
   "execution_count": 60,
   "id": "74810064-472b-442f-9cd8-4b264afad091",
   "metadata": {},
   "outputs": [
    {
     "data": {
      "text/html": [
       "<style>#sk-container-id-2 {color: black;}#sk-container-id-2 pre{padding: 0;}#sk-container-id-2 div.sk-toggleable {background-color: white;}#sk-container-id-2 label.sk-toggleable__label {cursor: pointer;display: block;width: 100%;margin-bottom: 0;padding: 0.3em;box-sizing: border-box;text-align: center;}#sk-container-id-2 label.sk-toggleable__label-arrow:before {content: \"▸\";float: left;margin-right: 0.25em;color: #696969;}#sk-container-id-2 label.sk-toggleable__label-arrow:hover:before {color: black;}#sk-container-id-2 div.sk-estimator:hover label.sk-toggleable__label-arrow:before {color: black;}#sk-container-id-2 div.sk-toggleable__content {max-height: 0;max-width: 0;overflow: hidden;text-align: left;background-color: #f0f8ff;}#sk-container-id-2 div.sk-toggleable__content pre {margin: 0.2em;color: black;border-radius: 0.25em;background-color: #f0f8ff;}#sk-container-id-2 input.sk-toggleable__control:checked~div.sk-toggleable__content {max-height: 200px;max-width: 100%;overflow: auto;}#sk-container-id-2 input.sk-toggleable__control:checked~label.sk-toggleable__label-arrow:before {content: \"▾\";}#sk-container-id-2 div.sk-estimator input.sk-toggleable__control:checked~label.sk-toggleable__label {background-color: #d4ebff;}#sk-container-id-2 div.sk-label input.sk-toggleable__control:checked~label.sk-toggleable__label {background-color: #d4ebff;}#sk-container-id-2 input.sk-hidden--visually {border: 0;clip: rect(1px 1px 1px 1px);clip: rect(1px, 1px, 1px, 1px);height: 1px;margin: -1px;overflow: hidden;padding: 0;position: absolute;width: 1px;}#sk-container-id-2 div.sk-estimator {font-family: monospace;background-color: #f0f8ff;border: 1px dotted black;border-radius: 0.25em;box-sizing: border-box;margin-bottom: 0.5em;}#sk-container-id-2 div.sk-estimator:hover {background-color: #d4ebff;}#sk-container-id-2 div.sk-parallel-item::after {content: \"\";width: 100%;border-bottom: 1px solid gray;flex-grow: 1;}#sk-container-id-2 div.sk-label:hover label.sk-toggleable__label {background-color: #d4ebff;}#sk-container-id-2 div.sk-serial::before {content: \"\";position: absolute;border-left: 1px solid gray;box-sizing: border-box;top: 0;bottom: 0;left: 50%;z-index: 0;}#sk-container-id-2 div.sk-serial {display: flex;flex-direction: column;align-items: center;background-color: white;padding-right: 0.2em;padding-left: 0.2em;position: relative;}#sk-container-id-2 div.sk-item {position: relative;z-index: 1;}#sk-container-id-2 div.sk-parallel {display: flex;align-items: stretch;justify-content: center;background-color: white;position: relative;}#sk-container-id-2 div.sk-item::before, #sk-container-id-2 div.sk-parallel-item::before {content: \"\";position: absolute;border-left: 1px solid gray;box-sizing: border-box;top: 0;bottom: 0;left: 50%;z-index: -1;}#sk-container-id-2 div.sk-parallel-item {display: flex;flex-direction: column;z-index: 1;position: relative;background-color: white;}#sk-container-id-2 div.sk-parallel-item:first-child::after {align-self: flex-end;width: 50%;}#sk-container-id-2 div.sk-parallel-item:last-child::after {align-self: flex-start;width: 50%;}#sk-container-id-2 div.sk-parallel-item:only-child::after {width: 0;}#sk-container-id-2 div.sk-dashed-wrapped {border: 1px dashed gray;margin: 0 0.4em 0.5em 0.4em;box-sizing: border-box;padding-bottom: 0.4em;background-color: white;}#sk-container-id-2 div.sk-label label {font-family: monospace;font-weight: bold;display: inline-block;line-height: 1.2em;}#sk-container-id-2 div.sk-label-container {text-align: center;}#sk-container-id-2 div.sk-container {/* jupyter's `normalize.less` sets `[hidden] { display: none; }` but bootstrap.min.css set `[hidden] { display: none !important; }` so we also need the `!important` here to be able to override the default hidden behavior on the sphinx rendered scikit-learn.org. See: https://github.com/scikit-learn/scikit-learn/issues/21755 */display: inline-block !important;position: relative;}#sk-container-id-2 div.sk-text-repr-fallback {display: none;}</style><div id=\"sk-container-id-2\" class=\"sk-top-container\"><div class=\"sk-text-repr-fallback\"><pre>Pipeline(steps=[(&#x27;scaler&#x27;, StandardScaler()),\n",
       "                (&#x27;svc&#x27;, LinearSVC(C=0.1, max_iter=500))])</pre><b>In a Jupyter environment, please rerun this cell to show the HTML representation or trust the notebook. <br />On GitHub, the HTML representation is unable to render, please try loading this page with nbviewer.org.</b></div><div class=\"sk-container\" hidden><div class=\"sk-item sk-dashed-wrapped\"><div class=\"sk-label-container\"><div class=\"sk-label sk-toggleable\"><input class=\"sk-toggleable__control sk-hidden--visually\" id=\"sk-estimator-id-5\" type=\"checkbox\" ><label for=\"sk-estimator-id-5\" class=\"sk-toggleable__label sk-toggleable__label-arrow\">Pipeline</label><div class=\"sk-toggleable__content\"><pre>Pipeline(steps=[(&#x27;scaler&#x27;, StandardScaler()),\n",
       "                (&#x27;svc&#x27;, LinearSVC(C=0.1, max_iter=500))])</pre></div></div></div><div class=\"sk-serial\"><div class=\"sk-item\"><div class=\"sk-estimator sk-toggleable\"><input class=\"sk-toggleable__control sk-hidden--visually\" id=\"sk-estimator-id-6\" type=\"checkbox\" ><label for=\"sk-estimator-id-6\" class=\"sk-toggleable__label sk-toggleable__label-arrow\">StandardScaler</label><div class=\"sk-toggleable__content\"><pre>StandardScaler()</pre></div></div></div><div class=\"sk-item\"><div class=\"sk-estimator sk-toggleable\"><input class=\"sk-toggleable__control sk-hidden--visually\" id=\"sk-estimator-id-7\" type=\"checkbox\" ><label for=\"sk-estimator-id-7\" class=\"sk-toggleable__label sk-toggleable__label-arrow\">LinearSVC</label><div class=\"sk-toggleable__content\"><pre>LinearSVC(C=0.1, max_iter=500)</pre></div></div></div></div></div></div></div>"
      ],
      "text/plain": [
       "Pipeline(steps=[('scaler', StandardScaler()),\n",
       "                ('svc', LinearSVC(C=0.1, max_iter=500))])"
      ]
     },
     "execution_count": 60,
     "metadata": {},
     "output_type": "execute_result"
    }
   ],
   "source": [
    "# C = 0.1 일 때 가장 좋음.\n",
    "grid_cv_v1.best_estimator_"
   ]
  },
  {
   "cell_type": "markdown",
   "id": "8b9f62ac-2b58-4873-9e14-ea4bc0d4340b",
   "metadata": {},
   "source": [
    "# ROI로 해보기(+ ROI 별 평균으로 분석도 가능)"
   ]
  },
  {
   "cell_type": "code",
   "execution_count": 61,
   "id": "9ccf1d09-8e54-4af7-9f0b-750759f34a98",
   "metadata": {},
   "outputs": [
    {
     "data": {
      "text/plain": [
       "<nilearn.plotting.displays._slicers.OrthoSlicer at 0x1a684793250>"
      ]
     },
     "execution_count": 61,
     "metadata": {},
     "output_type": "execute_result"
    },
    {
     "data": {
      "image/png": "[encoded data removed]",
      "text/plain": [
       "<Figure size 660x350 with 4 Axes>"
      ]
     },
     "metadata": {},
     "output_type": "display_data"
    }
   ],
   "source": [
    "# atlas 가져오기\n",
    "from nilearn.datasets import fetch_atlas_schaefer_2018\n",
    "# 관심 roi 100구역, 공간 해상도 2mm\n",
    "schaefer_parc = fetch_atlas_schaefer_2018(n_rois=100, resolution_mm=2, verbose=False)\n",
    "\n",
    "atlas_label = schaefer_parc['labels']\n",
    "\n",
    "img_atlas = image.load_img(schaefer_parc['maps'])\n",
    "\n",
    "idx_vis = [1,2,3,4,5,6,7,8,9,51,52,53,54,55,56,57,58]\n",
    "\n",
    "roi_ints = img_atlas.get_fdata()\n",
    "\n",
    "roi_ints[~np.isin(roi_ints, idx_vis)] = 0\n",
    "new_img = image.new_img_like(img_atlas, roi_ints)\n",
    "plot_roi(new_img)"
   ]
  },
  {
   "cell_type": "code",
   "execution_count": 62,
   "id": "a1c403e8-fc4b-46c4-bb73-fb7aa7d9a633",
   "metadata": {},
   "outputs": [
    {
     "data": {
      "text/plain": [
       "(91, 109, 91)"
      ]
     },
     "execution_count": 62,
     "metadata": {},
     "output_type": "execute_result"
    }
   ],
   "source": [
    "new_img.shape"
   ]
  },
  {
   "cell_type": "code",
   "execution_count": 63,
   "id": "8039ddd3-916f-4cf1-b213-9ce067af6ed7",
   "metadata": {},
   "outputs": [
    {
     "data": {
      "text/plain": [
       "(65, 77, 65)"
      ]
     },
     "execution_count": 63,
     "metadata": {},
     "output_type": "execute_result"
    }
   ],
   "source": [
    "# 0보다 큰 영역 선택\n",
    "img_roi = image.math_img(\"img>0\", img=new_img)\n",
    "\n",
    "# resample\n",
    "img_resampled = image.resample_to_img(img_roi, img_mean, interpolation='nearest')\n",
    "\n",
    "# 마스크\n",
    "mask_vis = image.math_img(\"((mean != 0)*img)>0.5\", mean=img_mean, img = img_resampled)\n",
    "mask_vis.shape"
   ]
  },
  {
   "cell_type": "code",
   "execution_count": 64,
   "id": "8ff27bf6-adf3-412c-8e84-8fd89cf334f9",
   "metadata": {},
   "outputs": [
    {
     "data": {
      "image/png": "[encoded data removed]",
      "text/plain": [
       "<Figure size 660x350 with 4 Axes>"
      ]
     },
     "metadata": {},
     "output_type": "display_data"
    }
   ],
   "source": [
    "# Plotting Vis mask\n",
    "plot_roi(mask_vis, t1, cmap='Paired', dim=-.5, draw_cross=False, annotate=False);"
   ]
  },
  {
   "cell_type": "code",
   "execution_count": 65,
   "id": "2b82cbbf-d949-415c-b55c-cf6e8d93d5fd",
   "metadata": {},
   "outputs": [
    {
     "name": "stdout",
     "output_type": "stream",
     "text": [
      "Shape of indexed data: (5500, 6713)\n"
     ]
    }
   ],
   "source": [
    "# Mask ML dataset with Visual ROI mask\n",
    "from nilearn.maskers import NiftiMasker\n",
    "masker_vis = NiftiMasker(mask_img=mask_vis, standardize=False, detrend=False,\n",
    "                     memory=\"nilearn_cache\", memory_level=2)\n",
    "X_roi = masker_vis.fit_transform(all_func)\n",
    "print(\"Shape of indexed data:\", X_roi.shape)"
   ]
  },
  {
   "cell_type": "code",
   "execution_count": 66,
   "id": "651f9601-9413-4589-a500-b0de7d88c7fa",
   "metadata": {},
   "outputs": [
    {
     "data": {
      "text/plain": [
       "array([[ 8.5950802e-11,  3.8248515e-11, -7.5708328e-11, ...,\n",
       "         1.6739499e-11,  3.4944492e-11, -1.7985613e-11],\n",
       "       [ 8.5666585e-11,  3.8127279e-11, -7.5465856e-11, ...,\n",
       "         1.6699531e-11,  3.4853898e-11, -1.7941870e-11],\n",
       "       [ 8.5400131e-11,  3.7991832e-11, -7.5210060e-11, ...,\n",
       "         1.6634694e-11,  3.4733105e-11, -1.7877255e-11],\n",
       "       ...,\n",
       "       [ 2.9693079e+00, -1.3424060e-01, -2.6578858e+00, ...,\n",
       "        -3.7393746e+00, -3.7081676e+00,  1.5025499e+00],\n",
       "       [-7.3850346e-01,  2.5868740e+00,  2.5614779e+00, ...,\n",
       "        -6.0203576e-01,  1.0111041e+00, -6.0712777e-02],\n",
       "       [-1.0815854e+00,  5.0222337e-01,  2.3492069e+00, ...,\n",
       "        -3.7087154e+00, -4.3952031e+00, -7.3410201e-01]], dtype=float32)"
      ]
     },
     "execution_count": 66,
     "metadata": {},
     "output_type": "execute_result"
    }
   ],
   "source": [
    "X_roi"
   ]
  },
  {
   "cell_type": "code",
   "execution_count": 67,
   "id": "dacb5079-5578-4ec3-8dbb-e5d6463d80da",
   "metadata": {},
   "outputs": [
    {
     "data": {
      "text/plain": [
       "<nilearn.plotting.displays._slicers.OrthoSlicer at 0x1a684ab5850>"
      ]
     },
     "execution_count": 67,
     "metadata": {},
     "output_type": "execute_result"
    },
    {
     "data": {
      "image/png": "[encoded data removed]",
      "text/plain": [
       "<Figure size 730x350 with 5 Axes>"
      ]
     },
     "metadata": {},
     "output_type": "display_data"
    }
   ],
   "source": [
    "# unmasking 하기 x,y,z 형식으로 다시 만들기\n",
    "from nilearn import plotting\n",
    "\n",
    "masked_epi = masker_vis.inverse_transform(X_roi)\n",
    "max_zscores = image.math_img(\"np.abs(img).max(axis=3)\", img=masked_epi)\n",
    "plotting.plot_stat_map(max_zscores, bg_img=t1, dim=-.5,\n",
    "              draw_cross=False, annotate=False, colorbar=True,\n",
    "              title='Maximum Amplitude per Voxel in Mask')"
   ]
  },
  {
   "cell_type": "code",
   "execution_count": 68,
   "id": "5e106da0-f6f4-4930-acf9-04c4e1774261",
   "metadata": {},
   "outputs": [
    {
     "name": "stdout",
     "output_type": "stream",
     "text": [
      "Shapes of X: (2750, 6713) (2750, 6713)\n",
      "Shapes of y: (2750,) (2750,)\n"
     ]
    }
   ],
   "source": [
    "# train : test = 5:5\n",
    "from sklearn.model_selection import train_test_split\n",
    "\n",
    "X_train_roi, X_test_roi, y_train_roi, y_test_roi, c_train_roi, c_test_roi = train_test_split(\n",
    "    X_roi, y, chunks, test_size =0.5, random_state=42, shuffle=False)\n",
    "\n",
    "print('Shapes of X:', X_train_roi.shape, X_test_roi.shape)\n",
    "print('Shapes of y:', y_train_roi.shape, y_test_roi.shape)"
   ]
  },
  {
   "cell_type": "code",
   "execution_count": null,
   "id": "92733e62-1a5e-43a4-8fdc-6e9583ca8be2",
   "metadata": {},
   "outputs": [],
   "source": []
  },
  {
   "cell_type": "code",
   "execution_count": 70,
   "id": "6344519d-7a86-487a-a012-46a32389ead8",
   "metadata": {},
   "outputs": [
    {
     "name": "stdout",
     "output_type": "stream",
     "text": [
      "Fitting 5 folds for each of 4 candidates, totalling 20 fits\n"
     ]
    },
    {
     "name": "stderr",
     "output_type": "stream",
     "text": [
      "C:\\Users\\User\\AppData\\Local\\Programs\\Python\\Python311\\Lib\\site-packages\\sklearn\\svm\\_classes.py:32: FutureWarning: The default value of `dual` will change from `True` to `'auto'` in 1.5. Set the value of `dual` explicitly to suppress the warning.\n",
      "  warnings.warn(\n",
      "C:\\Users\\User\\AppData\\Local\\Programs\\Python\\Python311\\Lib\\site-packages\\sklearn\\svm\\_base.py:1250: ConvergenceWarning: Liblinear failed to converge, increase the number of iterations.\n",
      "  warnings.warn(\n"
     ]
    },
    {
     "data": {
      "text/html": [
       "<style>#sk-container-id-3 {color: black;}#sk-container-id-3 pre{padding: 0;}#sk-container-id-3 div.sk-toggleable {background-color: white;}#sk-container-id-3 label.sk-toggleable__label {cursor: pointer;display: block;width: 100%;margin-bottom: 0;padding: 0.3em;box-sizing: border-box;text-align: center;}#sk-container-id-3 label.sk-toggleable__label-arrow:before {content: \"▸\";float: left;margin-right: 0.25em;color: #696969;}#sk-container-id-3 label.sk-toggleable__label-arrow:hover:before {color: black;}#sk-container-id-3 div.sk-estimator:hover label.sk-toggleable__label-arrow:before {color: black;}#sk-container-id-3 div.sk-toggleable__content {max-height: 0;max-width: 0;overflow: hidden;text-align: left;background-color: #f0f8ff;}#sk-container-id-3 div.sk-toggleable__content pre {margin: 0.2em;color: black;border-radius: 0.25em;background-color: #f0f8ff;}#sk-container-id-3 input.sk-toggleable__control:checked~div.sk-toggleable__content {max-height: 200px;max-width: 100%;overflow: auto;}#sk-container-id-3 input.sk-toggleable__control:checked~label.sk-toggleable__label-arrow:before {content: \"▾\";}#sk-container-id-3 div.sk-estimator input.sk-toggleable__control:checked~label.sk-toggleable__label {background-color: #d4ebff;}#sk-container-id-3 div.sk-label input.sk-toggleable__control:checked~label.sk-toggleable__label {background-color: #d4ebff;}#sk-container-id-3 input.sk-hidden--visually {border: 0;clip: rect(1px 1px 1px 1px);clip: rect(1px, 1px, 1px, 1px);height: 1px;margin: -1px;overflow: hidden;padding: 0;position: absolute;width: 1px;}#sk-container-id-3 div.sk-estimator {font-family: monospace;background-color: #f0f8ff;border: 1px dotted black;border-radius: 0.25em;box-sizing: border-box;margin-bottom: 0.5em;}#sk-container-id-3 div.sk-estimator:hover {background-color: #d4ebff;}#sk-container-id-3 div.sk-parallel-item::after {content: \"\";width: 100%;border-bottom: 1px solid gray;flex-grow: 1;}#sk-container-id-3 div.sk-label:hover label.sk-toggleable__label {background-color: #d4ebff;}#sk-container-id-3 div.sk-serial::before {content: \"\";position: absolute;border-left: 1px solid gray;box-sizing: border-box;top: 0;bottom: 0;left: 50%;z-index: 0;}#sk-container-id-3 div.sk-serial {display: flex;flex-direction: column;align-items: center;background-color: white;padding-right: 0.2em;padding-left: 0.2em;position: relative;}#sk-container-id-3 div.sk-item {position: relative;z-index: 1;}#sk-container-id-3 div.sk-parallel {display: flex;align-items: stretch;justify-content: center;background-color: white;position: relative;}#sk-container-id-3 div.sk-item::before, #sk-container-id-3 div.sk-parallel-item::before {content: \"\";position: absolute;border-left: 1px solid gray;box-sizing: border-box;top: 0;bottom: 0;left: 50%;z-index: -1;}#sk-container-id-3 div.sk-parallel-item {display: flex;flex-direction: column;z-index: 1;position: relative;background-color: white;}#sk-container-id-3 div.sk-parallel-item:first-child::after {align-self: flex-end;width: 50%;}#sk-container-id-3 div.sk-parallel-item:last-child::after {align-self: flex-start;width: 50%;}#sk-container-id-3 div.sk-parallel-item:only-child::after {width: 0;}#sk-container-id-3 div.sk-dashed-wrapped {border: 1px dashed gray;margin: 0 0.4em 0.5em 0.4em;box-sizing: border-box;padding-bottom: 0.4em;background-color: white;}#sk-container-id-3 div.sk-label label {font-family: monospace;font-weight: bold;display: inline-block;line-height: 1.2em;}#sk-container-id-3 div.sk-label-container {text-align: center;}#sk-container-id-3 div.sk-container {/* jupyter's `normalize.less` sets `[hidden] { display: none; }` but bootstrap.min.css set `[hidden] { display: none !important; }` so we also need the `!important` here to be able to override the default hidden behavior on the sphinx rendered scikit-learn.org. See: https://github.com/scikit-learn/scikit-learn/issues/21755 */display: inline-block !important;position: relative;}#sk-container-id-3 div.sk-text-repr-fallback {display: none;}</style><div id=\"sk-container-id-3\" class=\"sk-top-container\"><div class=\"sk-text-repr-fallback\"><pre>GridSearchCV(cv=KFold(n_splits=5, random_state=None, shuffle=False),\n",
       "             estimator=Pipeline(steps=[(&#x27;scaler&#x27;, StandardScaler()),\n",
       "                                       (&#x27;svc&#x27;, LinearSVC(max_iter=500))]),\n",
       "             n_jobs=4, param_grid={&#x27;svc__C&#x27;: [0.01, 0.1, 1, 10]},\n",
       "             return_train_score=True, verbose=1)</pre><b>In a Jupyter environment, please rerun this cell to show the HTML representation or trust the notebook. <br />On GitHub, the HTML representation is unable to render, please try loading this page with nbviewer.org.</b></div><div class=\"sk-container\" hidden><div class=\"sk-item sk-dashed-wrapped\"><div class=\"sk-label-container\"><div class=\"sk-label sk-toggleable\"><input class=\"sk-toggleable__control sk-hidden--visually\" id=\"sk-estimator-id-8\" type=\"checkbox\" ><label for=\"sk-estimator-id-8\" class=\"sk-toggleable__label sk-toggleable__label-arrow\">GridSearchCV</label><div class=\"sk-toggleable__content\"><pre>GridSearchCV(cv=KFold(n_splits=5, random_state=None, shuffle=False),\n",
       "             estimator=Pipeline(steps=[(&#x27;scaler&#x27;, StandardScaler()),\n",
       "                                       (&#x27;svc&#x27;, LinearSVC(max_iter=500))]),\n",
       "             n_jobs=4, param_grid={&#x27;svc__C&#x27;: [0.01, 0.1, 1, 10]},\n",
       "             return_train_score=True, verbose=1)</pre></div></div></div><div class=\"sk-parallel\"><div class=\"sk-parallel-item\"><div class=\"sk-item\"><div class=\"sk-label-container\"><div class=\"sk-label sk-toggleable\"><input class=\"sk-toggleable__control sk-hidden--visually\" id=\"sk-estimator-id-9\" type=\"checkbox\" ><label for=\"sk-estimator-id-9\" class=\"sk-toggleable__label sk-toggleable__label-arrow\">estimator: Pipeline</label><div class=\"sk-toggleable__content\"><pre>Pipeline(steps=[(&#x27;scaler&#x27;, StandardScaler()), (&#x27;svc&#x27;, LinearSVC(max_iter=500))])</pre></div></div></div><div class=\"sk-serial\"><div class=\"sk-item\"><div class=\"sk-serial\"><div class=\"sk-item\"><div class=\"sk-estimator sk-toggleable\"><input class=\"sk-toggleable__control sk-hidden--visually\" id=\"sk-estimator-id-10\" type=\"checkbox\" ><label for=\"sk-estimator-id-10\" class=\"sk-toggleable__label sk-toggleable__label-arrow\">StandardScaler</label><div class=\"sk-toggleable__content\"><pre>StandardScaler()</pre></div></div></div><div class=\"sk-item\"><div class=\"sk-estimator sk-toggleable\"><input class=\"sk-toggleable__control sk-hidden--visually\" id=\"sk-estimator-id-11\" type=\"checkbox\" ><label for=\"sk-estimator-id-11\" class=\"sk-toggleable__label sk-toggleable__label-arrow\">LinearSVC</label><div class=\"sk-toggleable__content\"><pre>LinearSVC(max_iter=500)</pre></div></div></div></div></div></div></div></div></div></div></div></div>"
      ],
      "text/plain": [
       "GridSearchCV(cv=KFold(n_splits=5, random_state=None, shuffle=False),\n",
       "             estimator=Pipeline(steps=[('scaler', StandardScaler()),\n",
       "                                       ('svc', LinearSVC(max_iter=500))]),\n",
       "             n_jobs=4, param_grid={'svc__C': [0.01, 0.1, 1, 10]},\n",
       "             return_train_score=True, verbose=1)"
      ]
     },
     "execution_count": 70,
     "metadata": {},
     "output_type": "execute_result"
    }
   ],
   "source": [
    "pipe = Pipeline([\n",
    "    ('scaler', StandardScaler()),\n",
    "    ('svc', LinearSVC(penalty='l2',\n",
    "                      loss='squared_hinge', max_iter=500))\n",
    "])\n",
    "\n",
    "grid_roi = {\n",
    "    'svc__C' : [0.01, 0.1, 1, 10]\n",
    "}\n",
    "\n",
    "grid_cv_roi = GridSearchCV(pipe, grid_roi, cv=kf,\n",
    "                          return_train_score=True, refit=True, n_jobs=4, verbose=1)\n",
    "\n",
    "grid_cv_roi.fit(X=X_train_roi, y=y_train_roi, groups=c_train_roi)"
   ]
  },
  {
   "cell_type": "code",
   "execution_count": 72,
   "id": "3cd9b9df-1127-47b4-a662-2f2db963b588",
   "metadata": {},
   "outputs": [
    {
     "data": {
      "text/html": [
       "<style>#sk-container-id-5 {color: black;}#sk-container-id-5 pre{padding: 0;}#sk-container-id-5 div.sk-toggleable {background-color: white;}#sk-container-id-5 label.sk-toggleable__label {cursor: pointer;display: block;width: 100%;margin-bottom: 0;padding: 0.3em;box-sizing: border-box;text-align: center;}#sk-container-id-5 label.sk-toggleable__label-arrow:before {content: \"▸\";float: left;margin-right: 0.25em;color: #696969;}#sk-container-id-5 label.sk-toggleable__label-arrow:hover:before {color: black;}#sk-container-id-5 div.sk-estimator:hover label.sk-toggleable__label-arrow:before {color: black;}#sk-container-id-5 div.sk-toggleable__content {max-height: 0;max-width: 0;overflow: hidden;text-align: left;background-color: #f0f8ff;}#sk-container-id-5 div.sk-toggleable__content pre {margin: 0.2em;color: black;border-radius: 0.25em;background-color: #f0f8ff;}#sk-container-id-5 input.sk-toggleable__control:checked~div.sk-toggleable__content {max-height: 200px;max-width: 100%;overflow: auto;}#sk-container-id-5 input.sk-toggleable__control:checked~label.sk-toggleable__label-arrow:before {content: \"▾\";}#sk-container-id-5 div.sk-estimator input.sk-toggleable__control:checked~label.sk-toggleable__label {background-color: #d4ebff;}#sk-container-id-5 div.sk-label input.sk-toggleable__control:checked~label.sk-toggleable__label {background-color: #d4ebff;}#sk-container-id-5 input.sk-hidden--visually {border: 0;clip: rect(1px 1px 1px 1px);clip: rect(1px, 1px, 1px, 1px);height: 1px;margin: -1px;overflow: hidden;padding: 0;position: absolute;width: 1px;}#sk-container-id-5 div.sk-estimator {font-family: monospace;background-color: #f0f8ff;border: 1px dotted black;border-radius: 0.25em;box-sizing: border-box;margin-bottom: 0.5em;}#sk-container-id-5 div.sk-estimator:hover {background-color: #d4ebff;}#sk-container-id-5 div.sk-parallel-item::after {content: \"\";width: 100%;border-bottom: 1px solid gray;flex-grow: 1;}#sk-container-id-5 div.sk-label:hover label.sk-toggleable__label {background-color: #d4ebff;}#sk-container-id-5 div.sk-serial::before {content: \"\";position: absolute;border-left: 1px solid gray;box-sizing: border-box;top: 0;bottom: 0;left: 50%;z-index: 0;}#sk-container-id-5 div.sk-serial {display: flex;flex-direction: column;align-items: center;background-color: white;padding-right: 0.2em;padding-left: 0.2em;position: relative;}#sk-container-id-5 div.sk-item {position: relative;z-index: 1;}#sk-container-id-5 div.sk-parallel {display: flex;align-items: stretch;justify-content: center;background-color: white;position: relative;}#sk-container-id-5 div.sk-item::before, #sk-container-id-5 div.sk-parallel-item::before {content: \"\";position: absolute;border-left: 1px solid gray;box-sizing: border-box;top: 0;bottom: 0;left: 50%;z-index: -1;}#sk-container-id-5 div.sk-parallel-item {display: flex;flex-direction: column;z-index: 1;position: relative;background-color: white;}#sk-container-id-5 div.sk-parallel-item:first-child::after {align-self: flex-end;width: 50%;}#sk-container-id-5 div.sk-parallel-item:last-child::after {align-self: flex-start;width: 50%;}#sk-container-id-5 div.sk-parallel-item:only-child::after {width: 0;}#sk-container-id-5 div.sk-dashed-wrapped {border: 1px dashed gray;margin: 0 0.4em 0.5em 0.4em;box-sizing: border-box;padding-bottom: 0.4em;background-color: white;}#sk-container-id-5 div.sk-label label {font-family: monospace;font-weight: bold;display: inline-block;line-height: 1.2em;}#sk-container-id-5 div.sk-label-container {text-align: center;}#sk-container-id-5 div.sk-container {/* jupyter's `normalize.less` sets `[hidden] { display: none; }` but bootstrap.min.css set `[hidden] { display: none !important; }` so we also need the `!important` here to be able to override the default hidden behavior on the sphinx rendered scikit-learn.org. See: https://github.com/scikit-learn/scikit-learn/issues/21755 */display: inline-block !important;position: relative;}#sk-container-id-5 div.sk-text-repr-fallback {display: none;}</style><div id=\"sk-container-id-5\" class=\"sk-top-container\"><div class=\"sk-text-repr-fallback\"><pre>Pipeline(steps=[(&#x27;scaler&#x27;, StandardScaler()),\n",
       "                (&#x27;svc&#x27;, LinearSVC(C=0.01, max_iter=500))])</pre><b>In a Jupyter environment, please rerun this cell to show the HTML representation or trust the notebook. <br />On GitHub, the HTML representation is unable to render, please try loading this page with nbviewer.org.</b></div><div class=\"sk-container\" hidden><div class=\"sk-item sk-dashed-wrapped\"><div class=\"sk-label-container\"><div class=\"sk-label sk-toggleable\"><input class=\"sk-toggleable__control sk-hidden--visually\" id=\"sk-estimator-id-15\" type=\"checkbox\" ><label for=\"sk-estimator-id-15\" class=\"sk-toggleable__label sk-toggleable__label-arrow\">Pipeline</label><div class=\"sk-toggleable__content\"><pre>Pipeline(steps=[(&#x27;scaler&#x27;, StandardScaler()),\n",
       "                (&#x27;svc&#x27;, LinearSVC(C=0.01, max_iter=500))])</pre></div></div></div><div class=\"sk-serial\"><div class=\"sk-item\"><div class=\"sk-estimator sk-toggleable\"><input class=\"sk-toggleable__control sk-hidden--visually\" id=\"sk-estimator-id-16\" type=\"checkbox\" ><label for=\"sk-estimator-id-16\" class=\"sk-toggleable__label sk-toggleable__label-arrow\">StandardScaler</label><div class=\"sk-toggleable__content\"><pre>StandardScaler()</pre></div></div></div><div class=\"sk-item\"><div class=\"sk-estimator sk-toggleable\"><input class=\"sk-toggleable__control sk-hidden--visually\" id=\"sk-estimator-id-17\" type=\"checkbox\" ><label for=\"sk-estimator-id-17\" class=\"sk-toggleable__label sk-toggleable__label-arrow\">LinearSVC</label><div class=\"sk-toggleable__content\"><pre>LinearSVC(C=0.01, max_iter=500)</pre></div></div></div></div></div></div></div>"
      ],
      "text/plain": [
       "Pipeline(steps=[('scaler', StandardScaler()),\n",
       "                ('svc', LinearSVC(C=0.01, max_iter=500))])"
      ]
     },
     "execution_count": 72,
     "metadata": {},
     "output_type": "execute_result"
    }
   ],
   "source": [
    "# 0.01일 때 베스트\n",
    "best_roi = grid_cv_roi.best_estimator_\n",
    "best_roi"
   ]
  },
  {
   "cell_type": "code",
   "execution_count": 73,
   "id": "2e6329cb-2cba-48d4-baf3-7f75d1f416d1",
   "metadata": {},
   "outputs": [
    {
     "name": "stdout",
     "output_type": "stream",
     "text": [
      "혼동행렬 : \n",
      " [[1399  151]\n",
      " [1034  166]]\n",
      "정확도 : 0.5691, 민감도 : 0.1383, 정밀도 : 0.5237\n"
     ]
    }
   ],
   "source": [
    "pred_roi = best_roi.predict(X_test_roi)\n",
    "\n",
    "from sklearn.metrics import confusion_matrix, accuracy_score, precision_score, recall_score\n",
    "\n",
    "confusion_roi = confusion_matrix(y_test_roi, pred_roi)\n",
    "accuracy_roi = accuracy_score(y_test_roi, pred_roi)\n",
    "recall_roi = recall_score(y_test_roi, pred_roi)\n",
    "precision_roi = precision_score(y_test_roi, pred_roi)\n",
    "\n",
    "print('혼동행렬 : \\n',\n",
    "      confusion_roi)\n",
    "print(f\"정확도 : {accuracy_roi:.4f}, 민감도 : {recall_roi:.4f}, 정밀도 : {precision_roi:.4f}\")"
   ]
  },
  {
   "cell_type": "markdown",
   "id": "dde958f6-0f8e-401d-94d0-f82eac050bd1",
   "metadata": {},
   "source": [
    "# PCA로 해보기"
   ]
  },
  {
   "cell_type": "code",
   "execution_count": 75,
   "id": "fe6056ce-6304-43e3-ae21-f439a2c1f04b",
   "metadata": {},
   "outputs": [
    {
     "name": "stdout",
     "output_type": "stream",
     "text": [
      "Shape before pca: (5500, 73096)\n",
      "Shape after pca: (5500, 1000)\n"
     ]
    }
   ],
   "source": [
    "from sklearn.decomposition import PCA\n",
    "pca = PCA(n_components=1000)\n",
    "\n",
    "print('Shape before pca:', X.shape)\n",
    "pca.fit(X)\n",
    "X_pca = pca.transform(X)\n",
    "print('Shape after pca:', X_pca.shape)"
   ]
  },
  {
   "cell_type": "code",
   "execution_count": 76,
   "id": "3a68736d-d13c-4be2-ad50-0e915a5665bd",
   "metadata": {},
   "outputs": [
    {
     "name": "stdout",
     "output_type": "stream",
     "text": [
      "Shapes of X: (2750, 1000) (2750, 1000)\n",
      "Shapes of y: (2750,) (2750,)\n"
     ]
    }
   ],
   "source": [
    "# train : test = 5:5\n",
    "from sklearn.model_selection import train_test_split\n",
    "\n",
    "X_train_pca, X_test_pca, y_train_pca, y_test_pca, c_train_pca, c_test_pca = train_test_split(\n",
    "    X_pca, y, chunks, test_size =0.5, random_state=42, shuffle=False)\n",
    "\n",
    "print('Shapes of X:', X_train_pca.shape, X_test_pca.shape)\n",
    "print('Shapes of y:', y_train_pca.shape, y_test_pca.shape)"
   ]
  },
  {
   "cell_type": "code",
   "execution_count": 78,
   "id": "c69d2fff-4d40-4d1a-a36c-ccfd6ae382f5",
   "metadata": {},
   "outputs": [
    {
     "name": "stdout",
     "output_type": "stream",
     "text": [
      "Fitting 5 folds for each of 4 candidates, totalling 20 fits\n"
     ]
    },
    {
     "name": "stderr",
     "output_type": "stream",
     "text": [
      "C:\\Users\\User\\AppData\\Local\\Programs\\Python\\Python311\\Lib\\site-packages\\sklearn\\svm\\_classes.py:32: FutureWarning: The default value of `dual` will change from `True` to `'auto'` in 1.5. Set the value of `dual` explicitly to suppress the warning.\n",
      "  warnings.warn(\n"
     ]
    },
    {
     "name": "stdout",
     "output_type": "stream",
     "text": [
      "혼동행렬 : \n",
      " [[850 700]\n",
      " [637 563]]\n",
      "정확도 : 0.5138, 민감도 : 0.4692, 정밀도 : 0.4458\n"
     ]
    },
    {
     "name": "stderr",
     "output_type": "stream",
     "text": [
      "C:\\Users\\User\\AppData\\Local\\Programs\\Python\\Python311\\Lib\\site-packages\\sklearn\\svm\\_base.py:1250: ConvergenceWarning: Liblinear failed to converge, increase the number of iterations.\n",
      "  warnings.warn(\n"
     ]
    }
   ],
   "source": [
    "pipe = Pipeline([\n",
    "    ('scaler', StandardScaler()),\n",
    "    ('svc', LinearSVC(penalty='l2',\n",
    "                      loss='squared_hinge', max_iter=500))\n",
    "])\n",
    "\n",
    "grid_pca = {\n",
    "    'svc__C' : [0.01, 0.1, 1, 10]\n",
    "}\n",
    "\n",
    "grid_cv_pca = GridSearchCV(pipe, grid_pca, cv=kf,\n",
    "                          return_train_score=True, refit=True, n_jobs=4, verbose=1)\n",
    "\n",
    "grid_cv_pca.fit(X=X_train_pca, y=y_train_pca, groups=c_train_pca)\n",
    "\n",
    "best_pca = grid_cv_pca.best_estimator_\n",
    "\n",
    "pred_pca = best_pca.predict(X_test_pca)\n",
    "\n",
    "confusion_pca = confusion_matrix(y_test_pca, pred_pca)\n",
    "accuracy_pca = accuracy_score(y_test_pca, pred_pca)\n",
    "recall_pca = recall_score(y_test_pca, pred_pca)\n",
    "precision_pca = precision_score(y_test_pca, pred_pca)\n",
    "\n",
    "print('혼동행렬 : \\n',\n",
    "      confusion_pca)\n",
    "print(f\"정확도 : {accuracy_pca:.4f}, 민감도 : {recall_pca:.4f}, 정밀도 : {precision_pca:.4f}\")"
   ]
  },
  {
   "cell_type": "markdown",
   "id": "ebea0f13-03f9-44c6-8db1-3928b68aef88",
   "metadata": {},
   "source": [
    "# Searchlight 분석"
   ]
  },
  {
   "cell_type": "code",
   "execution_count": 79,
   "id": "8e20c0b4-469c-4895-8d70-4597accf1046",
   "metadata": {},
   "outputs": [],
   "source": [
    "from nilearn.decoding import SearchLight"
   ]
  },
  {
   "cell_type": "code",
   "execution_count": 80,
   "id": "8eef5707-6e99-4b79-8f55-1ed6f6161d5a",
   "metadata": {},
   "outputs": [
    {
     "data": {
      "text/plain": [
       "<nilearn.plotting.displays._slicers.OrthoSlicer at 0x1a687895150>"
      ]
     },
     "execution_count": 80,
     "metadata": {},
     "output_type": "execute_result"
    },
    {
     "data": {
      "image/png": "[encoded data removed]",
      "text/plain": [
       "<Figure size 660x350 with 4 Axes>"
      ]
     },
     "metadata": {},
     "output_type": "display_data"
    }
   ],
   "source": [
    "# 사용할 마스크\n",
    "\n",
    "plotting.plot_roi(brain_mask)"
   ]
  },
  {
   "cell_type": "code",
   "execution_count": 81,
   "id": "cb0119d0-6479-4326-b1ce-1c7de449b381",
   "metadata": {},
   "outputs": [
    {
     "data": {
      "text/plain": [
       "8"
      ]
     },
     "execution_count": 81,
     "metadata": {},
     "output_type": "execute_result"
    }
   ],
   "source": [
    "# 내 CPU\n",
    "\n",
    "import os\n",
    "os.cpu_count()"
   ]
  },
  {
   "cell_type": "code",
   "execution_count": 86,
   "id": "02b76a5f-d704-4a07-9368-30591ab9006d",
   "metadata": {},
   "outputs": [],
   "source": [
    "# 서치 라이트\n",
    "# 파이프 라인 만들기\n",
    "# StandardScaler()도 넣어야하는데 우선은 빼고 해보자\n",
    "from sklearn.model_selection import KFold\n",
    "from sklearn.pipeline import make_pipeline\n",
    "\n",
    "search_cv = KFold(n_splits=5, shuffle=True, random_state=42)\n",
    "search_est = Pipeline([\n",
    "    ('scaler', StandardScaler()),\n",
    "    ('svc', LinearSVC(penalty='l2', C = 0.1,\n",
    "                      loss='squared_hinge', max_iter=500))\n",
    "])\n",
    "\n",
    "sl = SearchLight(\n",
    "    mask_img=brain_mask,\n",
    "    process_mask_img=brain_mask,\n",
    "    radius=8,  # we'll use a 5 mm radius\n",
    "    estimator=search_est,\n",
    "    n_jobs=4,  # use only 1 core (for your own analyses, you might want to increase this!)\n",
    "    scoring='accuracy',  # use accuracy as model performance metric\n",
    "    cv=search_cv,\n",
    "    verbose=True  # print a progressbar while fitting\n",
    ")"
   ]
  },
  {
   "cell_type": "code",
   "execution_count": 85,
   "id": "5cf1cb7c-dd23-40a9-8ee3-ba6a98c11bcd",
   "metadata": {},
   "outputs": [
    {
     "name": "stdout",
     "output_type": "stream",
     "text": [
      "Shape X: (65, 77, 65, 5500)\n",
      "Shape y: (5500,)\n"
     ]
    }
   ],
   "source": [
    "print(\"Shape X:\", all_func.shape)\n",
    "print(\"Shape y:\", y.shape)"
   ]
  },
  {
   "cell_type": "code",
   "execution_count": 87,
   "id": "23e3ba52-b275-420d-a6d1-3c15f18ff7da",
   "metadata": {},
   "outputs": [
    {
     "name": "stderr",
     "output_type": "stream",
     "text": [
      "[Parallel(n_jobs=4)]: Using backend LokyBackend with 4 concurrent workers.\n",
      "[Parallel(n_jobs=4)]: Done   2 out of   4 | elapsed: 826.9min remaining: 826.9min\n",
      "[Parallel(n_jobs=4)]: Done   4 out of   4 | elapsed: 844.0min finished\n"
     ]
    },
    {
     "data": {
      "text/html": [
       "<style>#sk-container-id-6 {color: black;}#sk-container-id-6 pre{padding: 0;}#sk-container-id-6 div.sk-toggleable {background-color: white;}#sk-container-id-6 label.sk-toggleable__label {cursor: pointer;display: block;width: 100%;margin-bottom: 0;padding: 0.3em;box-sizing: border-box;text-align: center;}#sk-container-id-6 label.sk-toggleable__label-arrow:before {content: \"▸\";float: left;margin-right: 0.25em;color: #696969;}#sk-container-id-6 label.sk-toggleable__label-arrow:hover:before {color: black;}#sk-container-id-6 div.sk-estimator:hover label.sk-toggleable__label-arrow:before {color: black;}#sk-container-id-6 div.sk-toggleable__content {max-height: 0;max-width: 0;overflow: hidden;text-align: left;background-color: #f0f8ff;}#sk-container-id-6 div.sk-toggleable__content pre {margin: 0.2em;color: black;border-radius: 0.25em;background-color: #f0f8ff;}#sk-container-id-6 input.sk-toggleable__control:checked~div.sk-toggleable__content {max-height: 200px;max-width: 100%;overflow: auto;}#sk-container-id-6 input.sk-toggleable__control:checked~label.sk-toggleable__label-arrow:before {content: \"▾\";}#sk-container-id-6 div.sk-estimator input.sk-toggleable__control:checked~label.sk-toggleable__label {background-color: #d4ebff;}#sk-container-id-6 div.sk-label input.sk-toggleable__control:checked~label.sk-toggleable__label {background-color: #d4ebff;}#sk-container-id-6 input.sk-hidden--visually {border: 0;clip: rect(1px 1px 1px 1px);clip: rect(1px, 1px, 1px, 1px);height: 1px;margin: -1px;overflow: hidden;padding: 0;position: absolute;width: 1px;}#sk-container-id-6 div.sk-estimator {font-family: monospace;background-color: #f0f8ff;border: 1px dotted black;border-radius: 0.25em;box-sizing: border-box;margin-bottom: 0.5em;}#sk-container-id-6 div.sk-estimator:hover {background-color: #d4ebff;}#sk-container-id-6 div.sk-parallel-item::after {content: \"\";width: 100%;border-bottom: 1px solid gray;flex-grow: 1;}#sk-container-id-6 div.sk-label:hover label.sk-toggleable__label {background-color: #d4ebff;}#sk-container-id-6 div.sk-serial::before {content: \"\";position: absolute;border-left: 1px solid gray;box-sizing: border-box;top: 0;bottom: 0;left: 50%;z-index: 0;}#sk-container-id-6 div.sk-serial {display: flex;flex-direction: column;align-items: center;background-color: white;padding-right: 0.2em;padding-left: 0.2em;position: relative;}#sk-container-id-6 div.sk-item {position: relative;z-index: 1;}#sk-container-id-6 div.sk-parallel {display: flex;align-items: stretch;justify-content: center;background-color: white;position: relative;}#sk-container-id-6 div.sk-item::before, #sk-container-id-6 div.sk-parallel-item::before {content: \"\";position: absolute;border-left: 1px solid gray;box-sizing: border-box;top: 0;bottom: 0;left: 50%;z-index: -1;}#sk-container-id-6 div.sk-parallel-item {display: flex;flex-direction: column;z-index: 1;position: relative;background-color: white;}#sk-container-id-6 div.sk-parallel-item:first-child::after {align-self: flex-end;width: 50%;}#sk-container-id-6 div.sk-parallel-item:last-child::after {align-self: flex-start;width: 50%;}#sk-container-id-6 div.sk-parallel-item:only-child::after {width: 0;}#sk-container-id-6 div.sk-dashed-wrapped {border: 1px dashed gray;margin: 0 0.4em 0.5em 0.4em;box-sizing: border-box;padding-bottom: 0.4em;background-color: white;}#sk-container-id-6 div.sk-label label {font-family: monospace;font-weight: bold;display: inline-block;line-height: 1.2em;}#sk-container-id-6 div.sk-label-container {text-align: center;}#sk-container-id-6 div.sk-container {/* jupyter's `normalize.less` sets `[hidden] { display: none; }` but bootstrap.min.css set `[hidden] { display: none !important; }` so we also need the `!important` here to be able to override the default hidden behavior on the sphinx rendered scikit-learn.org. See: https://github.com/scikit-learn/scikit-learn/issues/21755 */display: inline-block !important;position: relative;}#sk-container-id-6 div.sk-text-repr-fallback {display: none;}</style><div id=\"sk-container-id-6\" class=\"sk-top-container\"><div class=\"sk-text-repr-fallback\"><pre>SearchLight(cv=KFold(n_splits=5, random_state=42, shuffle=True),\n",
       "            estimator=Pipeline(steps=[(&#x27;scaler&#x27;, StandardScaler()),\n",
       "                                      (&#x27;svc&#x27;, LinearSVC(C=0.1, max_iter=500))]),\n",
       "            mask_img=&lt;nibabel.nifti1.Nifti1Image object at 0x000001A681152810&gt;,\n",
       "            n_jobs=4,\n",
       "            process_mask_img=&lt;nibabel.nifti1.Nifti1Image object at 0x000001A681152810&gt;,\n",
       "            radius=8, scoring=&#x27;accuracy&#x27;, verbose=True)</pre><b>In a Jupyter environment, please rerun this cell to show the HTML representation or trust the notebook. <br />On GitHub, the HTML representation is unable to render, please try loading this page with nbviewer.org.</b></div><div class=\"sk-container\" hidden><div class=\"sk-item sk-dashed-wrapped\"><div class=\"sk-label-container\"><div class=\"sk-label sk-toggleable\"><input class=\"sk-toggleable__control sk-hidden--visually\" id=\"sk-estimator-id-18\" type=\"checkbox\" ><label for=\"sk-estimator-id-18\" class=\"sk-toggleable__label sk-toggleable__label-arrow\">SearchLight</label><div class=\"sk-toggleable__content\"><pre>SearchLight(cv=KFold(n_splits=5, random_state=42, shuffle=True),\n",
       "            estimator=Pipeline(steps=[(&#x27;scaler&#x27;, StandardScaler()),\n",
       "                                      (&#x27;svc&#x27;, LinearSVC(C=0.1, max_iter=500))]),\n",
       "            mask_img=&lt;nibabel.nifti1.Nifti1Image object at 0x000001A681152810&gt;,\n",
       "            n_jobs=4,\n",
       "            process_mask_img=&lt;nibabel.nifti1.Nifti1Image object at 0x000001A681152810&gt;,\n",
       "            radius=8, scoring=&#x27;accuracy&#x27;, verbose=True)</pre></div></div></div><div class=\"sk-parallel\"><div class=\"sk-parallel-item\"><div class=\"sk-item\"><div class=\"sk-label-container\"><div class=\"sk-label sk-toggleable\"><input class=\"sk-toggleable__control sk-hidden--visually\" id=\"sk-estimator-id-19\" type=\"checkbox\" ><label for=\"sk-estimator-id-19\" class=\"sk-toggleable__label sk-toggleable__label-arrow\">estimator: Pipeline</label><div class=\"sk-toggleable__content\"><pre>Pipeline(steps=[(&#x27;scaler&#x27;, StandardScaler()),\n",
       "                (&#x27;svc&#x27;, LinearSVC(C=0.1, max_iter=500))])</pre></div></div></div><div class=\"sk-serial\"><div class=\"sk-item\"><div class=\"sk-serial\"><div class=\"sk-item\"><div class=\"sk-estimator sk-toggleable\"><input class=\"sk-toggleable__control sk-hidden--visually\" id=\"sk-estimator-id-20\" type=\"checkbox\" ><label for=\"sk-estimator-id-20\" class=\"sk-toggleable__label sk-toggleable__label-arrow\">StandardScaler</label><div class=\"sk-toggleable__content\"><pre>StandardScaler()</pre></div></div></div><div class=\"sk-item\"><div class=\"sk-estimator sk-toggleable\"><input class=\"sk-toggleable__control sk-hidden--visually\" id=\"sk-estimator-id-21\" type=\"checkbox\" ><label for=\"sk-estimator-id-21\" class=\"sk-toggleable__label sk-toggleable__label-arrow\">LinearSVC</label><div class=\"sk-toggleable__content\"><pre>LinearSVC(C=0.1, max_iter=500)</pre></div></div></div></div></div></div></div></div></div></div></div></div>"
      ],
      "text/plain": [
       "SearchLight(cv=KFold(n_splits=5, random_state=42, shuffle=True),\n",
       "            estimator=Pipeline(steps=[('scaler', StandardScaler()),\n",
       "                                      ('svc', LinearSVC(C=0.1, max_iter=500))]),\n",
       "            mask_img=<nibabel.nifti1.Nifti1Image object at 0x000001A681152810>,\n",
       "            n_jobs=4,\n",
       "            process_mask_img=<nibabel.nifti1.Nifti1Image object at 0x000001A681152810>,\n",
       "            radius=8, scoring='accuracy', verbose=True)"
      ]
     },
     "execution_count": 87,
     "metadata": {},
     "output_type": "execute_result"
    }
   ],
   "source": [
    "sl.fit(all_func, y)"
   ]
  },
  {
   "cell_type": "code",
   "execution_count": 89,
   "id": "fd1dce6c-6f17-445d-8adb-1177dbe45978",
   "metadata": {},
   "outputs": [
    {
     "data": {
      "text/plain": [
       "<nilearn.plotting.displays._slicers.OrthoSlicer at 0x1a689077a50>"
      ]
     },
     "execution_count": 89,
     "metadata": {},
     "output_type": "execute_result"
    },
    {
     "data": {
      "image/png": "[encoded data removed]",
      "text/plain": [
       "<Figure size 730x350 with 5 Axes>"
      ]
     },
     "metadata": {},
     "output_type": "display_data"
    }
   ],
   "source": [
    "# 정확도 임계값 넘는 거만 한번 보자.\n",
    "score_img = image.new_img_like(brain_mask, sl.scores_)\n",
    "plotting.plot_stat_map(score_img, threshold=0.55)"
   ]
  },
  {
   "cell_type": "code",
   "execution_count": 51,
   "id": "20989dfa-920b-4b06-9da9-00064d0beaa3",
   "metadata": {},
   "outputs": [
    {
     "data": {
      "text/plain": [
       "array([[ 8, 30, 25],\n",
       "       [ 8, 30, 26],\n",
       "       [ 8, 31, 24],\n",
       "       ...,\n",
       "       [57, 33, 23],\n",
       "       [57, 37, 30],\n",
       "       [57, 40, 22]], dtype=int64)"
      ]
     },
     "execution_count": 51,
     "metadata": {},
     "output_type": "execute_result"
    }
   ],
   "source": [
    "# 좌표 추출\n",
    "above_threshold_coords = np.argwhere(sl.scores_ >= 0.56)\n",
    "above_threshold_coords"
   ]
  },
  {
   "cell_type": "code",
   "execution_count": 52,
   "id": "c545e6bb-0df2-4c71-a8fb-18a27f78a31d",
   "metadata": {},
   "outputs": [
    {
     "ename": "AttributeError",
     "evalue": "'SearchLight' object has no attribute 'predict'",
     "output_type": "error",
     "traceback": [
      "\u001b[1;31m---------------------------------------------------------------------------\u001b[0m",
      "\u001b[1;31mAttributeError\u001b[0m                            Traceback (most recent call last)",
      "Cell \u001b[1;32mIn[52], line 1\u001b[0m\n\u001b[1;32m----> 1\u001b[0m pred_sl \u001b[38;5;241m=\u001b[39m \u001b[43msl\u001b[49m\u001b[38;5;241;43m.\u001b[39;49m\u001b[43mpredict\u001b[49m(all_func)\n\u001b[0;32m      3\u001b[0m confusion_sl \u001b[38;5;241m=\u001b[39m confusion_matrix(y_test_sl, pred_sl)\n\u001b[0;32m      4\u001b[0m accuracy_sl \u001b[38;5;241m=\u001b[39m accuracy_score(y_test_sl, pred_sl)\n",
      "\u001b[1;31mAttributeError\u001b[0m: 'SearchLight' object has no attribute 'predict'"
     ]
    }
   ],
   "source": [
    "pred_sl = sl.predict(all_func)\n",
    "\n",
    "confusion_sl = confusion_matrix(y_test_sl, pred_sl)\n",
    "accuracy_sl = accuracy_score(y_test_sl, pred_sl)\n",
    "recall_sl = recall_score(y_test_sl, pred_sl)\n",
    "precision_sl = precision_score(y_test_sl, pred_sl)\n",
    "\n",
    "print('혼동행렬 : \\n',\n",
    "      confusion_sl)\n",
    "print(f\"정확도 : {accuracy_sl:.4f}, 민감도 : {recall_sl:.4f}, 정밀도 : {precision_sl:.4f}\")"
   ]
  },
  {
   "cell_type": "code",
   "execution_count": null,
   "id": "7b3e9e34-7ba4-43b9-a96f-86f10101aaba",
   "metadata": {},
   "outputs": [],
   "source": [
    "from sklearn.model_selection import cross_val_score, KFold\n",
    "from sklearn.pipeline import Pipeline\n",
    "from sklearn.preprocessing import StandardScaler\n",
    "\n",
    "pipeline = Pipeline([\n",
    "    ('prerocessor', StandardScaler()),\n",
    "    ('model', clf)\n",
    "])\n",
    "\n",
    "kfold = KFold(n_splits=5, shuffle=True, random_state=42)\n",
    "cv_scores = cross_val_score(pipeline, X, y, cv=kfold, scoring='accuracy')"
   ]
  },
  {
   "cell_type": "code",
   "execution_count": null,
   "id": "cb147da8-27b6-4a6b-a49c-19b0f2b924ac",
   "metadata": {},
   "outputs": [],
   "source": [
    "cv_scores"
   ]
  }
 ],
 "metadata": {
  "kernelspec": {
   "display_name": "Python 3 (ipykernel)",
   "language": "python",
   "name": "python3"
  },
  "language_info": {
   "codemirror_mode": {
    "name": "ipython",
    "version": 3
   },
   "file_extension": ".py",
   "mimetype": "text/x-python",
   "name": "python",
   "nbconvert_exporter": "python",
   "pygments_lexer": "ipython3",
   "version": "3.9.13"
  }
 },
 "nbformat": 4,
 "nbformat_minor": 5
}
